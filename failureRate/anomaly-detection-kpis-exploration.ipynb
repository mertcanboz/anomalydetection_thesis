{
 "cells": [
  {
   "cell_type": "markdown",
   "id": "banner-photograph",
   "metadata": {},
   "source": [
    "## Evaluation criteria for Unsupervised Anomaly Detection"
   ]
  },
  {
   "cell_type": "markdown",
   "id": "experimental-region",
   "metadata": {},
   "source": [
    "As we do not have true labels for anomalies, it is challenging to evalaute performance and correctness of different ML algorithms. This document explores some of the options which we can try to tackle this problem. "
   ]
  },
  {
   "cell_type": "code",
   "execution_count": null,
   "id": "first-damages",
   "metadata": {},
   "outputs": [],
   "source": []
  }
 ],
 "metadata": {
  "kernelspec": {
   "display_name": "Python 3",
   "language": "python",
   "name": "python3"
  },
  "language_info": {
   "codemirror_mode": {
    "name": "ipython",
    "version": 3
   },
   "file_extension": ".py",
   "mimetype": "text/x-python",
   "name": "python",
   "nbconvert_exporter": "python",
   "pygments_lexer": "ipython3",
   "version": "3.8.6"
  }
 },
 "nbformat": 4,
 "nbformat_minor": 5
}
