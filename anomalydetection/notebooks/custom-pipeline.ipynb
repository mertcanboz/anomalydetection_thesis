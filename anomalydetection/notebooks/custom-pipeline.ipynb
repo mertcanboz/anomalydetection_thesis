{
 "cells": [
  {
   "cell_type": "code",
   "execution_count": 1,
   "id": "6f46e9a8-d050-4628-845f-4d5da14e83c8",
   "metadata": {},
   "outputs": [],
   "source": [
    "import kfp\n",
    "from kfp.components import create_component_from_func"
   ]
  },
  {
   "cell_type": "code",
   "execution_count": 10,
   "id": "b1f05ed6-c6ca-4ce5-a724-5e3975ee091d",
   "metadata": {},
   "outputs": [],
   "source": [
    "INGRESS_GATEWAY='http://istio-ingressgateway.istio-system.svc.cluster.local'\n",
    "EXPERIMENT=\"DemoModelServing\"\n",
    "NAMESPACE=\"dev-profile\""
   ]
  },
  {
   "cell_type": "code",
   "execution_count": 11,
   "id": "9a09b3e0-f0ff-435b-97b5-153c4ebc6cd9",
   "metadata": {},
   "outputs": [],
   "source": [
    "COOKIE=\"authservice_session=\"+'MTY0NjM1NTA5N3xOd3dBTkVwQlJqVk5Oak5aUTBGSFFWUTJSVXcxVTBKSldWQkJURnBHVDBkYU5sTk5SMVpXTWtoWlVqWlFUVlkyTlVaYVdFVlJOa0U9fOB7TAUsImQ3WllMpjUYyhNKE9NlNFTEbT7G3lEu-6ae'\n",
    "client = kfp.Client(host=INGRESS_GATEWAY+\"/pipeline\", cookies=COOKIE)"
   ]
  },
  {
   "cell_type": "code",
   "execution_count": 12,
   "id": "1d70edc0-d137-4fdb-b9aa-47bd47520f57",
   "metadata": {},
   "outputs": [],
   "source": [
    "import kfp\n",
    "from kfp import dsl\n",
    "import json\n",
    "import os\n",
    "from kfp.onprem import use_k8s_secret\n",
    "from kfp import components\n",
    "from kfp.components import load_component_from_file, load_component_from_url\n",
    "from kfp import dsl\n",
    "from kfp import compiler\n",
    "from kfp.components import create_component_from_func\n",
    "\n",
    "\n",
    "def deploy_isvc(service_name, namespace, storage_uri):\n",
    "    import kfp\n",
    "    resource = \"\"\"\n",
    "apiVersion: serving.kserve.io/v1beta1\n",
    "kind: InferenceService\n",
    "metadata:\n",
    "  name: {}\n",
    "  namespace: {}\n",
    "  annotations:\n",
    "    sidecar.istio.io/inject: \"false\"\n",
    "spec:\n",
    "  predictor:\n",
    "    serviceAccountName: minio-sa\n",
    "    containers:\n",
    "      - name: kserve-container\n",
    "        image: pytorch/torchserve:latest-cpu\n",
    "        args:\n",
    "          - torchserve\n",
    "          - --start\n",
    "          - --no-config-snapshots\n",
    "          - --model-store=/mnt/models/model-store\n",
    "          - --ts-config=/mnt/models/config/config.properties\n",
    "          - --models all\n",
    "        env:\n",
    "          - name: STORAGE_URI\n",
    "            value: {}\n",
    "\"\"\".format(service_name, namespace, storage_uri)\n",
    "    rop = dsl.ResourceOp(\n",
    "        name=\"create-inference-service\",\n",
    "        k8s_resource=resource,\n",
    "        action=\"create\",\n",
    "        attribute_outputs={\"name\": \"{.metadata.name}\"}\n",
    "    )\n",
    "    \n",
    "    dsl.get_pipeline_conf().add_op_transformer(\n",
    "        use_k8s_secret(\n",
    "            secret_name=\"minio-secret\",\n",
    "            k8s_secret_key_to_env={\n",
    "                \"secretkey\": \"MINIO_SECRET_KEY\",\n",
    "                \"accesskey\": \"MINIO_ACCESS_KEY\",\n",
    "            },\n",
    "        )\n",
    "    )\n",
    "\n",
    "deploy_isvc_op = create_component_from_func(\n",
    "    deploy_isvc, output_component_file='isvc_component.yaml')\n",
    "\n",
    "@dsl.pipeline(\n",
    "    name=\"Deploy a model in pipeline\", description=\"foobar\"\n",
    ")\n",
    "def deploy_pytorch_model(service_name, namespace, storage_uri):\n",
    "    deploy_isvc_op(service_name, namespace, storage_uri)"
   ]
  },
  {
   "cell_type": "code",
   "execution_count": 13,
   "id": "0c555510-c1e5-4e49-9ca3-097a50b6e41e",
   "metadata": {},
   "outputs": [
    {
     "data": {
      "text/html": [
       "<a href=\"http://istio-ingressgateway.istio-system.svc.cluster.local/pipeline/#/experiments/details/361ca21e-5c21-4abf-88ea-41ceb8986b90\" target=\"_blank\" >Experiment details</a>."
      ],
      "text/plain": [
       "<IPython.core.display.HTML object>"
      ]
     },
     "metadata": {},
     "output_type": "display_data"
    },
    {
     "data": {
      "text/html": [
       "<a href=\"http://istio-ingressgateway.istio-system.svc.cluster.local/pipeline/#/runs/details/99b6a48d-1534-4c78-809b-ffcdd40c36b0\" target=\"_blank\" >Run details</a>."
      ],
      "text/plain": [
       "<IPython.core.display.HTML object>"
      ]
     },
     "metadata": {},
     "output_type": "display_data"
    },
    {
     "data": {
      "text/plain": [
       "RunPipelineResult(run_id=99b6a48d-1534-4c78-809b-ffcdd40c36b0)"
      ]
     },
     "execution_count": 13,
     "metadata": {},
     "output_type": "execute_result"
    }
   ],
   "source": [
    "arguments = {'service_name': 'demo-isvc-kfp', 'namespace': 'dev-profile', 'storage_uri': 's3://mlpipeline/models/pytorch'}\n",
    "\n",
    "# Create a pipeline run, using the client you initialized in a prior step.\n",
    "client.create_run_from_pipeline_func(deploy_pytorch_model, arguments=arguments)"
   ]
  }
 ],
 "metadata": {
  "kernelspec": {
   "display_name": "Python 3",
   "language": "python",
   "name": "python3"
  },
  "language_info": {
   "codemirror_mode": {
    "name": "ipython",
    "version": 3
   },
   "file_extension": ".py",
   "mimetype": "text/x-python",
   "name": "python",
   "nbconvert_exporter": "python",
   "pygments_lexer": "ipython3",
   "version": "3.8.10"
  }
 },
 "nbformat": 4,
 "nbformat_minor": 5
}