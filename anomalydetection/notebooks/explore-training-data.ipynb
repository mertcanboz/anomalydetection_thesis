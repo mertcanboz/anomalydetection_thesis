{
 "cells": [
  {
   "cell_type": "code",
   "execution_count": 168,
   "id": "5bf8a7b9",
   "metadata": {},
   "outputs": [],
   "source": [
    "from tqdm.notebook import tqdm\n",
    "from torch.utils.data import Dataset, random_split\n",
    "import numpy as np\n",
    "import os\n",
    "import json\n",
    "import csv\n",
    "import time\n",
    "import torch\n",
    "from torch import nn, optim\n",
    "from torch.autograd import Variable\n",
    "from torch.nn import functional as F\n",
    "import math\n",
    "from sklearn.metrics import f1_score, precision_score, recall_score\n",
    "import pandas as pd\n",
    "import matplotlib.pyplot as plt"
   ]
  },
  {
   "cell_type": "code",
   "execution_count": 169,
   "id": "8bab6b34",
   "metadata": {},
   "outputs": [],
   "source": [
    "WINDOW_SIZE = 1440\n",
    "LEARNING_RATE = 1e-5\n",
    "EPOCHS = 10\n",
    "TAU = 3 #threshold value for the preceding SR score values in the paper\n",
    "q = 3\n",
    "k = 5 # number of extended values (to bring the last value in the middle)\n",
    "m = 5\n",
    "z= 21 # as in the paper~\n",
    "threshold = 0.5"
   ]
  },
  {
   "cell_type": "code",
   "execution_count": 157,
   "id": "80e03767",
   "metadata": {},
   "outputs": [],
   "source": [
    "def spectral_residual(values):\n",
    "    \"\"\"\n",
    "    This method transform a time series into spectral residual series\n",
    "    :param values: list.\n",
    "        a list of float values.\n",
    "    :return: mag: list.\n",
    "        a list of float values as the spectral residual values\n",
    "    \"\"\"\n",
    "    EPS = 1e-8\n",
    "    trans = np.fft.fft(values)\n",
    "    mag = np.sqrt(trans.real ** 2 + trans.imag ** 2)\n",
    "\n",
    "    maglog = [np.log(item) if abs(item) > EPS else 0 for item in mag]\n",
    "\n",
    "    spectral = np.exp(maglog - average_filter(maglog, n=q))\n",
    "\n",
    "    trans.real = [ireal * ispectral / imag if abs(imag) > EPS else 0\n",
    "                  for ireal, ispectral, imag in zip(trans.real, spectral, mag)]\n",
    "    trans.imag = [iimag * ispectral / imag if abs(imag) > EPS else 0\n",
    "                  for iimag, ispectral, imag in zip(trans.imag, spectral, mag)]\n",
    "\n",
    "    wave_r = np.fft.ifft(trans)\n",
    "    mag = np.sqrt(wave_r.real ** 2 + wave_r.imag ** 2)\n",
    "\n",
    "    return mag\n",
    "\n",
    "def average_filter(values, n=q):\n",
    "    \"\"\"\n",
    "    Calculate the sliding window average for the give time series.\n",
    "    Mathematically, res[i] = sum_{j=i-t+1}^{i} values[j] / t, where t = min(n, i+1)\n",
    "    :param values: list.\n",
    "        a list of float numbers\n",
    "    :param n: int, default 3.\n",
    "        window size.\n",
    "    :return res: list.\n",
    "        a list of value after the average_filter process.\n",
    "    \"\"\"\n",
    "\n",
    "    if n >= len(values):\n",
    "        n = len(values)\n",
    "\n",
    "    res = np.cumsum(values, dtype=float)\n",
    "    res[n:] = res[n:] - res[:-n]\n",
    "    res[n:] = res[n:] / n\n",
    "\n",
    "    for i in range(1, n):\n",
    "        res[i] /= (i + 1)\n",
    "\n",
    "    return res\n",
    "\n",
    "def predict_next(values):\n",
    "    \"\"\"\n",
    "    Predicts the next value by sum up the slope of the last value with previous values.\n",
    "    Mathematically, g = 1/m * sum_{i=1}^{m} g(x_n, x_{n-i}), x_{n+1} = x_{n-m+1} + g * m,\n",
    "    where g(x_i,x_j) = (x_i - x_j) / (i - j)\n",
    "    :param values: list.\n",
    "        a list of float numbers.\n",
    "    :return : float.\n",
    "        the predicted next value.\n",
    "    \"\"\"\n",
    "\n",
    "    if len(values) <= 1:\n",
    "        raise ValueError(f'data should contain at least 2 numbers')\n",
    "\n",
    "    v_last = values[-1]\n",
    "    n = len(values)\n",
    "\n",
    "    slopes = [(v_last - v) / (n - 1 - i) for i, v in enumerate(values[:-1])]\n",
    "\n",
    "    return values[1] + sum(slopes)\n",
    "\n",
    "def extend_series(values, extend_num=k, look_ahead=m):\n",
    "    \"\"\"\n",
    "    extend the array data by the predicted next value\n",
    "    :param values: list.\n",
    "        a list of float numbers.\n",
    "    :param extend_num: int, default 5.\n",
    "        number of values added to the back of data.\n",
    "    :param look_ahead: int, default 5.\n",
    "        number of previous values used in prediction.\n",
    "    :return: list.\n",
    "        The result array.\n",
    "    \"\"\"\n",
    "\n",
    "    if look_ahead < 1:\n",
    "        raise ValueError('look_ahead must be at least 1')\n",
    "\n",
    "    extension = [predict_next(values[-look_ahead - 1:-1])] * extend_num\n",
    "    return np.concatenate((values, extension), axis=0)\n",
    "\n",
    "def normalize(a):\n",
    "    amin = np.min(a)\n",
    "    amax = np.max(a)\n",
    "    a = (a - amin) / (amax - amin + 1e-5)\n",
    "    return a\n",
    "\n",
    "def cuda_if_available(x):\n",
    "    if torch.cuda.is_available():\n",
    "        return x.cuda()\n",
    "    else:\n",
    "        return x.cpu()\n",
    "\n",
    "def calc(pred, true):\n",
    "    TP = 0\n",
    "    FP = 0\n",
    "    TN = 0\n",
    "    FN = 0\n",
    "    for pre, gt in zip(pred, true):\n",
    "        if gt == 1:\n",
    "            if pre == 1:\n",
    "                TP += 1\n",
    "            else:\n",
    "                FN += 1\n",
    "        if gt == 0:\n",
    "            if pre == 1:\n",
    "                FP += 1\n",
    "            else:\n",
    "                TN += 1\n",
    "    #print('TP=%d FP=%d TN=%d FN=%d' % (TP, FP, TN, FN))\n",
    "    return TP, FP, TN, FN\n",
    "\n",
    "class Anomaly(nn.Module):\n",
    "    def __init__(self, window=WINDOW_SIZE):\n",
    "        self.window = window\n",
    "        super(Anomaly, self).__init__()\n",
    "        self.layer1 = nn.Conv1d(window, window, kernel_size=1, stride=1, padding=0)\n",
    "        self.layer2 = nn.Conv1d(window, 2 * window, kernel_size=1, stride=1, padding=0)\n",
    "        self.fc1 = nn.Linear(2 * window, 4 * window)\n",
    "        self.fc2 = nn.Linear(4 * window, window)\n",
    "        self.relu = nn.ReLU(inplace=True)\n",
    "\n",
    "    def forward(self, x):\n",
    "        x = x.view(x.size(0), self.window, 1)\n",
    "        x = self.layer1(x)\n",
    "        x = self.relu(x)\n",
    "        x = self.layer2(x)\n",
    "        x = x.view(x.size(0), -1)\n",
    "        x = self.relu(x)\n",
    "        x = self.fc1(x)\n",
    "        x = self.relu(x)\n",
    "        x = self.fc2(x)\n",
    "        return torch.sigmoid(x)\n",
    "\n",
    "def reconstruct_label(timestamp, label):\n",
    "    timestamp = np.asarray(timestamp, np.int64)\n",
    "    index = np.argsort(timestamp)\n",
    "\n",
    "    timestamp_sorted = np.asarray(timestamp[index])\n",
    "    interval = np.min(np.diff(timestamp_sorted))\n",
    "\n",
    "    label = np.asarray(label, np.int64)\n",
    "    label = np.asarray(label[index])\n",
    "\n",
    "    idx = (timestamp_sorted - timestamp_sorted[0]) // interval\n",
    "\n",
    "    new_label = np.zeros(shape=((timestamp_sorted[-1] - timestamp_sorted[0]) // interval + 1,), dtype=np.int64)\n",
    "    new_label[idx] = label\n",
    "\n",
    "    return new_label\n",
    "\n",
    "def get_range_proba(predict, label, delay=7):\n",
    "    predict = np.array(predict)\n",
    "    label = np.array(label)\n",
    "\n",
    "    splits = np.where(label[1:] != label[:-1])[0] + 1\n",
    "    is_anomaly = label[0] == 1\n",
    "    new_predict = np.array(predict)\n",
    "    pos = 0\n",
    "\n",
    "    for sp in splits:\n",
    "        if is_anomaly:\n",
    "            if 1 in predict[pos:min(pos + delay + 1, sp)]:\n",
    "                new_predict[pos: sp] = 1\n",
    "            else:\n",
    "                new_predict[pos: sp] = 0\n",
    "        is_anomaly = not is_anomaly\n",
    "        pos = sp\n",
    "    sp = len(label)\n",
    "\n",
    "    if is_anomaly:\n",
    "        if 1 in predict[pos: min(pos + delay + 1, sp)]:\n",
    "            new_predict[pos: sp] = 1\n",
    "        else:\n",
    "            new_predict[pos: sp] = 0\n",
    "\n",
    "    return new_predict\n",
    "\n",
    "def reconstruct_series(timestamp, label, predict, delay=7):\n",
    "    label = reconstruct_label(timestamp, label)\n",
    "    predict = reconstruct_label(timestamp, predict)\n",
    "    predict = get_range_proba(predict, label, delay)\n",
    "    return label.tolist(), predict.tolist()"
   ]
  },
  {
   "cell_type": "code",
   "execution_count": 158,
   "id": "95236f7b",
   "metadata": {},
   "outputs": [],
   "source": [
    "def highlight(indices,ax, thickness=0.5):\n",
    "    i=0\n",
    "    while i<len(indices):\n",
    "        ax.axvspan(indices[i]-thickness, indices[i]+thickness, facecolor='red', edgecolor='none', alpha=.9)\n",
    "        i+=1\n",
    "\n",
    "def plots(values, is_anomaly, interval=[0,100], fig_size=(40,4)):\n",
    "    df = pd.DataFrame()\n",
    "    start_index= (len(values) * interval[0]) // 100\n",
    "    end_index = (len(values) * interval[1]) // 100\n",
    "    df['value'] = values[start_index:end_index]\n",
    "    df['is_anomaly'] = is_anomaly[start_index:end_index]\n",
    "    df = df.reset_index()\n",
    "    \n",
    "    ax1 = df.plot(kind='line', x='index', y='value', color='b', figsize=fig_size) \n",
    "    highlight(df[df['is_anomaly']==1].index, ax1, 0.5)"
   ]
  },
  {
   "cell_type": "code",
   "execution_count": 159,
   "id": "f0f62b30",
   "metadata": {},
   "outputs": [],
   "source": [
    "class gen_set(Dataset):\n",
    "    def __init__(self, width, data, label_anomalies=True):\n",
    "        self.genlen = 0\n",
    "        self.len = self.genlen\n",
    "        self.width = width\n",
    "        self.kpinegraw = data\n",
    "        self.negrawlen = len(self.kpinegraw)\n",
    "        print('length :', len(self.kpinegraw))\n",
    "        self.len += self.negrawlen\n",
    "        self.kpineglen = 0\n",
    "        self.control = 0.\n",
    "        self.label_anomaly = label_anomalies\n",
    "\n",
    "    def __len__(self):\n",
    "        return self.len\n",
    "\n",
    "    def __getitem__(self, index):\n",
    "        idx = index % self.negrawlen\n",
    "        datas = self.kpinegraw[idx]\n",
    "        datas = np.array(datas)\n",
    "        data = datas[0, :].astype(np.float64)\n",
    "        lbs = datas[1, :].astype(np.float64)\n",
    "        wave = spectral_residual(data)\n",
    "        if self.label_anomaly:\n",
    "            waveavg = average_filter(wave, n=z)\n",
    "            for i in range(self.width):\n",
    "                if wave[i] < 0.001 and waveavg[i] < 0.001:\n",
    "                    lbs[i] = 0\n",
    "                    continue\n",
    "                ratio = wave[i] / waveavg[i]\n",
    "                if ratio < 1.0 and lbs[i] == 1:\n",
    "                    lbs[i] = 0\n",
    "                if ratio > 5.0:\n",
    "                    lbs[i] = 1\n",
    "            srscore = abs(wave - waveavg) / (waveavg + 0.001)\n",
    "            lbs[srscore > TAU] = 1\n",
    "        resdata = torch.from_numpy(wave)\n",
    "        reslb = torch.from_numpy(lbs)\n",
    "        return resdata, reslb"
   ]
  },
  {
   "cell_type": "code",
   "execution_count": 160,
   "id": "6267f89a",
   "metadata": {},
   "outputs": [],
   "source": [
    "kpis = {}\n",
    "DATA_PATH=os.getcwd()+'/../sr-cnn/train.csv'\n",
    "anomalies = 0\n",
    "with open(DATA_PATH) as f:\n",
    "    input = csv.reader(f, delimiter=',')\n",
    "    cnt = 0\n",
    "    for row in input:\n",
    "        if cnt == 0:\n",
    "            cnt += 1\n",
    "            continue\n",
    "        kpi = kpis.get(str(row[3]), [[],[],[]])\n",
    "        kpi[0].append(int(row[0])) #timestamp\n",
    "        kpi[1].append(float(row[1])) #value\n",
    "        kpi[2].append(int(row[2])) #label\n",
    "        kpis[str(row[3])] = kpi\n",
    "        cnt += 1\n",
    "        if int(row[2]) == 1:\n",
    "            anomalies += 1\n",
    "    f.close()"
   ]
  },
  {
   "cell_type": "code",
   "execution_count": 161,
   "id": "8cf682c0",
   "metadata": {},
   "outputs": [],
   "source": [
    "class gen():\n",
    "    def __init__(self, win_siz, step, nums):\n",
    "        self.control = 0\n",
    "        self.win_siz = win_siz\n",
    "        self.step = step\n",
    "        self.number = nums\n",
    "\n",
    "    def generate_train_data(self, value, labels, back=q, insert_anomalies=True):\n",
    "        number_anomalies_added = 0\n",
    "        total_length = 0\n",
    "\n",
    "        length = len(value)\n",
    "        tmp = []\n",
    "        for pt in range(self.win_siz, length - back, self.step):\n",
    "            head = max(0, pt - self.win_siz)\n",
    "            tail = min(length - back, pt)\n",
    "            data = np.array(value[head:tail])\n",
    "            data = data.astype(np.float64)\n",
    "            data = normalize(data)\n",
    "            lbs = np.array(labels[head:tail])\n",
    "            if insert_anomalies:\n",
    "                num = np.random.randint(1, self.number)\n",
    "                ids = np.random.choice(self.win_siz, num, replace=False)\n",
    "                if (self.win_siz - 6) not in ids:\n",
    "                    self.control += np.random.random()\n",
    "                else:\n",
    "                    self.control = 0\n",
    "                if self.control > 100:\n",
    "                    ids[0] = self.win_siz - 6\n",
    "                    self.control = 0\n",
    "                mean = np.mean(data)\n",
    "                dataavg = average_filter(data)\n",
    "                var = np.var(data)\n",
    "                for id in ids:\n",
    "                    rndm = np.random.randn() * 3\n",
    "                    while abs(rndm) < 0.2:\n",
    "                        rndm = np.random.randn() * 3\n",
    "                    data[id] += (dataavg[id] + mean) * (rndm) * min((1 + var), 10)\n",
    "                    lbs[id] = 1\n",
    "                    number_anomalies_added += 1\n",
    "            total_length += len(data)\n",
    "            tmp.append([data.tolist(), lbs.tolist()])\n",
    "        print('number of anomalies added:', number_anomalies_added, ' total length of data:', total_length)\n",
    "        return tmp"
   ]
  },
  {
   "cell_type": "code",
   "execution_count": 162,
   "id": "1638e217",
   "metadata": {},
   "outputs": [],
   "source": [
    "train_kpis = {}\n",
    "validation_kpis = {}\n",
    "rate = 1\n",
    "for kpi_id in kpis:\n",
    "    kpi = kpis[kpi_id]\n",
    "    train_length = math.ceil(len(kpi[0]) * rate)\n",
    "    train_kpis[kpi_id] = [kpi[0][0:train_length], kpi[1][0:train_length], kpi[2][0:train_length]]\n",
    "    validation_kpis[kpi_id] = [kpi[0][train_length:], kpi[1][train_length:], kpi[2][train_length:]]"
   ]
  },
  {
   "cell_type": "code",
   "execution_count": 163,
   "id": "dc23a810",
   "metadata": {},
   "outputs": [
    {
     "name": "stdout",
     "output_type": "stream",
     "text": [
      "number of anomalies added: 0  total length of data: 107280\n",
      "number of anomalies added: 0  total length of data: 8640\n",
      "number of anomalies added: 0  total length of data: 10800\n",
      "number of anomalies added: 0  total length of data: 8640\n",
      "number of anomalies added: 0  total length of data: 8640\n",
      "number of anomalies added: 0  total length of data: 8640\n",
      "number of anomalies added: 0  total length of data: 8640\n",
      "number of anomalies added: 0  total length of data: 8640\n",
      "number of anomalies added: 0  total length of data: 128880\n",
      "number of anomalies added: 0  total length of data: 128160\n",
      "number of anomalies added: 0  total length of data: 128880\n",
      "number of anomalies added: 0  total length of data: 128160\n",
      "number of anomalies added: 0  total length of data: 128160\n",
      "number of anomalies added: 0  total length of data: 128160\n",
      "number of anomalies added: 0  total length of data: 128880\n",
      "number of anomalies added: 0  total length of data: 146160\n",
      "number of anomalies added: 0  total length of data: 146160\n",
      "number of anomalies added: 0  total length of data: 146160\n",
      "number of anomalies added: 0  total length of data: 146160\n",
      "number of anomalies added: 0  total length of data: 144720\n",
      "number of anomalies added: 0  total length of data: 108000\n",
      "number of anomalies added: 0  total length of data: 108000\n",
      "number of anomalies added: 0  total length of data: 105840\n",
      "number of anomalies added: 0  total length of data: 145440\n",
      "number of anomalies added: 0  total length of data: 146160\n",
      "number of anomalies added: 0  total length of data: 146160\n",
      "number of anomalies added: 0  total length of data: 146160\n",
      "number of anomalies added: 0  total length of data: 146160\n",
      "number of anomalies added: 0  total length of data: 146160\n"
     ]
    }
   ],
   "source": [
    "MAX_NUMBER_OF_ANOMALOUS_POINTS_TO_ADD = 10\n",
    "\n",
    "training_data = {}\n",
    "validation_data = []\n",
    "generator = gen(WINDOW_SIZE, WINDOW_SIZE, MAX_NUMBER_OF_ANOMALOUS_POINTS_TO_ADD)\n",
    "for kpi_id in kpis:\n",
    "    train_kpi = train_kpis[kpi_id]\n",
    "    in_timestamp = train_kpi[0]\n",
    "    in_value = train_kpi[1]\n",
    "    in_label = train_kpi[2]\n",
    "    train_data = generator.generate_train_data(in_value, in_label, insert_anomalies=False)\n",
    "    training_data[kpi_id] = train_data\n",
    "    \n",
    "    #valid_kpi = validation_kpis[kpi_id]\n",
    "    #vld_data = generator.generate_train_data(valid_kpi[1], valid_kpi[2], insert_anomalies=False)\n",
    "    #validation_data += vld_data"
   ]
  },
  {
   "cell_type": "code",
   "execution_count": 164,
   "id": "6a4404c9",
   "metadata": {},
   "outputs": [
    {
     "name": "stdout",
     "output_type": "stream",
     "text": [
      "length : 149\n",
      "length : 12\n",
      "length : 15\n",
      "length : 12\n",
      "length : 12\n",
      "length : 12\n",
      "length : 12\n",
      "length : 12\n",
      "length : 179\n",
      "length : 178\n",
      "length : 179\n",
      "length : 178\n",
      "length : 178\n",
      "length : 178\n",
      "length : 179\n",
      "length : 203\n",
      "length : 203\n",
      "length : 203\n",
      "length : 203\n",
      "length : 201\n",
      "length : 150\n",
      "length : 150\n",
      "length : 147\n",
      "length : 202\n",
      "length : 203\n",
      "length : 203\n",
      "length : 203\n",
      "length : 203\n",
      "length : 203\n"
     ]
    }
   ],
   "source": [
    "gen_data_train = {}\n",
    "for kpi_id in training_data:\n",
    "    kpi = training_data[kpi_id]\n",
    "    gen_data_train[kpi_id] = gen_set(WINDOW_SIZE, kpi, label_anomalies=False)"
   ]
  },
  {
   "cell_type": "code",
   "execution_count": 165,
   "id": "ac432a8a",
   "metadata": {},
   "outputs": [],
   "source": [
    "training_final = []\n",
    "validation_final = []\n",
    "for kpi_id in gen_data_train:\n",
    "    kpi = gen_data_train[kpi_id]\n",
    "    n_train = math.ceil(len(kpi) *0.5)\n",
    "    n_validate = len(kpi) - n_train\n",
    "    train_data, validation_data = torch.utils.data.random_split(kpi,[n_train,n_validate])\n",
    "    training_final += train_data\n",
    "    validation_final += validation_data"
   ]
  },
  {
   "cell_type": "code",
   "execution_count": 166,
   "id": "b8308fa1",
   "metadata": {},
   "outputs": [],
   "source": [
    "def adjust_lr(optimizer, epoch):\n",
    "    cur_lr = LEARNING_RATE * (0.5 ** ((epoch + 10) // 10))\n",
    "    print('Learning rate changed to: ', cur_lr)\n",
    "    for param in optimizer.param_groups:\n",
    "        param['lr'] = cur_lr\n",
    "\n",
    "def Var(x):\n",
    "    return Variable(cuda_if_available(x))\n",
    "\n",
    "def loss_function(x, lb, win_size=WINDOW_SIZE):\n",
    "    l2_reg = 0.\n",
    "    l2_weight = 0.5\n",
    "    for W in net.parameters():\n",
    "        l2_reg = l2_reg + W.norm(2)\n",
    "    kpiweight = torch.ones(lb.shape)\n",
    "    kpiweight[lb == 1] = win_size // 100\n",
    "    kpiweight = cuda_if_available(kpiweight)\n",
    "    BCE = F.binary_cross_entropy(x, lb, weight=kpiweight, reduction='mean')\n",
    "    #print(l2_reg.item(), l2_weight, BCE.item())\n",
    "    #print(x.shape[0])\n",
    "    return l2_reg * l2_weight / x.shape[0] + BCE\n",
    "\n",
    "def train(epoch, net, train_loader, valid_loader, optimizer):\n",
    "    \n",
    "    net.train()\n",
    "    train_loss = 0.\n",
    "    totTP, totFP, totTN, totFN = 0, 0, 0, 0\n",
    "    for batch_idx, (inputs, lb) in enumerate(tqdm(train_loader, desc=\"Iteration\")):\n",
    "        optimizer.zero_grad()\n",
    "        \n",
    "        \n",
    "        # forward propagate\n",
    "        inputs = inputs.float()\n",
    "        lb = lb.float()        \n",
    "        valueseq = Var(inputs)\n",
    "        lb = Var(lb)\n",
    "        output = net(valueseq)\n",
    "        \n",
    "        \n",
    "        loss1 = loss_function(output, lb)\n",
    "        loss1.backward()\n",
    "        train_loss += loss1.item()\n",
    "        optimizer.step()\n",
    "        #torch.nn.utils.clip_grad_norm_(net.parameters(), 5.0)\n",
    "        \n",
    "        if batch_idx % train_loader.batch_size == 0:\n",
    "            print('Train Epoch: {} [{}/{} ({:.0f}%)]\\tLoss: {:.6f}'.format(\n",
    "                epoch, batch_idx , len(train_loader),\n",
    "                       100. * batch_idx / len(train_loader),\n",
    "                       loss1.item()))\n",
    "            \n",
    "    \n",
    "    net.eval()\n",
    "    valid_loss = 0.0\n",
    "    for batch_idx, (inputs, lb) in enumerate(tqdm(valid_loader, desc=\"Iteration\")):\n",
    "        inputs = inputs.float()\n",
    "        lb = lb.float()        \n",
    "        valueseq = Var(inputs)\n",
    "        lb = Var(lb)\n",
    "        output = net(valueseq)\n",
    "        loss1 = loss_function(output, lb)\n",
    "        valid_loss += loss1.item()\n",
    "        \n",
    "        aa = output.detach().cpu().numpy().reshape(-1)\n",
    "        res = np.zeros(aa.shape, np.int64)\n",
    "        res[aa > threshold] = 1\n",
    "        bb = lb.detach().cpu().numpy().reshape(-1)\n",
    "        res = get_range_proba(res, bb, delay=7)\n",
    "        TP, FP, TN, FN = calc(res, bb)\n",
    "        totTP += TP\n",
    "        totFP += FP\n",
    "        totTN += TN\n",
    "        totFN += FN\n",
    "        \n",
    "    #accuracy = (totTP + totTN) * 100. / (totTP+totFP+totTN+totFN)\n",
    "    print(f'Epoch {epoch+1} \\t\\t Training Loss: {train_loss / len(train_loader)} \\t\\t Validation Loss: {valid_loss / len(valid_loader)}')\n",
    "    accuracy = (totTP + totTN) * 100. / (totTP+totFP+totTN+totFN)\n",
    "    precision = totTP * 1. / (totTP + totFP) if totTP + totFP != 0 else 0\n",
    "    recall = totTP * 1. / (totTP + totFN) if totTP + totFN != 0 else 0\n",
    "    f1 = 2 * precision * recall / (precision + recall) if (precision + recall) != 0 else 0\n",
    "    print('Accuracy:', accuracy)\n",
    "    print('Precision:', precision)\n",
    "    print('Recall:', recall)\n",
    "    print('F1-score:', f1)"
   ]
  },
  {
   "cell_type": "code",
   "execution_count": 167,
   "id": "dfa1e9b5",
   "metadata": {},
   "outputs": [
    {
     "name": "stdout",
     "output_type": "stream",
     "text": [
      "epoch : 1\n"
     ]
    },
    {
     "data": {
      "application/vnd.jupyter.widget-view+json": {
       "model_id": "25467dc4546d4d18a1df9130e01fb11f",
       "version_major": 2,
       "version_minor": 0
      },
      "text/plain": [
       "HBox(children=(IntProgress(value=0, description='Iteration', max=233, style=ProgressStyle(description_width='i…"
      ]
     },
     "metadata": {},
     "output_type": "display_data"
    },
    {
     "name": "stdout",
     "output_type": "stream",
     "text": [
      "Train Epoch: 1 [0/233 (0%)]\tLoss: 5.518833\n",
      "Train Epoch: 1 [9/233 (4%)]\tLoss: 5.870259\n",
      "Train Epoch: 1 [18/233 (8%)]\tLoss: 5.282537\n",
      "Train Epoch: 1 [27/233 (12%)]\tLoss: 5.151562\n",
      "Train Epoch: 1 [36/233 (15%)]\tLoss: 5.030501\n",
      "Train Epoch: 1 [45/233 (19%)]\tLoss: 4.949534\n",
      "Train Epoch: 1 [54/233 (23%)]\tLoss: 5.336048\n",
      "Train Epoch: 1 [63/233 (27%)]\tLoss: 4.972167\n",
      "Train Epoch: 1 [72/233 (31%)]\tLoss: 5.043755\n",
      "Train Epoch: 1 [81/233 (35%)]\tLoss: 4.466420\n",
      "Train Epoch: 1 [90/233 (39%)]\tLoss: 4.858471\n",
      "Train Epoch: 1 [99/233 (42%)]\tLoss: 4.709808\n",
      "Train Epoch: 1 [108/233 (46%)]\tLoss: 4.137633\n",
      "Train Epoch: 1 [117/233 (50%)]\tLoss: 4.608721\n",
      "Train Epoch: 1 [126/233 (54%)]\tLoss: 3.908751\n",
      "Train Epoch: 1 [135/233 (58%)]\tLoss: 3.926618\n",
      "Train Epoch: 1 [144/233 (62%)]\tLoss: 3.705049\n",
      "Train Epoch: 1 [153/233 (66%)]\tLoss: 3.685721\n",
      "Train Epoch: 1 [162/233 (70%)]\tLoss: 3.480551\n",
      "Train Epoch: 1 [171/233 (73%)]\tLoss: 3.355182\n",
      "Train Epoch: 1 [180/233 (77%)]\tLoss: 3.244883\n",
      "Train Epoch: 1 [189/233 (81%)]\tLoss: 3.131428\n",
      "Train Epoch: 1 [198/233 (85%)]\tLoss: 3.046503\n",
      "Train Epoch: 1 [207/233 (89%)]\tLoss: 2.937289\n",
      "Train Epoch: 1 [216/233 (93%)]\tLoss: 3.273607\n",
      "Train Epoch: 1 [225/233 (97%)]\tLoss: 2.719784\n",
      "\n"
     ]
    },
    {
     "data": {
      "application/vnd.jupyter.widget-view+json": {
       "model_id": "0ae5866a80fd40589c0ec21f93c1955f",
       "version_major": 2,
       "version_minor": 0
      },
      "text/plain": [
       "HBox(children=(IntProgress(value=0, description='Iteration', max=33, style=ProgressStyle(description_width='in…"
      ]
     },
     "metadata": {},
     "output_type": "display_data"
    },
    {
     "name": "stdout",
     "output_type": "stream",
     "text": [
      "\n",
      "Epoch 2 \t\t Training Loss: 4.220601757196909 \t\t Validation Loss: 1.0727318579500371\n",
      "Accuracy: 32.353205231280484\n",
      "Precision: 0.03348786813882244\n",
      "Recall: 0.954130696098787\n",
      "F1-score: 0.06470474350150392\n",
      "Learning rate changed to:  0.05\n",
      "epoch : 2\n"
     ]
    },
    {
     "data": {
      "application/vnd.jupyter.widget-view+json": {
       "model_id": "a2c0a891b6f3438eab58d6c8447ffe77",
       "version_major": 2,
       "version_minor": 0
      },
      "text/plain": [
       "HBox(children=(IntProgress(value=0, description='Iteration', max=233, style=ProgressStyle(description_width='i…"
      ]
     },
     "metadata": {},
     "output_type": "display_data"
    },
    {
     "name": "stdout",
     "output_type": "stream",
     "text": [
      "Train Epoch: 2 [0/233 (0%)]\tLoss: 2.590951\n",
      "Train Epoch: 2 [9/233 (4%)]\tLoss: 2.553619\n",
      "Train Epoch: 2 [18/233 (8%)]\tLoss: 2.443672\n",
      "Train Epoch: 2 [27/233 (12%)]\tLoss: 2.371562\n",
      "Train Epoch: 2 [36/233 (15%)]\tLoss: 2.547051\n",
      "Train Epoch: 2 [45/233 (19%)]\tLoss: 2.266432\n",
      "Train Epoch: 2 [54/233 (23%)]\tLoss: 2.494053\n",
      "Train Epoch: 2 [63/233 (27%)]\tLoss: 2.178802\n",
      "Train Epoch: 2 [72/233 (31%)]\tLoss: 2.092106\n",
      "Train Epoch: 2 [81/233 (35%)]\tLoss: 2.042001\n",
      "Train Epoch: 2 [90/233 (39%)]\tLoss: 2.006993\n",
      "Train Epoch: 2 [99/233 (42%)]\tLoss: 1.969601\n",
      "Train Epoch: 2 [108/233 (46%)]\tLoss: 1.923425\n",
      "Train Epoch: 2 [117/233 (50%)]\tLoss: 1.900231\n",
      "Train Epoch: 2 [126/233 (54%)]\tLoss: 1.836232\n",
      "Train Epoch: 2 [135/233 (58%)]\tLoss: 1.848036\n",
      "Train Epoch: 2 [144/233 (62%)]\tLoss: 1.829398\n",
      "Train Epoch: 2 [153/233 (66%)]\tLoss: 1.855820\n",
      "Train Epoch: 2 [162/233 (70%)]\tLoss: 1.726089\n",
      "Train Epoch: 2 [171/233 (73%)]\tLoss: 1.749975\n",
      "Train Epoch: 2 [180/233 (77%)]\tLoss: 1.668443\n",
      "Train Epoch: 2 [189/233 (81%)]\tLoss: 2.368032\n",
      "Train Epoch: 2 [198/233 (85%)]\tLoss: 1.636344\n",
      "Train Epoch: 2 [207/233 (89%)]\tLoss: 1.605992\n",
      "Train Epoch: 2 [216/233 (93%)]\tLoss: 1.557452\n",
      "Train Epoch: 2 [225/233 (97%)]\tLoss: 1.594948\n",
      "\n"
     ]
    },
    {
     "data": {
      "application/vnd.jupyter.widget-view+json": {
       "model_id": "a4536903c26d46348975334d07c66c1e",
       "version_major": 2,
       "version_minor": 0
      },
      "text/plain": [
       "HBox(children=(IntProgress(value=0, description='Iteration', max=33, style=ProgressStyle(description_width='in…"
      ]
     },
     "metadata": {},
     "output_type": "display_data"
    },
    {
     "name": "stdout",
     "output_type": "stream",
     "text": [
      "\n",
      "Epoch 3 \t\t Training Loss: 2.081876603830526 \t\t Validation Loss: 0.9138798966552272\n",
      "Accuracy: 26.62231334083722\n",
      "Precision: 0.031018466832887656\n",
      "Recall: 0.956398207846137\n",
      "F1-score: 0.060088120546985896\n",
      "Learning rate changed to:  0.05\n",
      "epoch : 3\n"
     ]
    },
    {
     "data": {
      "application/vnd.jupyter.widget-view+json": {
       "model_id": "0298067b4686459baff5bd112ca4cd6b",
       "version_major": 2,
       "version_minor": 0
      },
      "text/plain": [
       "HBox(children=(IntProgress(value=0, description='Iteration', max=233, style=ProgressStyle(description_width='i…"
      ]
     },
     "metadata": {},
     "output_type": "display_data"
    },
    {
     "name": "stdout",
     "output_type": "stream",
     "text": [
      "Train Epoch: 3 [0/233 (0%)]\tLoss: 2.320526\n",
      "Train Epoch: 3 [9/233 (4%)]\tLoss: 1.503684\n",
      "Train Epoch: 3 [18/233 (8%)]\tLoss: 1.644526\n",
      "Train Epoch: 3 [27/233 (12%)]\tLoss: 1.402719\n",
      "Train Epoch: 3 [36/233 (15%)]\tLoss: 1.387228\n",
      "Train Epoch: 3 [45/233 (19%)]\tLoss: 1.344457\n",
      "Train Epoch: 3 [54/233 (23%)]\tLoss: 1.355686\n",
      "Train Epoch: 3 [63/233 (27%)]\tLoss: 1.287598\n",
      "Train Epoch: 3 [72/233 (31%)]\tLoss: 1.287160\n",
      "Train Epoch: 3 [81/233 (35%)]\tLoss: 1.243380\n",
      "Train Epoch: 3 [90/233 (39%)]\tLoss: 1.200508\n",
      "Train Epoch: 3 [99/233 (42%)]\tLoss: 1.201621\n",
      "Train Epoch: 3 [108/233 (46%)]\tLoss: 1.845470\n",
      "Train Epoch: 3 [117/233 (50%)]\tLoss: 1.175257\n",
      "Train Epoch: 3 [126/233 (54%)]\tLoss: 1.441228\n",
      "Train Epoch: 3 [135/233 (58%)]\tLoss: 1.313864\n",
      "Train Epoch: 3 [144/233 (62%)]\tLoss: 2.087204\n",
      "Train Epoch: 3 [153/233 (66%)]\tLoss: 1.106765\n",
      "Train Epoch: 3 [162/233 (70%)]\tLoss: 1.130163\n",
      "Train Epoch: 3 [171/233 (73%)]\tLoss: 1.085950\n",
      "Train Epoch: 3 [180/233 (77%)]\tLoss: 1.084793\n",
      "Train Epoch: 3 [189/233 (81%)]\tLoss: 1.062233\n",
      "Train Epoch: 3 [198/233 (85%)]\tLoss: 1.356122\n",
      "Train Epoch: 3 [207/233 (89%)]\tLoss: 1.019428\n",
      "Train Epoch: 3 [216/233 (93%)]\tLoss: 1.069515\n",
      "Train Epoch: 3 [225/233 (97%)]\tLoss: 1.048470\n",
      "\n"
     ]
    },
    {
     "data": {
      "application/vnd.jupyter.widget-view+json": {
       "model_id": "7cd7f258c8ea4344aea4483be48f347c",
       "version_major": 2,
       "version_minor": 0
      },
      "text/plain": [
       "HBox(children=(IntProgress(value=0, description='Iteration', max=33, style=ProgressStyle(description_width='in…"
      ]
     },
     "metadata": {},
     "output_type": "display_data"
    },
    {
     "name": "stdout",
     "output_type": "stream",
     "text": [
      "\n",
      "Epoch 4 \t\t Training Loss: 1.317733891020517 \t\t Validation Loss: 0.8393513343550942\n",
      "Accuracy: 55.33258294473924\n",
      "Precision: 0.04735344827586207\n",
      "Recall: 0.9003933996284559\n",
      "F1-score: 0.08997493871177334\n",
      "Learning rate changed to:  0.05\n",
      "epoch : 4\n"
     ]
    },
    {
     "data": {
      "application/vnd.jupyter.widget-view+json": {
       "model_id": "1a844652254c4f77b772469073b21278",
       "version_major": 2,
       "version_minor": 0
      },
      "text/plain": [
       "HBox(children=(IntProgress(value=0, description='Iteration', max=233, style=ProgressStyle(description_width='i…"
      ]
     },
     "metadata": {},
     "output_type": "display_data"
    },
    {
     "name": "stdout",
     "output_type": "stream",
     "text": [
      "Train Epoch: 4 [0/233 (0%)]\tLoss: 0.986364\n",
      "Train Epoch: 4 [9/233 (4%)]\tLoss: 0.981780\n",
      "Train Epoch: 4 [18/233 (8%)]\tLoss: 0.966888\n",
      "Train Epoch: 4 [27/233 (12%)]\tLoss: 1.021001\n",
      "Train Epoch: 4 [36/233 (15%)]\tLoss: 0.930476\n",
      "Train Epoch: 4 [45/233 (19%)]\tLoss: 1.107756\n",
      "Train Epoch: 4 [54/233 (23%)]\tLoss: 0.885090\n",
      "Train Epoch: 4 [63/233 (27%)]\tLoss: 0.905674\n",
      "Train Epoch: 4 [72/233 (31%)]\tLoss: 0.858419\n",
      "Train Epoch: 4 [81/233 (35%)]\tLoss: 0.855047\n",
      "Train Epoch: 4 [90/233 (39%)]\tLoss: 0.834518\n",
      "Train Epoch: 4 [99/233 (42%)]\tLoss: 0.816491\n",
      "Train Epoch: 4 [108/233 (46%)]\tLoss: 0.806314\n",
      "Train Epoch: 4 [117/233 (50%)]\tLoss: 0.845096\n",
      "Train Epoch: 4 [126/233 (54%)]\tLoss: 1.236246\n",
      "Train Epoch: 4 [135/233 (58%)]\tLoss: 1.222304\n",
      "Train Epoch: 4 [144/233 (62%)]\tLoss: 0.749244\n",
      "Train Epoch: 4 [153/233 (66%)]\tLoss: 0.746255\n",
      "Train Epoch: 4 [162/233 (70%)]\tLoss: 0.772041\n",
      "Train Epoch: 4 [171/233 (73%)]\tLoss: 1.165132\n",
      "Train Epoch: 4 [180/233 (77%)]\tLoss: 0.739930\n",
      "Train Epoch: 4 [189/233 (81%)]\tLoss: 0.721689\n",
      "Train Epoch: 4 [198/233 (85%)]\tLoss: 0.882748\n",
      "Train Epoch: 4 [207/233 (89%)]\tLoss: 0.696439\n",
      "Train Epoch: 4 [216/233 (93%)]\tLoss: 1.167156\n",
      "Train Epoch: 4 [225/233 (97%)]\tLoss: 0.694434\n",
      "\n"
     ]
    },
    {
     "data": {
      "application/vnd.jupyter.widget-view+json": {
       "model_id": "be4aeeffff764d6a866d3d0c4f68084f",
       "version_major": 2,
       "version_minor": 0
      },
      "text/plain": [
       "HBox(children=(IntProgress(value=0, description='Iteration', max=33, style=ProgressStyle(description_width='in…"
      ]
     },
     "metadata": {},
     "output_type": "display_data"
    },
    {
     "name": "stdout",
     "output_type": "stream",
     "text": [
      "\n",
      "Epoch 5 \t\t Training Loss: 0.9184384990659394 \t\t Validation Loss: 0.7981246475017432\n",
      "Accuracy: 44.68409980168301\n",
      "Precision: 0.012569112823015574\n",
      "Recall: 0.27792044585291226\n",
      "F1-score: 0.02405052667414527\n",
      "Learning rate changed to:  0.05\n",
      "epoch : 5\n"
     ]
    },
    {
     "data": {
      "application/vnd.jupyter.widget-view+json": {
       "model_id": "5537aedc3d4a497f9fba523e9bac6f0c",
       "version_major": 2,
       "version_minor": 0
      },
      "text/plain": [
       "HBox(children=(IntProgress(value=0, description='Iteration', max=233, style=ProgressStyle(description_width='i…"
      ]
     },
     "metadata": {},
     "output_type": "display_data"
    },
    {
     "name": "stdout",
     "output_type": "stream",
     "text": [
      "Train Epoch: 5 [0/233 (0%)]\tLoss: 1.009221\n",
      "Train Epoch: 5 [9/233 (4%)]\tLoss: 1.182634\n",
      "Train Epoch: 5 [18/233 (8%)]\tLoss: 1.174373\n",
      "Train Epoch: 5 [27/233 (12%)]\tLoss: 1.162026\n",
      "Train Epoch: 5 [36/233 (15%)]\tLoss: 0.731775\n",
      "Train Epoch: 5 [45/233 (19%)]\tLoss: 0.715211\n",
      "Train Epoch: 5 [54/233 (23%)]\tLoss: 0.700633\n",
      "Train Epoch: 5 [63/233 (27%)]\tLoss: 0.710748\n",
      "Train Epoch: 5 [72/233 (31%)]\tLoss: 0.804025\n",
      "Train Epoch: 5 [81/233 (35%)]\tLoss: 0.697107\n",
      "Train Epoch: 5 [90/233 (39%)]\tLoss: 0.719325\n",
      "Train Epoch: 5 [99/233 (42%)]\tLoss: 1.159605\n",
      "Train Epoch: 5 [108/233 (46%)]\tLoss: 1.035008\n",
      "Train Epoch: 5 [117/233 (50%)]\tLoss: 1.157483\n",
      "Train Epoch: 5 [126/233 (54%)]\tLoss: 0.694366\n",
      "Train Epoch: 5 [135/233 (58%)]\tLoss: 0.704027\n",
      "Train Epoch: 5 [144/233 (62%)]\tLoss: 0.736673\n",
      "Train Epoch: 5 [153/233 (66%)]\tLoss: 1.180188\n",
      "Train Epoch: 5 [162/233 (70%)]\tLoss: 1.099342\n",
      "Train Epoch: 5 [171/233 (73%)]\tLoss: 0.754197\n",
      "Train Epoch: 5 [180/233 (77%)]\tLoss: 0.698864\n",
      "Train Epoch: 5 [189/233 (81%)]\tLoss: 1.636493\n",
      "Train Epoch: 5 [198/233 (85%)]\tLoss: 0.709077\n",
      "Train Epoch: 5 [207/233 (89%)]\tLoss: 1.190509\n",
      "Train Epoch: 5 [216/233 (93%)]\tLoss: 1.159112\n",
      "Train Epoch: 5 [225/233 (97%)]\tLoss: 1.183337\n",
      "\n"
     ]
    },
    {
     "data": {
      "application/vnd.jupyter.widget-view+json": {
       "model_id": "4e8b8da15974496d9e9f73fce0620a7d",
       "version_major": 2,
       "version_minor": 0
      },
      "text/plain": [
       "HBox(children=(IntProgress(value=0, description='Iteration', max=33, style=ProgressStyle(description_width='in…"
      ]
     },
     "metadata": {},
     "output_type": "display_data"
    },
    {
     "name": "stdout",
     "output_type": "stream",
     "text": [
      "\n",
      "Epoch 6 \t\t Training Loss: 0.8150885279086526 \t\t Validation Loss: 0.7951816988713813\n",
      "Accuracy: 2.4524307230530096\n",
      "Precision: 0.024524307230530097\n",
      "Recall: 1.0\n",
      "F1-score: 0.04787452490380365\n",
      "Learning rate changed to:  0.05\n",
      "epoch : 6\n"
     ]
    },
    {
     "data": {
      "application/vnd.jupyter.widget-view+json": {
       "model_id": "7c33e521246741fa8ff1968c87b5c7e4",
       "version_major": 2,
       "version_minor": 0
      },
      "text/plain": [
       "HBox(children=(IntProgress(value=0, description='Iteration', max=233, style=ProgressStyle(description_width='i…"
      ]
     },
     "metadata": {},
     "output_type": "display_data"
    },
    {
     "name": "stdout",
     "output_type": "stream",
     "text": [
      "Train Epoch: 6 [0/233 (0%)]\tLoss: 0.740610\n",
      "Train Epoch: 6 [9/233 (4%)]\tLoss: 0.721996\n",
      "Train Epoch: 6 [18/233 (8%)]\tLoss: 0.719819\n",
      "Train Epoch: 6 [27/233 (12%)]\tLoss: 1.029879\n",
      "Train Epoch: 6 [36/233 (15%)]\tLoss: 0.698226\n",
      "Train Epoch: 6 [45/233 (19%)]\tLoss: 0.704899\n",
      "Train Epoch: 6 [54/233 (23%)]\tLoss: 0.697083\n",
      "Train Epoch: 6 [63/233 (27%)]\tLoss: 1.162178\n",
      "Train Epoch: 6 [72/233 (31%)]\tLoss: 0.698892\n",
      "Train Epoch: 6 [81/233 (35%)]\tLoss: 0.696798\n",
      "Train Epoch: 6 [90/233 (39%)]\tLoss: 0.826239\n",
      "Train Epoch: 6 [99/233 (42%)]\tLoss: 0.718159\n",
      "Train Epoch: 6 [108/233 (46%)]\tLoss: 0.709370\n",
      "Train Epoch: 6 [117/233 (50%)]\tLoss: 0.925800\n",
      "Train Epoch: 6 [126/233 (54%)]\tLoss: 0.741857\n",
      "Train Epoch: 6 [135/233 (58%)]\tLoss: 0.941944\n",
      "Train Epoch: 6 [144/233 (62%)]\tLoss: 0.724632\n",
      "Train Epoch: 6 [153/233 (66%)]\tLoss: 0.694909\n",
      "Train Epoch: 6 [162/233 (70%)]\tLoss: 0.697098\n",
      "Train Epoch: 6 [171/233 (73%)]\tLoss: 0.718547\n",
      "Train Epoch: 6 [180/233 (77%)]\tLoss: 0.718785\n",
      "Train Epoch: 6 [189/233 (81%)]\tLoss: 1.048211\n",
      "Train Epoch: 6 [198/233 (85%)]\tLoss: 1.619100\n",
      "Train Epoch: 6 [207/233 (89%)]\tLoss: 0.713533\n",
      "Train Epoch: 6 [216/233 (93%)]\tLoss: 0.748481\n",
      "Train Epoch: 6 [225/233 (97%)]\tLoss: 0.736053\n",
      "\n"
     ]
    },
    {
     "data": {
      "application/vnd.jupyter.widget-view+json": {
       "model_id": "15591d93644b486c9dcae5893c001e0f",
       "version_major": 2,
       "version_minor": 0
      },
      "text/plain": [
       "HBox(children=(IntProgress(value=0, description='Iteration', max=33, style=ProgressStyle(description_width='in…"
      ]
     },
     "metadata": {},
     "output_type": "display_data"
    },
    {
     "name": "stdout",
     "output_type": "stream",
     "text": [
      "\n",
      "Epoch 7 \t\t Training Loss: 0.8148220132860503 \t\t Validation Loss: 0.7951365618994741\n",
      "Accuracy: 3.2670043415340086\n",
      "Precision: 0.02472571639324994\n",
      "Recall: 1.0\n",
      "F1-score: 0.048258213876543665\n",
      "Learning rate changed to:  0.05\n",
      "epoch : 7\n"
     ]
    },
    {
     "data": {
      "application/vnd.jupyter.widget-view+json": {
       "model_id": "5cd482fa610944068e6dc7c14e18a7e7",
       "version_major": 2,
       "version_minor": 0
      },
      "text/plain": [
       "HBox(children=(IntProgress(value=0, description='Iteration', max=233, style=ProgressStyle(description_width='i…"
      ]
     },
     "metadata": {},
     "output_type": "display_data"
    },
    {
     "name": "stdout",
     "output_type": "stream",
     "text": [
      "Train Epoch: 7 [0/233 (0%)]\tLoss: 0.735703\n",
      "Train Epoch: 7 [9/233 (4%)]\tLoss: 0.742988\n",
      "Train Epoch: 7 [18/233 (8%)]\tLoss: 0.724631\n",
      "Train Epoch: 7 [27/233 (12%)]\tLoss: 0.883328\n",
      "Train Epoch: 7 [36/233 (15%)]\tLoss: 0.753431\n",
      "Train Epoch: 7 [45/233 (19%)]\tLoss: 0.701316\n",
      "Train Epoch: 7 [54/233 (23%)]\tLoss: 0.720112\n",
      "Train Epoch: 7 [63/233 (27%)]\tLoss: 1.187747\n",
      "Train Epoch: 7 [72/233 (31%)]\tLoss: 0.757612\n",
      "Train Epoch: 7 [81/233 (35%)]\tLoss: 0.697962\n",
      "Train Epoch: 7 [90/233 (39%)]\tLoss: 0.740524\n",
      "Train Epoch: 7 [99/233 (42%)]\tLoss: 1.166088\n",
      "Train Epoch: 7 [108/233 (46%)]\tLoss: 1.042928\n",
      "Train Epoch: 7 [117/233 (50%)]\tLoss: 0.702287\n",
      "Train Epoch: 7 [126/233 (54%)]\tLoss: 1.166408\n",
      "Train Epoch: 7 [135/233 (58%)]\tLoss: 0.695072\n",
      "Train Epoch: 7 [144/233 (62%)]\tLoss: 0.694577\n",
      "Train Epoch: 7 [153/233 (66%)]\tLoss: 0.701285\n",
      "Train Epoch: 7 [162/233 (70%)]\tLoss: 1.181776\n",
      "Train Epoch: 7 [171/233 (73%)]\tLoss: 0.713507\n",
      "Train Epoch: 7 [180/233 (77%)]\tLoss: 0.745606\n",
      "Train Epoch: 7 [189/233 (81%)]\tLoss: 0.695443\n",
      "Train Epoch: 7 [198/233 (85%)]\tLoss: 0.717058\n",
      "Train Epoch: 7 [207/233 (89%)]\tLoss: 0.696730\n",
      "Train Epoch: 7 [216/233 (93%)]\tLoss: 0.703876\n",
      "Train Epoch: 7 [225/233 (97%)]\tLoss: 0.788295\n",
      "\n"
     ]
    },
    {
     "data": {
      "application/vnd.jupyter.widget-view+json": {
       "model_id": "6bcd8de5e7644415b61e6cbcdd1f37bc",
       "version_major": 2,
       "version_minor": 0
      },
      "text/plain": [
       "HBox(children=(IntProgress(value=0, description='Iteration', max=33, style=ProgressStyle(description_width='in…"
      ]
     },
     "metadata": {},
     "output_type": "display_data"
    },
    {
     "name": "stdout",
     "output_type": "stream",
     "text": [
      "\n",
      "Epoch 8 \t\t Training Loss: 0.814437421606334 \t\t Validation Loss: 0.8005398746692773\n",
      "Accuracy: 97.54756927694699\n",
      "Precision: 0\n",
      "Recall: 0.0\n",
      "F1-score: 0\n",
      "Learning rate changed to:  0.05\n",
      "epoch : 8\n"
     ]
    },
    {
     "data": {
      "application/vnd.jupyter.widget-view+json": {
       "model_id": "786f08b48be74d5f916a1999ca43f92b",
       "version_major": 2,
       "version_minor": 0
      },
      "text/plain": [
       "HBox(children=(IntProgress(value=0, description='Iteration', max=233, style=ProgressStyle(description_width='i…"
      ]
     },
     "metadata": {},
     "output_type": "display_data"
    },
    {
     "name": "stdout",
     "output_type": "stream",
     "text": [
      "Train Epoch: 8 [0/233 (0%)]\tLoss: 0.862279\n",
      "Train Epoch: 8 [9/233 (4%)]\tLoss: 0.773299\n",
      "Train Epoch: 8 [18/233 (8%)]\tLoss: 0.703329\n",
      "Train Epoch: 8 [27/233 (12%)]\tLoss: 0.762084\n",
      "Train Epoch: 8 [36/233 (15%)]\tLoss: 0.732099\n",
      "Train Epoch: 8 [45/233 (19%)]\tLoss: 1.181905\n",
      "Train Epoch: 8 [54/233 (23%)]\tLoss: 0.754146\n",
      "Train Epoch: 8 [63/233 (27%)]\tLoss: 0.696891\n",
      "Train Epoch: 8 [72/233 (31%)]\tLoss: 1.473829\n",
      "Train Epoch: 8 [81/233 (35%)]\tLoss: 0.697647\n",
      "Train Epoch: 8 [90/233 (39%)]\tLoss: 0.737177\n",
      "Train Epoch: 8 [99/233 (42%)]\tLoss: 0.742748\n",
      "Train Epoch: 8 [108/233 (46%)]\tLoss: 1.811132\n",
      "Train Epoch: 8 [117/233 (50%)]\tLoss: 0.697888\n",
      "Train Epoch: 8 [126/233 (54%)]\tLoss: 0.722506\n",
      "Train Epoch: 8 [135/233 (58%)]\tLoss: 0.710476\n",
      "Train Epoch: 8 [144/233 (62%)]\tLoss: 0.696801\n",
      "Train Epoch: 8 [153/233 (66%)]\tLoss: 0.694961\n",
      "Train Epoch: 8 [162/233 (70%)]\tLoss: 0.789556\n",
      "Train Epoch: 8 [171/233 (73%)]\tLoss: 0.721949\n",
      "Train Epoch: 8 [180/233 (77%)]\tLoss: 1.016395\n",
      "Train Epoch: 8 [189/233 (81%)]\tLoss: 1.171423\n",
      "Train Epoch: 8 [198/233 (85%)]\tLoss: 0.769283\n",
      "Train Epoch: 8 [207/233 (89%)]\tLoss: 1.159074\n",
      "Train Epoch: 8 [216/233 (93%)]\tLoss: 0.710290\n",
      "Train Epoch: 8 [225/233 (97%)]\tLoss: 0.694579\n",
      "\n"
     ]
    },
    {
     "data": {
      "application/vnd.jupyter.widget-view+json": {
       "model_id": "d50295c6c24a4b01834e0d384ce28df4",
       "version_major": 2,
       "version_minor": 0
      },
      "text/plain": [
       "HBox(children=(IntProgress(value=0, description='Iteration', max=33, style=ProgressStyle(description_width='in…"
      ]
     },
     "metadata": {},
     "output_type": "display_data"
    },
    {
     "name": "stdout",
     "output_type": "stream",
     "text": [
      "\n",
      "Epoch 9 \t\t Training Loss: 0.8142293538146776 \t\t Validation Loss: 0.7950321219184182\n",
      "Accuracy: 6.639063086241089\n",
      "Precision: 0.02543861980780611\n",
      "Recall: 0.9935252977816632\n",
      "F1-score: 0.049607080061273956\n",
      "Learning rate changed to:  0.05\n",
      "epoch : 9\n"
     ]
    },
    {
     "data": {
      "application/vnd.jupyter.widget-view+json": {
       "model_id": "5411bab0fc884edba7fd5f38144ffe5f",
       "version_major": 2,
       "version_minor": 0
      },
      "text/plain": [
       "HBox(children=(IntProgress(value=0, description='Iteration', max=233, style=ProgressStyle(description_width='i…"
      ]
     },
     "metadata": {},
     "output_type": "display_data"
    },
    {
     "name": "stdout",
     "output_type": "stream",
     "text": [
      "Train Epoch: 9 [0/233 (0%)]\tLoss: 0.738899\n",
      "Train Epoch: 9 [9/233 (4%)]\tLoss: 1.319932\n",
      "Train Epoch: 9 [18/233 (8%)]\tLoss: 0.713900\n",
      "Train Epoch: 9 [27/233 (12%)]\tLoss: 0.702963\n",
      "Train Epoch: 9 [36/233 (15%)]\tLoss: 0.707707\n",
      "Train Epoch: 9 [45/233 (19%)]\tLoss: 0.697753\n",
      "Train Epoch: 9 [54/233 (23%)]\tLoss: 0.726458\n",
      "Train Epoch: 9 [63/233 (27%)]\tLoss: 1.105999\n",
      "Train Epoch: 9 [72/233 (31%)]\tLoss: 1.497568\n",
      "Train Epoch: 9 [81/233 (35%)]\tLoss: 0.717296\n",
      "Train Epoch: 9 [90/233 (39%)]\tLoss: 1.084276\n",
      "Train Epoch: 9 [99/233 (42%)]\tLoss: 0.789712\n",
      "Train Epoch: 9 [108/233 (46%)]\tLoss: 0.745558\n",
      "Train Epoch: 9 [117/233 (50%)]\tLoss: 0.705956\n",
      "Train Epoch: 9 [126/233 (54%)]\tLoss: 0.695123\n",
      "Train Epoch: 9 [135/233 (58%)]\tLoss: 0.695097\n",
      "Train Epoch: 9 [144/233 (62%)]\tLoss: 0.920823\n",
      "Train Epoch: 9 [153/233 (66%)]\tLoss: 0.747736\n",
      "Train Epoch: 9 [162/233 (70%)]\tLoss: 0.727821\n",
      "Train Epoch: 9 [171/233 (73%)]\tLoss: 0.759515\n",
      "Train Epoch: 9 [180/233 (77%)]\tLoss: 0.709518\n",
      "Train Epoch: 9 [189/233 (81%)]\tLoss: 0.986612\n",
      "Train Epoch: 9 [198/233 (85%)]\tLoss: 0.712751\n",
      "Train Epoch: 9 [207/233 (89%)]\tLoss: 0.726766\n",
      "Train Epoch: 9 [216/233 (93%)]\tLoss: 0.721318\n",
      "Train Epoch: 9 [225/233 (97%)]\tLoss: 0.700586\n",
      "\n"
     ]
    },
    {
     "data": {
      "application/vnd.jupyter.widget-view+json": {
       "model_id": "4aef9d200abc460c8b7df3f254b739ca",
       "version_major": 2,
       "version_minor": 0
      },
      "text/plain": [
       "HBox(children=(IntProgress(value=0, description='Iteration', max=33, style=ProgressStyle(description_width='in…"
      ]
     },
     "metadata": {},
     "output_type": "display_data"
    },
    {
     "name": "stdout",
     "output_type": "stream",
     "text": [
      "\n",
      "Epoch 10 \t\t Training Loss: 0.814849116515704 \t\t Validation Loss: 0.7980374477126382\n",
      "Accuracy: 10.713271158278394\n",
      "Precision: 0.026653138860158125\n",
      "Recall: 0.9968582668560813\n",
      "F1-score: 0.0519181352782655\n",
      "Learning rate changed to:  0.05\n",
      "epoch : 10\n"
     ]
    },
    {
     "data": {
      "application/vnd.jupyter.widget-view+json": {
       "model_id": "85d7f69ce3f047adae1bb1b905e91fb7",
       "version_major": 2,
       "version_minor": 0
      },
      "text/plain": [
       "HBox(children=(IntProgress(value=0, description='Iteration', max=233, style=ProgressStyle(description_width='i…"
      ]
     },
     "metadata": {},
     "output_type": "display_data"
    },
    {
     "name": "stdout",
     "output_type": "stream",
     "text": [
      "Train Epoch: 10 [0/233 (0%)]\tLoss: 1.180784\n",
      "Train Epoch: 10 [9/233 (4%)]\tLoss: 0.722411\n",
      "Train Epoch: 10 [18/233 (8%)]\tLoss: 0.706964\n",
      "Train Epoch: 10 [27/233 (12%)]\tLoss: 0.708587\n",
      "Train Epoch: 10 [36/233 (15%)]\tLoss: 0.727237\n",
      "Train Epoch: 10 [45/233 (19%)]\tLoss: 0.701400\n",
      "Train Epoch: 10 [54/233 (23%)]\tLoss: 0.722389\n",
      "Train Epoch: 10 [63/233 (27%)]\tLoss: 0.759736\n",
      "Train Epoch: 10 [72/233 (31%)]\tLoss: 1.184844\n",
      "Train Epoch: 10 [81/233 (35%)]\tLoss: 0.762048\n",
      "Train Epoch: 10 [90/233 (39%)]\tLoss: 0.709729\n",
      "Train Epoch: 10 [99/233 (42%)]\tLoss: 0.738808\n",
      "Train Epoch: 10 [108/233 (46%)]\tLoss: 1.618979\n",
      "Train Epoch: 10 [117/233 (50%)]\tLoss: 1.173729\n",
      "Train Epoch: 10 [126/233 (54%)]\tLoss: 0.712831\n",
      "Train Epoch: 10 [135/233 (58%)]\tLoss: 0.696386\n",
      "Train Epoch: 10 [144/233 (62%)]\tLoss: 0.701830\n",
      "Train Epoch: 10 [153/233 (66%)]\tLoss: 0.720704\n",
      "Train Epoch: 10 [162/233 (70%)]\tLoss: 0.727577\n",
      "Train Epoch: 10 [171/233 (73%)]\tLoss: 1.158953\n",
      "Train Epoch: 10 [180/233 (77%)]\tLoss: 0.706183\n",
      "Train Epoch: 10 [189/233 (81%)]\tLoss: 0.740286\n",
      "Train Epoch: 10 [198/233 (85%)]\tLoss: 0.714073\n",
      "Train Epoch: 10 [207/233 (89%)]\tLoss: 1.177944\n",
      "Train Epoch: 10 [216/233 (93%)]\tLoss: 0.731724\n",
      "Train Epoch: 10 [225/233 (97%)]\tLoss: 0.707811\n",
      "\n"
     ]
    },
    {
     "data": {
      "application/vnd.jupyter.widget-view+json": {
       "model_id": "99597ae5b4f84c59b42befa60beaf920",
       "version_major": 2,
       "version_minor": 0
      },
      "text/plain": [
       "HBox(children=(IntProgress(value=0, description='Iteration', max=33, style=ProgressStyle(description_width='in…"
      ]
     },
     "metadata": {},
     "output_type": "display_data"
    },
    {
     "name": "stdout",
     "output_type": "stream",
     "text": [
      "\n",
      "Epoch 11 \t\t Training Loss: 0.8148083262177496 \t\t Validation Loss: 0.7953631516658899\n",
      "Accuracy: 2.4524307230530096\n",
      "Precision: 0.024524307230530097\n",
      "Recall: 1.0\n",
      "F1-score: 0.04787452490380365\n",
      "Learning rate changed to:  0.025\n"
     ]
    }
   ],
   "source": [
    "model = Anomaly(WINDOW_SIZE)\n",
    "\n",
    "if torch.cuda.is_available():\n",
    "    net = model.cuda()\n",
    "    gpu_num = torch.cuda.device_count()\n",
    "    net = torch.nn.DataParallel(net, list(range(gpu_num)))\n",
    "    print(net)\n",
    "else:\n",
    "    net = model.cpu()\n",
    "\n",
    "\n",
    "bp_parameters = filter(lambda p: p.requires_grad, net.parameters()) # back propagation parameters\n",
    "optimizer = optim.SGD(bp_parameters, lr=LEARNING_RATE, momentum=0.9, weight_decay=0.0)\n",
    "\n",
    "\n",
    "#n_train = math.ceil(len(gen_data) *0.5)\n",
    "#n_validate = len(gen_data) - n_train\n",
    "#train_data, validation_data = torch.utils.data.random_split(gen_data,[n_train,n_validate])\n",
    "\n",
    "\n",
    "train_loader = torch.utils.data.DataLoader(dataset=training_final, shuffle=True, \n",
    "                                                 batch_size=9, pin_memory=True)\n",
    "\n",
    "valid_loader = torch.utils.data.DataLoader(dataset=validation_final, shuffle=True, \n",
    "                                                 batch_size=64, pin_memory=True)\n",
    "\n",
    "for epoch in range(1, EPOCHS + 1):\n",
    "    print('epoch :', epoch)\n",
    "    train(epoch, net, train_loader, valid_loader, optimizer)\n",
    "    adjust_lr(optimizer, epoch)"
   ]
  },
  {
   "cell_type": "code",
   "execution_count": 145,
   "id": "027d7603",
   "metadata": {},
   "outputs": [
    {
     "data": {
      "image/png": "[encoded data removed]",
      "text/plain": [
       "<Figure size 2880x288 with 1 Axes>"
      ]
     },
     "metadata": {
      "needs_background": "light"
     },
     "output_type": "display_data"
    }
   ],
   "source": [
    "i=19\n",
    "data = validation_final[i][0]\n",
    "ground_truth = validation_final[i][1]\n",
    "prediction = net(data.float().reshape(1, WINDOW_SIZE, 1))\n",
    "prediction[prediction >= threshold] = 1\n",
    "prediction[prediction < threshold] = 0\n",
    "plots(data, prediction.detach().numpy().reshape(-1))"
   ]
  },
  {
   "cell_type": "code",
   "execution_count": null,
   "id": "45c0b853",
   "metadata": {},
   "outputs": [],
   "source": []
  }
 ],
 "metadata": {
  "kernelspec": {
   "display_name": "Python 3 (ipykernel)",
   "language": "python",
   "name": "python3"
  },
  "language_info": {
   "codemirror_mode": {
    "name": "ipython",
    "version": 3
   },
   "file_extension": ".py",
   "mimetype": "text/x-python",
   "name": "python",
   "nbconvert_exporter": "python",
   "pygments_lexer": "ipython3",
   "version": "3.9.9"
  }
 },
 "nbformat": 4,
 "nbformat_minor": 5
}
