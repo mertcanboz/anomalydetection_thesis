{
 "cells": [
  {
   "cell_type": "code",
   "execution_count": 1,
   "id": "e5569f6d",
   "metadata": {},
   "outputs": [],
   "source": [
    "from tqdm.notebook import tqdm\n",
    "from torch.utils.data import Dataset, random_split\n",
    "import numpy as np\n",
    "import os\n",
    "import json\n",
    "import csv\n",
    "import time\n",
    "import torch\n",
    "from torch import nn, optim\n",
    "from torch.autograd import Variable\n",
    "from torch.nn import functional as F\n",
    "import math\n",
    "from sklearn.metrics import f1_score, precision_score, recall_score\n",
    "import pandas as pd"
   ]
  },
  {
   "cell_type": "code",
   "execution_count": 2,
   "id": "1976dd5b",
   "metadata": {},
   "outputs": [],
   "source": [
    "WINDOW_SIZE = 1440\n",
    "LEARNING_RATE = 0.1\n",
    "EPOCHS = 10\n",
    "TAU = 3 #threshold value for the preceding SR score values in the paper\n",
    "q = 3\n",
    "k = 5 # number of extended values (to bring the last value in the middle)\n",
    "m = 5\n",
    "z= 21 # as in the paper~"
   ]
  },
  {
   "cell_type": "code",
   "execution_count": 3,
   "id": "53947e07",
   "metadata": {},
   "outputs": [],
   "source": [
    "def spectral_residual(values):\n",
    "    \"\"\"\n",
    "    This method transform a time series into spectral residual series\n",
    "    :param values: list.\n",
    "        a list of float values.\n",
    "    :return: mag: list.\n",
    "        a list of float values as the spectral residual values\n",
    "    \"\"\"\n",
    "    EPS = 1e-8\n",
    "    trans = np.fft.fft(values)\n",
    "    mag = np.sqrt(trans.real ** 2 + trans.imag ** 2)\n",
    "\n",
    "    maglog = [np.log(item) if abs(item) > EPS else 0 for item in mag]\n",
    "\n",
    "    spectral = np.exp(maglog - average_filter(maglog, n=q))\n",
    "\n",
    "    trans.real = [ireal * ispectral / imag if abs(imag) > EPS else 0\n",
    "                  for ireal, ispectral, imag in zip(trans.real, spectral, mag)]\n",
    "    trans.imag = [iimag * ispectral / imag if abs(imag) > EPS else 0\n",
    "                  for iimag, ispectral, imag in zip(trans.imag, spectral, mag)]\n",
    "\n",
    "    wave_r = np.fft.ifft(trans)\n",
    "    mag = np.sqrt(wave_r.real ** 2 + wave_r.imag ** 2)\n",
    "\n",
    "    return mag\n",
    "\n",
    "def average_filter(values, n=q):\n",
    "    \"\"\"\n",
    "    Calculate the sliding window average for the give time series.\n",
    "    Mathematically, res[i] = sum_{j=i-t+1}^{i} values[j] / t, where t = min(n, i+1)\n",
    "    :param values: list.\n",
    "        a list of float numbers\n",
    "    :param n: int, default 3.\n",
    "        window size.\n",
    "    :return res: list.\n",
    "        a list of value after the average_filter process.\n",
    "    \"\"\"\n",
    "\n",
    "    if n >= len(values):\n",
    "        n = len(values)\n",
    "\n",
    "    res = np.cumsum(values, dtype=float)\n",
    "    res[n:] = res[n:] - res[:-n]\n",
    "    res[n:] = res[n:] / n\n",
    "\n",
    "    for i in range(1, n):\n",
    "        res[i] /= (i + 1)\n",
    "\n",
    "    return res\n",
    "\n",
    "def predict_next(values):\n",
    "    \"\"\"\n",
    "    Predicts the next value by sum up the slope of the last value with previous values.\n",
    "    Mathematically, g = 1/m * sum_{i=1}^{m} g(x_n, x_{n-i}), x_{n+1} = x_{n-m+1} + g * m,\n",
    "    where g(x_i,x_j) = (x_i - x_j) / (i - j)\n",
    "    :param values: list.\n",
    "        a list of float numbers.\n",
    "    :return : float.\n",
    "        the predicted next value.\n",
    "    \"\"\"\n",
    "\n",
    "    if len(values) <= 1:\n",
    "        raise ValueError(f'data should contain at least 2 numbers')\n",
    "\n",
    "    v_last = values[-1]\n",
    "    n = len(values)\n",
    "\n",
    "    slopes = [(v_last - v) / (n - 1 - i) for i, v in enumerate(values[:-1])]\n",
    "\n",
    "    return values[1] + sum(slopes)\n",
    "\n",
    "def extend_series(values, extend_num=k, look_ahead=m):\n",
    "    \"\"\"\n",
    "    extend the array data by the predicted next value\n",
    "    :param values: list.\n",
    "        a list of float numbers.\n",
    "    :param extend_num: int, default 5.\n",
    "        number of values added to the back of data.\n",
    "    :param look_ahead: int, default 5.\n",
    "        number of previous values used in prediction.\n",
    "    :return: list.\n",
    "        The result array.\n",
    "    \"\"\"\n",
    "\n",
    "    if look_ahead < 1:\n",
    "        raise ValueError('look_ahead must be at least 1')\n",
    "\n",
    "    extension = [predict_next(values[-look_ahead - 1:-1])] * extend_num\n",
    "    return np.concatenate((values, extension), axis=0)\n",
    "\n",
    "def normalize(a):\n",
    "    amin = np.min(a)\n",
    "    amax = np.max(a)\n",
    "    a = (a - amin) / (amax - amin + 1e-5)\n",
    "    return a\n",
    "\n",
    "def cuda_if_available(x):\n",
    "    if torch.cuda.is_available():\n",
    "        return x.cuda()\n",
    "    else:\n",
    "        return x.cpu()\n",
    "\n",
    "def calc(pred, true):\n",
    "    TP = 0\n",
    "    FP = 0\n",
    "    TN = 0\n",
    "    FN = 0\n",
    "    for pre, gt in zip(pred, true):\n",
    "        if gt == 1:\n",
    "            if pre == 1:\n",
    "                TP += 1\n",
    "            else:\n",
    "                FN += 1\n",
    "        if gt == 0:\n",
    "            if pre == 1:\n",
    "                FP += 1\n",
    "            else:\n",
    "                TN += 1\n",
    "    #print('TP=%d FP=%d TN=%d FN=%d' % (TP, FP, TN, FN))\n",
    "    return TP, FP, TN, FN"
   ]
  },
  {
   "cell_type": "code",
   "execution_count": 4,
   "id": "d057dba5",
   "metadata": {},
   "outputs": [],
   "source": [
    "def reconstruct_label(timestamp, label):\n",
    "    timestamp = np.asarray(timestamp, np.int64)\n",
    "    index = np.argsort(timestamp)\n",
    "\n",
    "    timestamp_sorted = np.asarray(timestamp[index])\n",
    "    interval = np.min(np.diff(timestamp_sorted))\n",
    "\n",
    "    label = np.asarray(label, np.int64)\n",
    "    label = np.asarray(label[index])\n",
    "\n",
    "    idx = (timestamp_sorted - timestamp_sorted[0]) // interval\n",
    "\n",
    "    new_label = np.zeros(shape=((timestamp_sorted[-1] - timestamp_sorted[0]) // interval + 1,), dtype=np.int64)\n",
    "    new_label[idx] = label\n",
    "\n",
    "    return new_label\n",
    "\n",
    "def get_range_proba(predict, label, delay=7):\n",
    "    predict = np.array(predict)\n",
    "    label = np.array(label)\n",
    "\n",
    "    splits = np.where(label[1:] != label[:-1])[0] + 1\n",
    "    is_anomaly = label[0] == 1\n",
    "    new_predict = np.array(predict)\n",
    "    pos = 0\n",
    "\n",
    "    for sp in splits:\n",
    "        if is_anomaly:\n",
    "            if 1 in predict[pos:min(pos + delay + 1, sp)]:\n",
    "                new_predict[pos: sp] = 1\n",
    "            else:\n",
    "                new_predict[pos: sp] = 0\n",
    "        is_anomaly = not is_anomaly\n",
    "        pos = sp\n",
    "    sp = len(label)\n",
    "\n",
    "    if is_anomaly:\n",
    "        if 1 in predict[pos: min(pos + delay + 1, sp)]:\n",
    "            new_predict[pos: sp] = 1\n",
    "        else:\n",
    "            new_predict[pos: sp] = 0\n",
    "\n",
    "    return new_predict\n",
    "\n",
    "def reconstruct_series(timestamp, label, predict, delay=7):\n",
    "    label = reconstruct_label(timestamp, label)\n",
    "    predict = reconstruct_label(timestamp, predict)\n",
    "    predict = get_range_proba(predict, label, delay)\n",
    "    return label.tolist(), predict.tolist()"
   ]
  },
  {
   "cell_type": "markdown",
   "id": "51ceef2a",
   "metadata": {},
   "source": [
    "The CNN model:"
   ]
  },
  {
   "cell_type": "code",
   "execution_count": 6,
   "id": "45c01e57",
   "metadata": {},
   "outputs": [],
   "source": [
    "class Anomaly(nn.Module):\n",
    "    def __init__(self, window=WINDOW_SIZE):\n",
    "        self.window = window\n",
    "        super(Anomaly, self).__init__()\n",
    "        self.layer1 = nn.Conv1d(window, window, kernel_size=1, stride=1, padding=0)\n",
    "        self.layer2 = nn.Conv1d(window, 2 * window, kernel_size=1, stride=1, padding=0)\n",
    "        self.fc1 = nn.Linear(2 * window, 4 * window)\n",
    "        self.fc2 = nn.Linear(4 * window, window)\n",
    "        self.relu = nn.ReLU(inplace=True)\n",
    "\n",
    "    def forward(self, x):\n",
    "        x = x.view(x.size(0), self.window, 1)\n",
    "        x = self.layer1(x)\n",
    "        x = self.relu(x)\n",
    "        x = self.layer2(x)\n",
    "        x = x.view(x.size(0), -1)\n",
    "        x = self.relu(x)\n",
    "        x = self.fc1(x)\n",
    "        x = self.relu(x)\n",
    "        x = self.fc2(x)\n",
    "        return torch.sigmoid(x)"
   ]
  },
  {
   "cell_type": "markdown",
   "id": "01315e20",
   "metadata": {},
   "source": [
    "to highlight anomalies in the data in plot:"
   ]
  },
  {
   "cell_type": "code",
   "execution_count": 25,
   "id": "b4d90a45",
   "metadata": {},
   "outputs": [],
   "source": [
    "def highlight(indices,ax, thickness=0.5):\n",
    "    i=0\n",
    "    while i<len(indices):\n",
    "        ax.axvspan(indices[i]-thickness, indices[i]+thickness, facecolor='red', edgecolor='none', alpha=.9)\n",
    "        i+=1\n",
    "\n",
    "def plots(values, is_anomaly, interval=[0,100], fig_size=(40,4), thickness=0.5):\n",
    "    df = pd.DataFrame()\n",
    "    start_index= (len(values) * interval[0]) // 100\n",
    "    end_index = (len(values) * interval[1]) // 100\n",
    "    df['value'] = values[start_index:end_index]\n",
    "    df['is_anomaly'] = is_anomaly[start_index:end_index]\n",
    "    df = df.reset_index()\n",
    "    \n",
    "    ax1 = df.plot(kind='line', x='index', y='value', color='b', figsize=fig_size) \n",
    "    highlight(df[df['is_anomaly']==1].index, ax1, thickness)"
   ]
  },
  {
   "cell_type": "code",
   "execution_count": 8,
   "id": "9eb736ab",
   "metadata": {},
   "outputs": [],
   "source": [
    "kpis = {}\n",
    "DATA_PATH=os.getcwd()+'/../sr-cnn/train.csv'\n",
    "anomalies = 0\n",
    "with open(DATA_PATH) as f:\n",
    "    input = csv.reader(f, delimiter=',')\n",
    "    cnt = 0\n",
    "    for row in input:\n",
    "        if cnt == 0:\n",
    "            cnt += 1\n",
    "            continue\n",
    "        kpi = kpis.get(str(row[3]), [[],[],[]])\n",
    "        kpi[0].append(int(row[0])) #timestamp\n",
    "        kpi[1].append(float(row[1])) #value\n",
    "        kpi[2].append(int(row[2])) #label\n",
    "        kpis[str(row[3])] = kpi\n",
    "        cnt += 1\n",
    "        if int(row[2]) == 1:\n",
    "            anomalies += 1\n",
    "    f.close()"
   ]
  },
  {
   "cell_type": "code",
   "execution_count": 9,
   "id": "97d11b3c",
   "metadata": {},
   "outputs": [
    {
     "name": "stdout",
     "output_type": "stream",
     "text": [
      "total number of anomalies in training data: 79554\n"
     ]
    }
   ],
   "source": [
    "print('total number of anomalies in training data:', anomalies)"
   ]
  },
  {
   "cell_type": "code",
   "execution_count": null,
   "id": "6333d6c5",
   "metadata": {},
   "outputs": [],
   "source": [
    "i=27\n",
    "kpis_list = list(kpis.values())\n",
    "\n",
    "plots(kpis_list[i][1], kpis_list[i][2], interval=[50,60])"
   ]
  },
  {
   "cell_type": "markdown",
   "id": "5a85d4e4",
   "metadata": {},
   "source": [
    "As stated in the paper, each time-series is to be halved for training and validating part of the training:"
   ]
  },
  {
   "cell_type": "code",
   "execution_count": 11,
   "id": "e616d750",
   "metadata": {},
   "outputs": [],
   "source": [
    "train_kpis = {}\n",
    "validation_kpis = {}\n",
    "rate = 0.5\n",
    "for kpi_id in kpis:\n",
    "    kpi = kpis[kpi_id]\n",
    "    train_length = math.ceil(len(kpi[0]) * rate)\n",
    "    train_kpis[kpi_id] = [kpi[0][0:train_length], kpi[1][0:train_length], kpi[2][0:train_length]]\n",
    "    validation_kpis[kpi_id] = [kpi[0][train_length:], kpi[1][train_length:], kpi[2][train_length:]]"
   ]
  },
  {
   "cell_type": "markdown",
   "id": "180dab67",
   "metadata": {},
   "source": [
    "to inject anomalous points according to the formula in the paper:"
   ]
  },
  {
   "cell_type": "code",
   "execution_count": 31,
   "id": "b5589e51",
   "metadata": {},
   "outputs": [],
   "source": [
    "class gen():\n",
    "    def __init__(self, win_siz, step, nums):\n",
    "        self.control = 0\n",
    "        self.win_siz = win_siz\n",
    "        self.step = step\n",
    "        self.number = nums\n",
    "\n",
    "    def generate_train_data(self, value, labels, back=q, insert_anomalies=True):\n",
    "        number_anomalies_added = 0\n",
    "        total_length = 0\n",
    "\n",
    "        length = len(value)\n",
    "        tmp = []\n",
    "        for pt in range(self.win_siz, length - back, self.step):\n",
    "            head = max(0, pt - self.win_siz)\n",
    "            tail = min(length - back, pt)\n",
    "            data = np.array(value[head:tail])\n",
    "            data = data.astype(np.float64)\n",
    "            data = normalize(data)\n",
    "            lbs = np.array(labels[head:tail])\n",
    "            if insert_anomalies:\n",
    "                num = np.random.randint(1, self.number)\n",
    "                ids = np.random.choice(self.win_siz, num, replace=False)\n",
    "                if (self.win_siz - 6) not in ids:\n",
    "                    self.control += np.random.random()\n",
    "                else:\n",
    "                    self.control = 0\n",
    "                if self.control > 100:\n",
    "                    ids[0] = self.win_siz - 6\n",
    "                    self.control = 0\n",
    "                mean = np.mean(data)\n",
    "                dataavg = average_filter(data)\n",
    "                var = np.var(data)\n",
    "                for id in ids:\n",
    "                    rndm = np.random.randn() * 3\n",
    "                    while abs(rndm) < 0.2:\n",
    "                        rndm = np.random.randn() * 3\n",
    "                    data[id] += (dataavg[id] + mean) * (rndm) * min((1 + var), 10)\n",
    "                    lbs[id] = 1\n",
    "                    number_anomalies_added += 1\n",
    "            total_length += len(data)\n",
    "            tmp.append([data.tolist(), lbs.tolist()])\n",
    "        print('number of anomalies added:', number_anomalies_added, ' total length of data:', total_length)\n",
    "        return tmp"
   ]
  },
  {
   "cell_type": "code",
   "execution_count": 79,
   "id": "34e37006",
   "metadata": {},
   "outputs": [
    {
     "name": "stdout",
     "output_type": "stream",
     "text": [
      "number of anomalies added: 0  total length of data: 148320\n",
      "number of anomalies added: 0  total length of data: 8640\n",
      "number of anomalies added: 0  total length of data: 12960\n",
      "number of anomalies added: 0  total length of data: 8640\n",
      "number of anomalies added: 0  total length of data: 8640\n",
      "number of anomalies added: 0  total length of data: 8640\n",
      "number of anomalies added: 0  total length of data: 8640\n",
      "number of anomalies added: 0  total length of data: 8640\n",
      "number of anomalies added: 0  total length of data: 178560\n",
      "number of anomalies added: 0  total length of data: 178560\n",
      "number of anomalies added: 0  total length of data: 178560\n",
      "number of anomalies added: 0  total length of data: 177120\n",
      "number of anomalies added: 0  total length of data: 177120\n",
      "number of anomalies added: 0  total length of data: 177120\n",
      "number of anomalies added: 0  total length of data: 178560\n",
      "number of anomalies added: 0  total length of data: 203040\n",
      "number of anomalies added: 0  total length of data: 203040\n",
      "number of anomalies added: 0  total length of data: 203040\n",
      "number of anomalies added: 0  total length of data: 201600\n",
      "number of anomalies added: 0  total length of data: 200160\n",
      "number of anomalies added: 0  total length of data: 148320\n",
      "number of anomalies added: 0  total length of data: 148320\n",
      "number of anomalies added: 0  total length of data: 146880\n",
      "number of anomalies added: 0  total length of data: 201600\n",
      "number of anomalies added: 0  total length of data: 201600\n",
      "number of anomalies added: 0  total length of data: 201600\n",
      "number of anomalies added: 0  total length of data: 201600\n",
      "number of anomalies added: 0  total length of data: 203040\n",
      "number of anomalies added: 0  total length of data: 203040\n"
     ]
    }
   ],
   "source": [
    "MAX_NUMBER_OF_ANOMALOUS_POINTS_TO_ADD = 15\n",
    "\n",
    "training_data = {}\n",
    "validation_data = []\n",
    "generator = gen(WINDOW_SIZE, 512, MAX_NUMBER_OF_ANOMALOUS_POINTS_TO_ADD)\n",
    "for kpi_id in kpis:\n",
    "    train_kpi = train_kpis[kpi_id]\n",
    "    in_timestamp = train_kpi[0]\n",
    "    in_value = train_kpi[1]\n",
    "    in_label = train_kpi[2]\n",
    "    train_data = generator.generate_train_data(in_value, in_label, insert_anomalies=False)\n",
    "    training_data[kpi_id] = train_data\n",
    "    \n",
    "    #valid_kpi = validation_kpis[kpi_id]\n",
    "    #vld_data = generator.generate_train_data(valid_kpi[1], valid_kpi[2], insert_anomalies=False)\n",
    "    #validation_data += vld_data"
   ]
  },
  {
   "cell_type": "code",
   "execution_count": 80,
   "id": "63dd1ac8",
   "metadata": {},
   "outputs": [
    {
     "data": {
      "image/png": "[encoded data removed]",
      "text/plain": [
       "<Figure size 2880x288 with 1 Axes>"
      ]
     },
     "metadata": {
      "needs_background": "light"
     },
     "output_type": "display_data"
    }
   ],
   "source": [
    "for kpi_id in training_data:\n",
    "    data = training_data[kpi_id]\n",
    "    plots(data[0][0], data[0][1])\n",
    "    break"
   ]
  },
  {
   "cell_type": "markdown",
   "id": "bb19d4ab",
   "metadata": {},
   "source": [
    "gen_set is to apply Spectral Residual to the training data and then provide it for later step (CNN) as torch Dataset."
   ]
  },
  {
   "cell_type": "code",
   "execution_count": 81,
   "id": "b1573708",
   "metadata": {},
   "outputs": [],
   "source": [
    "class gen_set(Dataset):\n",
    "    def __init__(self, width, data, label_anomalies=True):\n",
    "        self.genlen = 0\n",
    "        self.len = self.genlen\n",
    "        self.width = width\n",
    "        self.kpinegraw = data\n",
    "        self.negrawlen = len(self.kpinegraw)\n",
    "        print('length :', len(self.kpinegraw))\n",
    "        self.len += self.negrawlen\n",
    "        self.kpineglen = 0\n",
    "        self.control = 0.\n",
    "        self.label_anomaly = label_anomalies\n",
    "\n",
    "    def __len__(self):\n",
    "        return self.len\n",
    "\n",
    "    def __getitem__(self, index):\n",
    "        idx = index % self.negrawlen\n",
    "        datas = self.kpinegraw[idx]\n",
    "        datas = np.array(datas)\n",
    "        data = datas[0, :].astype(np.float64)\n",
    "        lbs = datas[1, :].astype(np.float64)\n",
    "        wave = spectral_residual(data)\n",
    "        if self.label_anomaly:\n",
    "            waveavg = average_filter(wave, n=z)\n",
    "            for i in range(self.width):\n",
    "                if wave[i] < 0.001 and waveavg[i] < 0.001:\n",
    "                    lbs[i] = 0\n",
    "                    continue\n",
    "                ratio = wave[i] / waveavg[i]\n",
    "                if ratio < 1.0 and lbs[i] == 1:\n",
    "                    lbs[i] = 0\n",
    "                if ratio > 5.0:\n",
    "                    lbs[i] = 1\n",
    "            srscore = abs(wave - waveavg) / (waveavg + 0.001)\n",
    "            lbs[srscore > TAU] = 1\n",
    "        resdata = torch.from_numpy(wave)\n",
    "        reslb = torch.from_numpy(lbs)\n",
    "        return resdata, reslb"
   ]
  },
  {
   "cell_type": "code",
   "execution_count": 82,
   "id": "7c0638b5",
   "metadata": {},
   "outputs": [
    {
     "name": "stdout",
     "output_type": "stream",
     "text": [
      "length : 103\n",
      "length : 6\n",
      "length : 9\n",
      "length : 6\n",
      "length : 6\n",
      "length : 6\n",
      "length : 6\n",
      "length : 6\n",
      "length : 124\n",
      "length : 124\n",
      "length : 124\n",
      "length : 123\n",
      "length : 123\n",
      "length : 123\n",
      "length : 124\n",
      "length : 141\n",
      "length : 141\n",
      "length : 141\n",
      "length : 140\n",
      "length : 139\n",
      "length : 103\n",
      "length : 103\n",
      "length : 102\n",
      "length : 140\n",
      "length : 140\n",
      "length : 140\n",
      "length : 140\n",
      "length : 141\n",
      "length : 141\n"
     ]
    }
   ],
   "source": [
    "gen_data_train = {}\n",
    "for kpi_id in training_data:\n",
    "    kpi = training_data[kpi_id]\n",
    "    gen_data_train[kpi_id] = gen_set(WINDOW_SIZE, kpi, label_anomalies=True)"
   ]
  },
  {
   "cell_type": "code",
   "execution_count": 83,
   "id": "17c3aa5d",
   "metadata": {},
   "outputs": [],
   "source": [
    "training_final = []\n",
    "validation_final = []\n",
    "for kpi_id in gen_data_train:\n",
    "    kpi = gen_data_train[kpi_id]\n",
    "    n_train = math.ceil(len(kpi) *0.5)\n",
    "    n_validate = len(kpi) - n_train\n",
    "    train_data, validation_data = torch.utils.data.random_split(kpi,[n_train,n_validate])\n",
    "    training_final += train_data\n",
    "    validation_final += validation_data"
   ]
  },
  {
   "cell_type": "code",
   "execution_count": 84,
   "id": "70921d36",
   "metadata": {},
   "outputs": [
    {
     "data": {
      "image/png": "[encoded data removed]",
      "text/plain": [
       "<Figure size 2880x288 with 1 Axes>"
      ]
     },
     "metadata": {
      "needs_background": "light"
     },
     "output_type": "display_data"
    }
   ],
   "source": [
    "i=1\n",
    "plots(training_final[i][0], training_final[i][1], thickness=0.5, interval=[0,40])"
   ]
  },
  {
   "cell_type": "code",
   "execution_count": 90,
   "id": "1c498ab4",
   "metadata": {},
   "outputs": [],
   "source": [
    "def adjust_lr(optimizer, epoch):\n",
    "    cur_lr = LEARNING_RATE * (0.5 ** ((epoch + 10) // 10))\n",
    "    print('Learning rate changed to: ', cur_lr)\n",
    "    for param in optimizer.param_groups:\n",
    "        param['lr'] = cur_lr\n",
    "\n",
    "def Var(x):\n",
    "    return Variable(cuda_if_available(x))\n",
    "\n",
    "def loss_function(x, lb, win_size=WINDOW_SIZE):\n",
    "    l2_reg = 0.\n",
    "    l2_weight = 0.5\n",
    "    for W in net.parameters():\n",
    "        l2_reg = l2_reg + W.norm(2)\n",
    "    kpiweight = torch.ones(lb.shape)\n",
    "    kpiweight[lb == 1] = win_size // 100\n",
    "    kpiweight = cuda_if_available(kpiweight)\n",
    "    BCE = F.binary_cross_entropy(x, lb, weight=kpiweight, reduction='mean')\n",
    "    #print(l2_reg.item(), l2_weight, BCE.item())\n",
    "    #print(x.shape[0])\n",
    "    return l2_reg * l2_weight / x.shape[0] + BCE"
   ]
  },
  {
   "cell_type": "code",
   "execution_count": 91,
   "id": "b48c3d32",
   "metadata": {},
   "outputs": [],
   "source": [
    "def train(epoch, net, train_loader, valid_loader, optimizer):\n",
    "    \n",
    "    net.train()\n",
    "    train_loss = 0.\n",
    "    totTP, totFP, totTN, totFN = 0, 0, 0, 0\n",
    "    threshold = 0.5\n",
    "    for batch_idx, (inputs, lb) in enumerate(tqdm(train_loader, desc=\"Iteration\")):\n",
    "        optimizer.zero_grad()\n",
    "        \n",
    "        \n",
    "        # forward propagate\n",
    "        inputs = inputs.float()\n",
    "        lb = lb.float()        \n",
    "        valueseq = Var(inputs)\n",
    "        lb = Var(lb)\n",
    "        output = net(valueseq)\n",
    "        \n",
    "        \n",
    "        loss1 = loss_function(output, lb)\n",
    "        loss1.backward()\n",
    "        train_loss += loss1.item()\n",
    "        optimizer.step()\n",
    "        #torch.nn.utils.clip_grad_norm_(net.parameters(), 5.0)\n",
    "        \n",
    "        if batch_idx % train_loader.batch_size == 0:\n",
    "            print('Train Epoch: {} [{}/{} ({:.0f}%)]\\tLoss: {:.6f}'.format(\n",
    "                epoch, batch_idx , len(train_loader),\n",
    "                       100. * batch_idx / len(train_loader),\n",
    "                       loss1.item()))\n",
    "            \n",
    "    \n",
    "    net.eval()\n",
    "    valid_loss = 0.0\n",
    "    for batch_idx, (inputs, lb) in enumerate(tqdm(valid_loader, desc=\"Iteration\")):\n",
    "        inputs = inputs.float()\n",
    "        lb = lb.float()        \n",
    "        valueseq = Var(inputs)\n",
    "        lb = Var(lb)\n",
    "        output = net(valueseq)\n",
    "        loss1 = loss_function(output, lb)\n",
    "        valid_loss += loss1.item()\n",
    "        \n",
    "        aa = output.detach().cpu().numpy().reshape(-1)\n",
    "        res = np.zeros(aa.shape, np.int64)\n",
    "        res[aa > threshold] = 1\n",
    "        bb = lb.detach().cpu().numpy().reshape(-1)\n",
    "        res = get_range_proba(res, bb, delay=7)\n",
    "        TP, FP, TN, FN = calc(res, bb)\n",
    "        totTP += TP\n",
    "        totFP += FP\n",
    "        totTN += TN\n",
    "        totFN += FN\n",
    "        \n",
    "    #accuracy = (totTP + totTN) * 100. / (totTP+totFP+totTN+totFN)\n",
    "    print(f'Epoch {epoch+1} \\t\\t Training Loss: {train_loss / len(train_loader)} \\t\\t Validation Loss: {valid_loss / len(valid_loader)}')\n",
    "    accuracy = (totTP + totTN) * 100. / (totTP+totFP+totTN+totFN)\n",
    "    precision = totTP * 1. / (totTP + totFP) if totTP + totFP != 0 else 0\n",
    "    recall = totTP * 1. / (totTP + totFN) if totTP + totFN != 0 else 0\n",
    "    f1 = 2 * precision * recall / (precision + recall) if (precision + recall) != 0 else 0\n",
    "    print('Accuracy:', accuracy)\n",
    "    print('Precision:', precision)\n",
    "    print('Recall:', recall)\n",
    "    print('F1-score:', f1)"
   ]
  },
  {
   "cell_type": "code",
   "execution_count": 92,
   "id": "5256832e",
   "metadata": {},
   "outputs": [
    {
     "name": "stdout",
     "output_type": "stream",
     "text": [
      "epoch : 1\n"
     ]
    },
    {
     "data": {
      "application/vnd.jupyter.widget-view+json": {
       "model_id": "c92998fad3cf489c9a53333402c0bbf8",
       "version_major": 2,
       "version_minor": 0
      },
      "text/plain": [
       "HBox(children=(IntProgress(value=0, description='Iteration', max=23, style=ProgressStyle(description_width='in…"
      ]
     },
     "metadata": {},
     "output_type": "display_data"
    },
    {
     "name": "stdout",
     "output_type": "stream",
     "text": [
      "Train Epoch: 1 [0/23 (0%)]\tLoss: 1.687618\n",
      "\n"
     ]
    },
    {
     "data": {
      "application/vnd.jupyter.widget-view+json": {
       "model_id": "cee5f59657c24ed78a3ce2e84c0c041d",
       "version_major": 2,
       "version_minor": 0
      },
      "text/plain": [
       "HBox(children=(IntProgress(value=0, description='Iteration', max=23, style=ProgressStyle(description_width='in…"
      ]
     },
     "metadata": {},
     "output_type": "display_data"
    },
    {
     "name": "stdout",
     "output_type": "stream",
     "text": [
      "\n",
      "Epoch 2 \t\t Training Loss: 1.771482571311619 \t\t Validation Loss: 1.8336305721946384\n",
      "Accuracy: 84.98763051270063\n",
      "Precision: 0.023992796157950906\n",
      "Recall: 0.3152774125690245\n",
      "F1-score: 0.04459210681278629\n",
      "Learning rate changed to:  0.05\n",
      "epoch : 2\n"
     ]
    },
    {
     "data": {
      "application/vnd.jupyter.widget-view+json": {
       "model_id": "9fcbed6375714524a9ee4aeaac3cd7d5",
       "version_major": 2,
       "version_minor": 0
      },
      "text/plain": [
       "HBox(children=(IntProgress(value=0, description='Iteration', max=23, style=ProgressStyle(description_width='in…"
      ]
     },
     "metadata": {},
     "output_type": "display_data"
    },
    {
     "name": "stdout",
     "output_type": "stream",
     "text": [
      "Train Epoch: 2 [0/23 (0%)]\tLoss: 1.714959\n",
      "\n"
     ]
    },
    {
     "data": {
      "application/vnd.jupyter.widget-view+json": {
       "model_id": "d576c50b468c444ea5401b966a6b76a6",
       "version_major": 2,
       "version_minor": 0
      },
      "text/plain": [
       "HBox(children=(IntProgress(value=0, description='Iteration', max=23, style=ProgressStyle(description_width='in…"
      ]
     },
     "metadata": {},
     "output_type": "display_data"
    },
    {
     "name": "stdout",
     "output_type": "stream",
     "text": [
      "\n",
      "Epoch 3 \t\t Training Loss: 1.7586010279862776 \t\t Validation Loss: 1.827852135119231\n",
      "Accuracy: 96.52139823905252\n",
      "Precision: 0.02869718651232234\n",
      "Recall: 0.06486107459023578\n",
      "F1-score: 0.0397897595139197\n",
      "Learning rate changed to:  0.05\n",
      "epoch : 3\n"
     ]
    },
    {
     "data": {
      "application/vnd.jupyter.widget-view+json": {
       "model_id": "5d16fac90b8c42d49a26bfd4df6fb222",
       "version_major": 2,
       "version_minor": 0
      },
      "text/plain": [
       "HBox(children=(IntProgress(value=0, description='Iteration', max=23, style=ProgressStyle(description_width='in…"
      ]
     },
     "metadata": {},
     "output_type": "display_data"
    },
    {
     "name": "stdout",
     "output_type": "stream",
     "text": [
      "Train Epoch: 3 [0/23 (0%)]\tLoss: 1.682805\n",
      "\n"
     ]
    },
    {
     "data": {
      "application/vnd.jupyter.widget-view+json": {
       "model_id": "9725aec68f9d4b75b3748c5e34a8c10c",
       "version_major": 2,
       "version_minor": 0
      },
      "text/plain": [
       "HBox(children=(IntProgress(value=0, description='Iteration', max=23, style=ProgressStyle(description_width='in…"
      ]
     },
     "metadata": {},
     "output_type": "display_data"
    },
    {
     "name": "stdout",
     "output_type": "stream",
     "text": [
      "\n",
      "Epoch 4 \t\t Training Loss: 1.7529938428298286 \t\t Validation Loss: 1.819046279658442\n",
      "Accuracy: 98.65528089449899\n",
      "Precision: 0.03973891341908236\n",
      "Recall: 0.009071785432553247\n",
      "F1-score: 0.014771470367859564\n",
      "Learning rate changed to:  0.05\n",
      "epoch : 4\n"
     ]
    },
    {
     "data": {
      "application/vnd.jupyter.widget-view+json": {
       "model_id": "2297cd256a7442e9965454dcd65ed382",
       "version_major": 2,
       "version_minor": 0
      },
      "text/plain": [
       "HBox(children=(IntProgress(value=0, description='Iteration', max=23, style=ProgressStyle(description_width='in…"
      ]
     },
     "metadata": {},
     "output_type": "display_data"
    },
    {
     "name": "stdout",
     "output_type": "stream",
     "text": [
      "Train Epoch: 4 [0/23 (0%)]\tLoss: 1.700294\n",
      "\n"
     ]
    },
    {
     "data": {
      "application/vnd.jupyter.widget-view+json": {
       "model_id": "870e86d26bd94b059e1cd83be37d32ce",
       "version_major": 2,
       "version_minor": 0
      },
      "text/plain": [
       "HBox(children=(IntProgress(value=0, description='Iteration', max=23, style=ProgressStyle(description_width='in…"
      ]
     },
     "metadata": {},
     "output_type": "display_data"
    },
    {
     "name": "stdout",
     "output_type": "stream",
     "text": [
      "\n",
      "Epoch 5 \t\t Training Loss: 1.7497552944266277 \t\t Validation Loss: 1.8141792286997256\n",
      "Accuracy: 98.88733052828424\n",
      "Precision: 0.0\n",
      "Recall: 0.0\n",
      "F1-score: 0\n",
      "Learning rate changed to:  0.05\n",
      "epoch : 5\n"
     ]
    },
    {
     "data": {
      "application/vnd.jupyter.widget-view+json": {
       "model_id": "4637502b27e24227b0f6448dbf74440e",
       "version_major": 2,
       "version_minor": 0
      },
      "text/plain": [
       "HBox(children=(IntProgress(value=0, description='Iteration', max=23, style=ProgressStyle(description_width='in…"
      ]
     },
     "metadata": {},
     "output_type": "display_data"
    },
    {
     "name": "stdout",
     "output_type": "stream",
     "text": [
      "Train Epoch: 5 [0/23 (0%)]\tLoss: 1.721894\n",
      "\n"
     ]
    },
    {
     "data": {
      "application/vnd.jupyter.widget-view+json": {
       "model_id": "08d3994849a8405687b0ad5eba4ffe28",
       "version_major": 2,
       "version_minor": 0
      },
      "text/plain": [
       "HBox(children=(IntProgress(value=0, description='Iteration', max=23, style=ProgressStyle(description_width='in…"
      ]
     },
     "metadata": {},
     "output_type": "display_data"
    },
    {
     "name": "stdout",
     "output_type": "stream",
     "text": [
      "\n",
      "Epoch 6 \t\t Training Loss: 1.7421715622362883 \t\t Validation Loss: 1.8147869317427925\n",
      "Accuracy: 98.8887914913511\n",
      "Precision: 0\n",
      "Recall: 0.0\n",
      "F1-score: 0\n",
      "Learning rate changed to:  0.05\n",
      "epoch : 6\n"
     ]
    },
    {
     "data": {
      "application/vnd.jupyter.widget-view+json": {
       "model_id": "c5911d844b3d4a26a1229714c8764acc",
       "version_major": 2,
       "version_minor": 0
      },
      "text/plain": [
       "HBox(children=(IntProgress(value=0, description='Iteration', max=23, style=ProgressStyle(description_width='in…"
      ]
     },
     "metadata": {},
     "output_type": "display_data"
    },
    {
     "name": "stdout",
     "output_type": "stream",
     "text": [
      "Train Epoch: 6 [0/23 (0%)]\tLoss: 1.657012\n",
      "\n"
     ]
    },
    {
     "data": {
      "application/vnd.jupyter.widget-view+json": {
       "model_id": "86b2df42bc9c4fa289a09f8fb171ac0c",
       "version_major": 2,
       "version_minor": 0
      },
      "text/plain": [
       "HBox(children=(IntProgress(value=0, description='Iteration', max=23, style=ProgressStyle(description_width='in…"
      ]
     },
     "metadata": {},
     "output_type": "display_data"
    },
    {
     "name": "stdout",
     "output_type": "stream",
     "text": [
      "\n",
      "Epoch 7 \t\t Training Loss: 1.7357371371725332 \t\t Validation Loss: 1.8022076513456262\n",
      "Accuracy: 98.8887914913511\n",
      "Precision: 0\n",
      "Recall: 0.0\n",
      "F1-score: 0\n",
      "Learning rate changed to:  0.05\n",
      "epoch : 7\n"
     ]
    },
    {
     "data": {
      "application/vnd.jupyter.widget-view+json": {
       "model_id": "9cd0eebbeddc43f0b50f3fd1b973d00c",
       "version_major": 2,
       "version_minor": 0
      },
      "text/plain": [
       "HBox(children=(IntProgress(value=0, description='Iteration', max=23, style=ProgressStyle(description_width='in…"
      ]
     },
     "metadata": {},
     "output_type": "display_data"
    },
    {
     "name": "stdout",
     "output_type": "stream",
     "text": [
      "Train Epoch: 7 [0/23 (0%)]\tLoss: 1.732091\n",
      "\n"
     ]
    },
    {
     "data": {
      "application/vnd.jupyter.widget-view+json": {
       "model_id": "da314e7d9a2e4af39f0207c4098a651a",
       "version_major": 2,
       "version_minor": 0
      },
      "text/plain": [
       "HBox(children=(IntProgress(value=0, description='Iteration', max=23, style=ProgressStyle(description_width='in…"
      ]
     },
     "metadata": {},
     "output_type": "display_data"
    },
    {
     "name": "stdout",
     "output_type": "stream",
     "text": [
      "\n",
      "Epoch 8 \t\t Training Loss: 1.731962836307028 \t\t Validation Loss: 1.7975309154261714\n",
      "Accuracy: 98.8887914913511\n",
      "Precision: 0\n",
      "Recall: 0.0\n",
      "F1-score: 0\n",
      "Learning rate changed to:  0.05\n",
      "epoch : 8\n"
     ]
    },
    {
     "data": {
      "application/vnd.jupyter.widget-view+json": {
       "model_id": "9581e970824749a5950c70018486a3a0",
       "version_major": 2,
       "version_minor": 0
      },
      "text/plain": [
       "HBox(children=(IntProgress(value=0, description='Iteration', max=23, style=ProgressStyle(description_width='in…"
      ]
     },
     "metadata": {},
     "output_type": "display_data"
    },
    {
     "name": "stdout",
     "output_type": "stream",
     "text": [
      "Train Epoch: 8 [0/23 (0%)]\tLoss: 1.706126\n",
      "\n"
     ]
    },
    {
     "data": {
      "application/vnd.jupyter.widget-view+json": {
       "model_id": "baa63bfe393e4c71a34fbfbb9d13d017",
       "version_major": 2,
       "version_minor": 0
      },
      "text/plain": [
       "HBox(children=(IntProgress(value=0, description='Iteration', max=23, style=ProgressStyle(description_width='in…"
      ]
     },
     "metadata": {},
     "output_type": "display_data"
    },
    {
     "name": "stdout",
     "output_type": "stream",
     "text": [
      "\n",
      "Epoch 9 \t\t Training Loss: 1.726917002512061 \t\t Validation Loss: 1.792505435321642\n",
      "Accuracy: 98.8887914913511\n",
      "Precision: 0\n",
      "Recall: 0.0\n",
      "F1-score: 0\n",
      "Learning rate changed to:  0.05\n",
      "epoch : 9\n"
     ]
    },
    {
     "data": {
      "application/vnd.jupyter.widget-view+json": {
       "model_id": "8f6d67d8f435456d85a2715dd18002bb",
       "version_major": 2,
       "version_minor": 0
      },
      "text/plain": [
       "HBox(children=(IntProgress(value=0, description='Iteration', max=23, style=ProgressStyle(description_width='in…"
      ]
     },
     "metadata": {},
     "output_type": "display_data"
    },
    {
     "name": "stdout",
     "output_type": "stream",
     "text": [
      "Train Epoch: 9 [0/23 (0%)]\tLoss: 1.683917\n",
      "\n"
     ]
    },
    {
     "data": {
      "application/vnd.jupyter.widget-view+json": {
       "model_id": "bc8afc942f5f426b804e0c3981ff49a6",
       "version_major": 2,
       "version_minor": 0
      },
      "text/plain": [
       "HBox(children=(IntProgress(value=0, description='Iteration', max=23, style=ProgressStyle(description_width='in…"
      ]
     },
     "metadata": {},
     "output_type": "display_data"
    },
    {
     "name": "stdout",
     "output_type": "stream",
     "text": [
      "\n",
      "Epoch 10 \t\t Training Loss: 1.722122741782147 \t\t Validation Loss: 1.789027302161507\n",
      "Accuracy: 98.8887914913511\n",
      "Precision: 0\n",
      "Recall: 0.0\n",
      "F1-score: 0\n",
      "Learning rate changed to:  0.05\n",
      "epoch : 10\n"
     ]
    },
    {
     "data": {
      "application/vnd.jupyter.widget-view+json": {
       "model_id": "ff9ead61567a4ec9848964730890dc31",
       "version_major": 2,
       "version_minor": 0
      },
      "text/plain": [
       "HBox(children=(IntProgress(value=0, description='Iteration', max=23, style=ProgressStyle(description_width='in…"
      ]
     },
     "metadata": {},
     "output_type": "display_data"
    },
    {
     "name": "stdout",
     "output_type": "stream",
     "text": [
      "Train Epoch: 10 [0/23 (0%)]\tLoss: 1.678277\n",
      "\n"
     ]
    },
    {
     "data": {
      "application/vnd.jupyter.widget-view+json": {
       "model_id": "93fd4d6ed63e4720a104133a75a474d2",
       "version_major": 2,
       "version_minor": 0
      },
      "text/plain": [
       "HBox(children=(IntProgress(value=0, description='Iteration', max=23, style=ProgressStyle(description_width='in…"
      ]
     },
     "metadata": {},
     "output_type": "display_data"
    },
    {
     "name": "stdout",
     "output_type": "stream",
     "text": [
      "\n",
      "Epoch 11 \t\t Training Loss: 1.720582137937131 \t\t Validation Loss: 1.784849358641583\n",
      "Accuracy: 98.8887914913511\n",
      "Precision: 0\n",
      "Recall: 0.0\n",
      "F1-score: 0\n",
      "Learning rate changed to:  0.025\n"
     ]
    }
   ],
   "source": [
    "model = Anomaly(WINDOW_SIZE)\n",
    "\n",
    "if torch.cuda.is_available():\n",
    "    net = model.cuda()\n",
    "    gpu_num = torch.cuda.device_count()\n",
    "    net = torch.nn.DataParallel(net, list(range(gpu_num)))\n",
    "    print(net)\n",
    "else:\n",
    "    net = model.cpu()\n",
    "\n",
    "\n",
    "bp_parameters = filter(lambda p: p.requires_grad, net.parameters()) # back propagation parameters\n",
    "optimizer = optim.SGD(bp_parameters, lr=LEARNING_RATE, momentum=0.9, weight_decay=0.0)\n",
    "\n",
    "\n",
    "#n_train = math.ceil(len(gen_data) *0.5)\n",
    "#n_validate = len(gen_data) - n_train\n",
    "#train_data, validation_data = torch.utils.data.random_split(gen_data,[n_train,n_validate])\n",
    "\n",
    "\n",
    "train_loader = torch.utils.data.DataLoader(dataset=training_final, shuffle=True, \n",
    "                                                 batch_size=64, pin_memory=True)\n",
    "\n",
    "valid_loader = torch.utils.data.DataLoader(dataset=validation_final, shuffle=True, \n",
    "                                                 batch_size=64, pin_memory=True)\n",
    "\n",
    "for epoch in range(1, EPOCHS + 1):\n",
    "    print('epoch :', epoch)\n",
    "    train(epoch, net, train_loader, valid_loader, optimizer)\n",
    "    adjust_lr(optimizer, epoch)"
   ]
  },
  {
   "cell_type": "markdown",
   "id": "5aff73eb",
   "metadata": {},
   "source": [
    "# Testing"
   ]
  },
  {
   "cell_type": "code",
   "execution_count": 93,
   "id": "4ff6b703",
   "metadata": {},
   "outputs": [],
   "source": [
    "import pandas as pd\n",
    "TEST_DATA_PATH=os.getcwd()+'/../sr-cnn/test.hdf'\n",
    "test_data = pd.read_hdf(TEST_DATA_PATH)"
   ]
  },
  {
   "cell_type": "code",
   "execution_count": 94,
   "id": "fa9a35d8",
   "metadata": {},
   "outputs": [],
   "source": [
    "extend_num= 5\n",
    "tau = 3\n",
    "backaddnum = 5\n",
    "back = 0\n",
    "step= 1\n",
    "threshold = 0.50\n",
    "\n",
    "def modelwork(x, net):\n",
    "    with torch.no_grad():\n",
    "        x = torch.from_numpy(100 * x).float()\n",
    "        x = torch.unsqueeze(x, 0)\n",
    "        x = Var(x)\n",
    "        output = net(x)\n",
    "    aa = output.detach().cpu().numpy().reshape(-1)\n",
    "    res = np.zeros(aa.shape, np.int64)\n",
    "    res[aa > threshold] = 1\n",
    "    return res, aa"
   ]
  },
  {
   "cell_type": "code",
   "execution_count": 95,
   "id": "f7b064d0",
   "metadata": {},
   "outputs": [],
   "source": [
    "def predict(timestamp, value, label):\n",
    "    length = len(timestamp)\n",
    "    detres = [0] * (WINDOW_SIZE - backaddnum)\n",
    "    scores = [0] * (WINDOW_SIZE - backaddnum)\n",
    "\n",
    "    for pt in tqdm(range(WINDOW_SIZE - backaddnum + back + step, length - back, step)):\n",
    "        head = max(0, pt - (WINDOW_SIZE - backaddnum))\n",
    "        tail = min(length, pt)\n",
    "        wave = np.array(extend_series(value[head:tail + back]))\n",
    "        mag = spectral_residual(wave)\n",
    "        modeloutput, rawout = modelwork(mag, net)\n",
    "        for ipt in range(pt - step - back, pt - back):\n",
    "            detres.append(modeloutput[ipt - head])\n",
    "            scores.append(rawout[ipt - head].item())\n",
    "    detres += [0] * (length - len(detres))\n",
    "    scores += [0] * (length - len(scores))\n",
    "\n",
    "    last = -1\n",
    "    interval = min([timestamp[i] - timestamp[i - 1] for i in range(1, len(timestamp))])\n",
    "    for i in range(1, len(timestamp)):\n",
    "        if timestamp[i] - timestamp[i - 1] > interval:\n",
    "            if last >= 0 and i - last < 1000:\n",
    "                detres[i] = 1\n",
    "                scores[i] = 1\n",
    "        if detres[i] == 1:\n",
    "            last = i\n",
    "\n",
    "    return timestamp[:], label[:], detres[:], scores[:]"
   ]
  },
  {
   "cell_type": "code",
   "execution_count": 96,
   "id": "f1cab6d2",
   "metadata": {},
   "outputs": [
    {
     "data": {
      "application/vnd.jupyter.widget-view+json": {
       "model_id": "e00c196ceda64179bd768419d5398e68",
       "version_major": 2,
       "version_minor": 0
      },
      "text/plain": [
       "HBox(children=(IntProgress(value=0, max=147694), HTML(value='')))"
      ]
     },
     "metadata": {},
     "output_type": "display_data"
    },
    {
     "name": "stdout",
     "output_type": "stream",
     "text": [
      "\n"
     ]
    },
    {
     "data": {
      "application/vnd.jupyter.widget-view+json": {
       "model_id": "5eb885394b1f476981cb102baa443874",
       "version_major": 2,
       "version_minor": 0
      },
      "text/plain": [
       "HBox(children=(IntProgress(value=0, max=7348), HTML(value='')))"
      ]
     },
     "metadata": {},
     "output_type": "display_data"
    },
    {
     "name": "stdout",
     "output_type": "stream",
     "text": [
      "\n"
     ]
    },
    {
     "data": {
      "application/vnd.jupyter.widget-view+json": {
       "model_id": "e30b86e3b1bf47389757bcf348e5ff3e",
       "version_major": 2,
       "version_minor": 0
      },
      "text/plain": [
       "HBox(children=(IntProgress(value=0, max=147720), HTML(value='')))"
      ]
     },
     "metadata": {},
     "output_type": "display_data"
    },
    {
     "name": "stdout",
     "output_type": "stream",
     "text": [
      "\n"
     ]
    },
    {
     "data": {
      "application/vnd.jupyter.widget-view+json": {
       "model_id": "5a42fd4858ea43df9c82b9e357e58af0",
       "version_major": 2,
       "version_minor": 0
      },
      "text/plain": [
       "HBox(children=(IntProgress(value=0, max=7348), HTML(value='')))"
      ]
     },
     "metadata": {},
     "output_type": "display_data"
    },
    {
     "name": "stdout",
     "output_type": "stream",
     "text": [
      "\n"
     ]
    },
    {
     "data": {
      "application/vnd.jupyter.widget-view+json": {
       "model_id": "f3b9a53269a749688687e55a47a62183",
       "version_major": 2,
       "version_minor": 0
      },
      "text/plain": [
       "HBox(children=(IntProgress(value=0, max=147725), HTML(value='')))"
      ]
     },
     "metadata": {},
     "output_type": "display_data"
    },
    {
     "name": "stdout",
     "output_type": "stream",
     "text": [
      "\n"
     ]
    },
    {
     "data": {
      "application/vnd.jupyter.widget-view+json": {
       "model_id": "9bfc240b139747e98fe145d3afb5ea45",
       "version_major": 2,
       "version_minor": 0
      },
      "text/plain": [
       "HBox(children=(IntProgress(value=0, max=109193), HTML(value='')))"
      ]
     },
     "metadata": {},
     "output_type": "display_data"
    },
    {
     "name": "stdout",
     "output_type": "stream",
     "text": [
      "\n"
     ]
    },
    {
     "data": {
      "application/vnd.jupyter.widget-view+json": {
       "model_id": "e68ef075df4f4afea68b79664803ffee",
       "version_major": 2,
       "version_minor": 0
      },
      "text/plain": [
       "HBox(children=(IntProgress(value=0, max=110130), HTML(value='')))"
      ]
     },
     "metadata": {},
     "output_type": "display_data"
    },
    {
     "name": "stdout",
     "output_type": "stream",
     "text": [
      "\n"
     ]
    },
    {
     "data": {
      "application/vnd.jupyter.widget-view+json": {
       "model_id": "a9308759caa24c5faa83124ad1fb63f3",
       "version_major": 2,
       "version_minor": 0
      },
      "text/plain": [
       "HBox(children=(IntProgress(value=0, max=109934), HTML(value='')))"
      ]
     },
     "metadata": {},
     "output_type": "display_data"
    },
    {
     "name": "stdout",
     "output_type": "stream",
     "text": [
      "\n"
     ]
    },
    {
     "data": {
      "application/vnd.jupyter.widget-view+json": {
       "model_id": "961c8ab3d80d481caa0c0dfb92be99d3",
       "version_major": 2,
       "version_minor": 0
      },
      "text/plain": [
       "HBox(children=(IntProgress(value=0, max=6180), HTML(value='')))"
      ]
     },
     "metadata": {},
     "output_type": "display_data"
    },
    {
     "name": "stdout",
     "output_type": "stream",
     "text": [
      "\n"
     ]
    },
    {
     "data": {
      "application/vnd.jupyter.widget-view+json": {
       "model_id": "4960711b35154a42822e571120eac565",
       "version_major": 2,
       "version_minor": 0
      },
      "text/plain": [
       "HBox(children=(IntProgress(value=0, max=147697), HTML(value='')))"
      ]
     },
     "metadata": {},
     "output_type": "display_data"
    },
    {
     "name": "stdout",
     "output_type": "stream",
     "text": [
      "\n"
     ]
    },
    {
     "data": {
      "application/vnd.jupyter.widget-view+json": {
       "model_id": "d008cb08d39c4faea3921e8c84c4436c",
       "version_major": 2,
       "version_minor": 0
      },
      "text/plain": [
       "HBox(children=(IntProgress(value=0, max=110243), HTML(value='')))"
      ]
     },
     "metadata": {},
     "output_type": "display_data"
    },
    {
     "name": "stdout",
     "output_type": "stream",
     "text": [
      "\n"
     ]
    },
    {
     "data": {
      "application/vnd.jupyter.widget-view+json": {
       "model_id": "9d737c1fd3d24f01880a2a61ad72cf12",
       "version_major": 2,
       "version_minor": 0
      },
      "text/plain": [
       "HBox(children=(IntProgress(value=0, max=109440), HTML(value='')))"
      ]
     },
     "metadata": {},
     "output_type": "display_data"
    },
    {
     "name": "stdout",
     "output_type": "stream",
     "text": [
      "\n"
     ]
    },
    {
     "data": {
      "application/vnd.jupyter.widget-view+json": {
       "model_id": "8b804d0f60e54febbc27a6dbeb1d8211",
       "version_major": 2,
       "version_minor": 0
      },
      "text/plain": [
       "HBox(children=(IntProgress(value=0, max=147686), HTML(value='')))"
      ]
     },
     "metadata": {},
     "output_type": "display_data"
    },
    {
     "name": "stdout",
     "output_type": "stream",
     "text": [
      "\n"
     ]
    },
    {
     "data": {
      "application/vnd.jupyter.widget-view+json": {
       "model_id": "8006f69f1b114d078d41c49957793935",
       "version_major": 2,
       "version_minor": 0
      },
      "text/plain": [
       "HBox(children=(IntProgress(value=0, max=147712), HTML(value='')))"
      ]
     },
     "metadata": {},
     "output_type": "display_data"
    },
    {
     "name": "stdout",
     "output_type": "stream",
     "text": [
      "\n"
     ]
    },
    {
     "data": {
      "application/vnd.jupyter.widget-view+json": {
       "model_id": "87e477df52df49c5a962e58559ba1cd8",
       "version_major": 2,
       "version_minor": 0
      },
      "text/plain": [
       "HBox(children=(IntProgress(value=0, max=106989), HTML(value='')))"
      ]
     },
     "metadata": {},
     "output_type": "display_data"
    },
    {
     "name": "stdout",
     "output_type": "stream",
     "text": [
      "\n"
     ]
    },
    {
     "data": {
      "application/vnd.jupyter.widget-view+json": {
       "model_id": "f7472366e42d4a88994ec886c7fba999",
       "version_major": 2,
       "version_minor": 0
      },
      "text/plain": [
       "HBox(children=(IntProgress(value=0, max=147687), HTML(value='')))"
      ]
     },
     "metadata": {},
     "output_type": "display_data"
    },
    {
     "name": "stdout",
     "output_type": "stream",
     "text": [
      "\n"
     ]
    },
    {
     "data": {
      "application/vnd.jupyter.widget-view+json": {
       "model_id": "b9ee2262ff8441bb9fd58f0ff1d7fe65",
       "version_major": 2,
       "version_minor": 0
      },
      "text/plain": [
       "HBox(children=(IntProgress(value=0, max=147682), HTML(value='')))"
      ]
     },
     "metadata": {},
     "output_type": "display_data"
    },
    {
     "name": "stdout",
     "output_type": "stream",
     "text": [
      "\n"
     ]
    },
    {
     "data": {
      "application/vnd.jupyter.widget-view+json": {
       "model_id": "6c0c2760aaf04e8882a2e1f2e494c191",
       "version_major": 2,
       "version_minor": 0
      },
      "text/plain": [
       "HBox(children=(IntProgress(value=0, max=109200), HTML(value='')))"
      ]
     },
     "metadata": {},
     "output_type": "display_data"
    },
    {
     "name": "stdout",
     "output_type": "stream",
     "text": [
      "\n"
     ]
    },
    {
     "data": {
      "application/vnd.jupyter.widget-view+json": {
       "model_id": "f11b2e70df9e4188a35937808d3797a5",
       "version_major": 2,
       "version_minor": 0
      },
      "text/plain": [
       "HBox(children=(IntProgress(value=0, max=109871), HTML(value='')))"
      ]
     },
     "metadata": {},
     "output_type": "display_data"
    },
    {
     "name": "stdout",
     "output_type": "stream",
     "text": [
      "\n"
     ]
    },
    {
     "data": {
      "application/vnd.jupyter.widget-view+json": {
       "model_id": "89876f01e8214c9a967f13d59a93bb1c",
       "version_major": 2,
       "version_minor": 0
      },
      "text/plain": [
       "HBox(children=(IntProgress(value=0, max=6142), HTML(value='')))"
      ]
     },
     "metadata": {},
     "output_type": "display_data"
    },
    {
     "name": "stdout",
     "output_type": "stream",
     "text": [
      "\n"
     ]
    },
    {
     "data": {
      "application/vnd.jupyter.widget-view+json": {
       "model_id": "7bce7c976e9a4c338184c52657ff8ae3",
       "version_major": 2,
       "version_minor": 0
      },
      "text/plain": [
       "HBox(children=(IntProgress(value=0, max=9344), HTML(value='')))"
      ]
     },
     "metadata": {},
     "output_type": "display_data"
    },
    {
     "name": "stdout",
     "output_type": "stream",
     "text": [
      "\n"
     ]
    },
    {
     "data": {
      "application/vnd.jupyter.widget-view+json": {
       "model_id": "b4bb3c6bb63a4ec496fe6a1ed3d2cbbd",
       "version_major": 2,
       "version_minor": 0
      },
      "text/plain": [
       "HBox(children=(IntProgress(value=0, max=147719), HTML(value='')))"
      ]
     },
     "metadata": {},
     "output_type": "display_data"
    },
    {
     "name": "stdout",
     "output_type": "stream",
     "text": [
      "\n"
     ]
    },
    {
     "data": {
      "application/vnd.jupyter.widget-view+json": {
       "model_id": "ae92022d58734a1fbca9f12ec981104c",
       "version_major": 2,
       "version_minor": 0
      },
      "text/plain": [
       "HBox(children=(IntProgress(value=0, max=147696), HTML(value='')))"
      ]
     },
     "metadata": {},
     "output_type": "display_data"
    },
    {
     "name": "stdout",
     "output_type": "stream",
     "text": [
      "\n"
     ]
    },
    {
     "data": {
      "application/vnd.jupyter.widget-view+json": {
       "model_id": "8fd770b6768f41cb851f222f1443e888",
       "version_major": 2,
       "version_minor": 0
      },
      "text/plain": [
       "HBox(children=(IntProgress(value=0, max=7348), HTML(value='')))"
      ]
     },
     "metadata": {},
     "output_type": "display_data"
    },
    {
     "name": "stdout",
     "output_type": "stream",
     "text": [
      "\n"
     ]
    },
    {
     "data": {
      "application/vnd.jupyter.widget-view+json": {
       "model_id": "2398199928a94df4b7bdb64447212065",
       "version_major": 2,
       "version_minor": 0
      },
      "text/plain": [
       "HBox(children=(IntProgress(value=0, max=147723), HTML(value='')))"
      ]
     },
     "metadata": {},
     "output_type": "display_data"
    },
    {
     "name": "stdout",
     "output_type": "stream",
     "text": [
      "\n"
     ]
    },
    {
     "data": {
      "application/vnd.jupyter.widget-view+json": {
       "model_id": "b873818901a947c986fb349226ba9bd6",
       "version_major": 2,
       "version_minor": 0
      },
      "text/plain": [
       "HBox(children=(IntProgress(value=0, max=105731), HTML(value='')))"
      ]
     },
     "metadata": {},
     "output_type": "display_data"
    },
    {
     "name": "stdout",
     "output_type": "stream",
     "text": [
      "\n"
     ]
    },
    {
     "data": {
      "application/vnd.jupyter.widget-view+json": {
       "model_id": "75e721627dc84f6b85bb22fac244209b",
       "version_major": 2,
       "version_minor": 0
      },
      "text/plain": [
       "HBox(children=(IntProgress(value=0, max=7348), HTML(value='')))"
      ]
     },
     "metadata": {},
     "output_type": "display_data"
    },
    {
     "name": "stdout",
     "output_type": "stream",
     "text": [
      "\n"
     ]
    },
    {
     "data": {
      "application/vnd.jupyter.widget-view+json": {
       "model_id": "8e9891f6df664fed8cc74b6495e7711b",
       "version_major": 2,
       "version_minor": 0
      },
      "text/plain": [
       "HBox(children=(IntProgress(value=0, max=110713), HTML(value='')))"
      ]
     },
     "metadata": {},
     "output_type": "display_data"
    },
    {
     "name": "stdout",
     "output_type": "stream",
     "text": [
      "\n"
     ]
    },
    {
     "data": {
      "application/vnd.jupyter.widget-view+json": {
       "model_id": "fd20dcbbe2cc4507aa78d94bc992c824",
       "version_major": 2,
       "version_minor": 0
      },
      "text/plain": [
       "HBox(children=(IntProgress(value=0, max=109960), HTML(value='')))"
      ]
     },
     "metadata": {},
     "output_type": "display_data"
    },
    {
     "name": "stdout",
     "output_type": "stream",
     "text": [
      "\n"
     ]
    }
   ],
   "source": [
    "kpis = test_data.groupby(test_data[\"KPI ID\"])\n",
    "results = []\n",
    "savedscore = []\n",
    "\n",
    "for name, kpi in kpis:\n",
    "    in_timestamp = kpi['timestamp'].tolist()\n",
    "    in_value = kpi['value'].tolist()\n",
    "    in_label = kpi['label'].tolist()\n",
    "    timestamp, label, pre, scores = predict(in_timestamp, in_value, in_label)\n",
    "    results.append([timestamp, label, pre, name])\n",
    "    savedscore.append([label, scores, name, timestamp])"
   ]
  },
  {
   "cell_type": "code",
   "execution_count": null,
   "id": "8f088f83",
   "metadata": {},
   "outputs": [],
   "source": []
  },
  {
   "cell_type": "code",
   "execution_count": null,
   "id": "898c836c",
   "metadata": {},
   "outputs": [],
   "source": [
    "labels, predicts = [], []\n",
    "delay=7\n",
    "for timestamp, label, predict, _ in results:\n",
    "    if timestamp == []:\n",
    "        continue\n",
    "    lbl, pdt = reconstruct_series(timestamp, label, predict, delay)\n",
    "    labels += lbl\n",
    "    predicts += pdt"
   ]
  },
  {
   "cell_type": "code",
   "execution_count": null,
   "id": "5c4401f3",
   "metadata": {},
   "outputs": [],
   "source": [
    "\n",
    "f1 = f1_score(labels, predicts)\n",
    "pre = precision_score(labels, predicts)\n",
    "rec = recall_score(labels, predicts)\n",
    "TP, FP, TN, FN = calc(predicts, labels)\n",
    "print('precision', pre)\n",
    "print('recall', rec)\n",
    "print('f1', f1)"
   ]
  },
  {
   "cell_type": "code",
   "execution_count": null,
   "id": "0cd33c34",
   "metadata": {},
   "outputs": [],
   "source": [
    "print('TP,', TP)\n",
    "print('TN,', TN)\n",
    "print('FP,', FP)\n",
    "print('FN,', FN)"
   ]
  },
  {
   "cell_type": "code",
   "execution_count": null,
   "id": "aab4344a",
   "metadata": {},
   "outputs": [],
   "source": [
    "f1 = 0.\n",
    "for i in range(len(results)):\n",
    "    f1 += f1_score(results[i][1], results[i][2])"
   ]
  },
  {
   "cell_type": "code",
   "execution_count": null,
   "id": "b93eeee7",
   "metadata": {},
   "outputs": [],
   "source": []
  },
  {
   "cell_type": "code",
   "execution_count": null,
   "id": "4f9c52fd",
   "metadata": {},
   "outputs": [],
   "source": []
  }
 ],
 "metadata": {
  "kernelspec": {
   "display_name": "Python 3 (ipykernel)",
   "language": "python",
   "name": "python3"
  },
  "language_info": {
   "codemirror_mode": {
    "name": "ipython",
    "version": 3
   },
   "file_extension": ".py",
   "mimetype": "text/x-python",
   "name": "python",
   "nbconvert_exporter": "python",
   "pygments_lexer": "ipython3",
   "version": "3.9.9"
  },
  "widgets": {
   "application/vnd.jupyter.widget-state+json": {
    "state": {
     "15ca097dc9c149f993bcd47436c9b1ac": {
      "model_module": "@jupyter-widgets/controls",
      "model_module_version": "1.5.0",
      "model_name": "ProgressStyleModel",
      "state": {
       "description_width": "initial"
      }
     },
     "18485d853bef4753958fc616299ec775": {
      "model_module": "@jupyter-widgets/controls",
      "model_module_version": "1.5.0",
      "model_name": "DescriptionStyleModel",
      "state": {
       "description_width": ""
      }
     },
     "260bf5c568154dc0b4e8c6db789f52a9": {
      "model_module": "@jupyter-widgets/base",
      "model_module_version": "1.2.0",
      "model_name": "LayoutModel",
      "state": {}
     },
     "2dba0cfe6274434db7b214919ab18a88": {
      "model_module": "@jupyter-widgets/base",
      "model_module_version": "1.2.0",
      "model_name": "LayoutModel",
      "state": {}
     },
     "3fd843d251754fa593b2d6ae8564dd6d": {
      "model_module": "@jupyter-widgets/controls",
      "model_module_version": "1.5.0",
      "model_name": "DescriptionStyleModel",
      "state": {
       "description_width": ""
      }
     },
     "4148d66363404d439e171c7418cdf152": {
      "model_module": "@jupyter-widgets/controls",
      "model_module_version": "1.5.0",
      "model_name": "IntProgressModel",
      "state": {
       "bar_style": "danger",
       "description": "Iteration:   0%",
       "layout": "IPY_MODEL_f8b8cfc9ceb843b188db4d63620c8f6b",
       "max": 23158,
       "style": "IPY_MODEL_dc4a6538d0d641aab6e6709fad41c6e7"
      }
     },
     "41539a7860ea4a29ac54bfd8416affd8": {
      "model_module": "@jupyter-widgets/controls",
      "model_module_version": "1.5.0",
      "model_name": "HTMLModel",
      "state": {
       "layout": "IPY_MODEL_9830f5ac0dab4ff3a7c9b71be5f53d78",
       "style": "IPY_MODEL_3fd843d251754fa593b2d6ae8564dd6d",
       "value": " 0/23158 [00:38&lt;?, ?it/s]"
      }
     },
     "4532bd20deca46139ff618389102b4ed": {
      "model_module": "@jupyter-widgets/controls",
      "model_module_version": "1.5.0",
      "model_name": "IntProgressModel",
      "state": {
       "bar_style": "danger",
       "description": "Iteration:   0%",
       "layout": "IPY_MODEL_fd0dce41e7ec46d68e8f1bd867df6e6a",
       "max": 23158,
       "style": "IPY_MODEL_15ca097dc9c149f993bcd47436c9b1ac"
      }
     },
     "5a958a522023431c99defb8722c10c2a": {
      "model_module": "@jupyter-widgets/base",
      "model_module_version": "1.2.0",
      "model_name": "LayoutModel",
      "state": {}
     },
     "5ab271503a3647cb8c6320f6b412c092": {
      "model_module": "@jupyter-widgets/base",
      "model_module_version": "1.2.0",
      "model_name": "LayoutModel",
      "state": {}
     },
     "5f02b9637cc84dc3858f662bcb7b93a7": {
      "model_module": "@jupyter-widgets/controls",
      "model_module_version": "1.5.0",
      "model_name": "HBoxModel",
      "state": {
       "children": [
        "IPY_MODEL_edc1452526fa43c19e3f12d625646f5d",
        "IPY_MODEL_d2bfa256ca1e4c53a0f2ea90cd8bf6ea"
       ],
       "layout": "IPY_MODEL_73515a24d01847c2acd67eb5454d6bb8"
      }
     },
     "73515a24d01847c2acd67eb5454d6bb8": {
      "model_module": "@jupyter-widgets/base",
      "model_module_version": "1.2.0",
      "model_name": "LayoutModel",
      "state": {}
     },
     "7d840950f0c74164b12b32f6307352f7": {
      "model_module": "@jupyter-widgets/controls",
      "model_module_version": "1.5.0",
      "model_name": "HBoxModel",
      "state": {
       "children": [
        "IPY_MODEL_4148d66363404d439e171c7418cdf152",
        "IPY_MODEL_41539a7860ea4a29ac54bfd8416affd8"
       ],
       "layout": "IPY_MODEL_e4683a00e93d4a4d90d5847c994e725f"
      }
     },
     "7e1dc7f7714a4a708356b9daa6aa02a3": {
      "model_module": "@jupyter-widgets/controls",
      "model_module_version": "1.5.0",
      "model_name": "HBoxModel",
      "state": {
       "children": [
        "IPY_MODEL_4532bd20deca46139ff618389102b4ed",
        "IPY_MODEL_a3a56ae2d34344a7a65a701ea777b735"
       ],
       "layout": "IPY_MODEL_2dba0cfe6274434db7b214919ab18a88"
      }
     },
     "9830f5ac0dab4ff3a7c9b71be5f53d78": {
      "model_module": "@jupyter-widgets/base",
      "model_module_version": "1.2.0",
      "model_name": "LayoutModel",
      "state": {}
     },
     "9cbbae96b9d643358a957a394b81ac67": {
      "model_module": "@jupyter-widgets/controls",
      "model_module_version": "1.5.0",
      "model_name": "ProgressStyleModel",
      "state": {
       "description_width": "initial"
      }
     },
     "a3a56ae2d34344a7a65a701ea777b735": {
      "model_module": "@jupyter-widgets/controls",
      "model_module_version": "1.5.0",
      "model_name": "HTMLModel",
      "state": {
       "layout": "IPY_MODEL_5ab271503a3647cb8c6320f6b412c092",
       "style": "IPY_MODEL_d2a3407985834577abc3ab491ec03523",
       "value": " 0/23158 [05:48&lt;?, ?it/s]"
      }
     },
     "d2a3407985834577abc3ab491ec03523": {
      "model_module": "@jupyter-widgets/controls",
      "model_module_version": "1.5.0",
      "model_name": "DescriptionStyleModel",
      "state": {
       "description_width": ""
      }
     },
     "d2bfa256ca1e4c53a0f2ea90cd8bf6ea": {
      "model_module": "@jupyter-widgets/controls",
      "model_module_version": "1.5.0",
      "model_name": "HTMLModel",
      "state": {
       "layout": "IPY_MODEL_5a958a522023431c99defb8722c10c2a",
       "style": "IPY_MODEL_18485d853bef4753958fc616299ec775",
       "value": " 0/23158 [05:18&lt;?, ?it/s]"
      }
     },
     "dc4a6538d0d641aab6e6709fad41c6e7": {
      "model_module": "@jupyter-widgets/controls",
      "model_module_version": "1.5.0",
      "model_name": "ProgressStyleModel",
      "state": {
       "description_width": "initial"
      }
     },
     "e4683a00e93d4a4d90d5847c994e725f": {
      "model_module": "@jupyter-widgets/base",
      "model_module_version": "1.2.0",
      "model_name": "LayoutModel",
      "state": {}
     },
     "edc1452526fa43c19e3f12d625646f5d": {
      "model_module": "@jupyter-widgets/controls",
      "model_module_version": "1.5.0",
      "model_name": "IntProgressModel",
      "state": {
       "bar_style": "danger",
       "description": "Iteration:   0%",
       "layout": "IPY_MODEL_260bf5c568154dc0b4e8c6db789f52a9",
       "max": 23158,
       "style": "IPY_MODEL_9cbbae96b9d643358a957a394b81ac67"
      }
     },
     "f8b8cfc9ceb843b188db4d63620c8f6b": {
      "model_module": "@jupyter-widgets/base",
      "model_module_version": "1.2.0",
      "model_name": "LayoutModel",
      "state": {}
     },
     "fd0dce41e7ec46d68e8f1bd867df6e6a": {
      "model_module": "@jupyter-widgets/base",
      "model_module_version": "1.2.0",
      "model_name": "LayoutModel",
      "state": {}
     }
    },
    "version_major": 2,
    "version_minor": 0
   }
  }
 },
 "nbformat": 4,
 "nbformat_minor": 5
}
