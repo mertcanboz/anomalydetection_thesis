{
 "cells": [
  {
   "cell_type": "code",
   "execution_count": 73,
   "id": "d5806489",
   "metadata": {},
   "outputs": [],
   "source": [
    "import os\n",
    "import time\n",
    "import csv\n",
    "import numpy as np\n",
    "from torch.utils.data import Dataset, random_split, DataLoader\n",
    "from tqdm.notebook import tqdm\n",
    "import torch\n",
    "import torch.nn as nn\n",
    "import torch.nn.functional as F\n",
    "import pandas as pd\n",
    "import matplotlib.pyplot as plt\n",
    "from functools import partial\n",
    "import torch.optim as optim\n",
    "from torch.optim.lr_scheduler import OneCycleLR\n",
    "\n",
    "from typing import Optional"
   ]
  },
  {
   "cell_type": "code",
   "execution_count": 8,
   "id": "d9ea641a",
   "metadata": {},
   "outputs": [],
   "source": [
    "WINDOW_SIZE = 64\n",
    "BATCH_SIZE = 64\n",
    "q=3"
   ]
  },
  {
   "cell_type": "code",
   "execution_count": 10,
   "id": "bc618688",
   "metadata": {},
   "outputs": [],
   "source": [
    "def calc(pred, true):\n",
    "    TP = 0\n",
    "    FP = 0\n",
    "    TN = 0\n",
    "    FN = 0\n",
    "    for pre, gt in zip(pred, true):\n",
    "        if gt == 1:\n",
    "            if pre == 1:\n",
    "                TP += 1\n",
    "            else:\n",
    "                FN += 1\n",
    "        if gt == 0:\n",
    "            if pre == 1:\n",
    "                FP += 1\n",
    "            else:\n",
    "                TN += 1\n",
    "    #print('TP=%d FP=%d TN=%d FN=%d' % (TP, FP, TN, FN))\n",
    "    return TP, FP, TN, FN\n",
    "\n",
    "class DataGenerator:\n",
    "    \"\"\"\n",
    "    to inject anomalous points according to the formula in the paper:\n",
    "    \"\"\"\n",
    "    def __init__(self, win_siz, step, nums=5):\n",
    "        self.win_size = win_siz\n",
    "        self.step = step\n",
    "        self.number = nums\n",
    "\n",
    "    def generate_train_data(self, values, labels, insert_anomaly=False):\n",
    "        def normalize(a):\n",
    "            amin = np.min(a)\n",
    "            amax = np.max(a)\n",
    "            a = (a - amin) / (amax - amin + 1e-5)\n",
    "            return 3 * a\n",
    "\n",
    "        back=5\n",
    "        length = len(values)\n",
    "        tmp = []\n",
    "        for pt in range(self.win_size, length - back, self.step):\n",
    "            head = max(0, pt - self.win_size)\n",
    "            tail = min(length - back, pt)\n",
    "            data = np.array(values[head:tail])\n",
    "            data = data.astype(np.float64)\n",
    "            data = normalize(data)\n",
    "            label = np.array(labels[head:tail])\n",
    "            if insert_anomaly:\n",
    "                num = np.random.randint(1, self.number)\n",
    "                ids = np.random.choice(self.win_size, num, replace=False)\n",
    "                lbs = np.zeros(self.win_size, dtype=np.int64)\n",
    "                if (self.win_size - 6) not in ids:\n",
    "                    self.control += np.random.random()\n",
    "                else:\n",
    "                    self.control = 0\n",
    "                if self.control > 100:\n",
    "                    ids[0] = self.win_size - 6\n",
    "                    self.control = 0\n",
    "                mean = np.mean(data)\n",
    "                dataavg = average_filter(data)\n",
    "                var = np.var(data)\n",
    "                for id in ids:\n",
    "                    data[id] += (dataavg[id] + mean) * np.random.randn() * min((1 + var), 10)\n",
    "                    label[id] = 1\n",
    "            tmp.append([data.tolist(), label.tolist()])\n",
    "        return tmp\n",
    "\n",
    "def average_filter(values, n=3):\n",
    "    \"\"\"\n",
    "    Calculate the sliding window average for the give time series.\n",
    "    Mathematically, res[i] = sum_{j=i-t+1}^{i} values[j] / t, where t = min(n, i+1)\n",
    "    :param values: list.\n",
    "        a list of float numbers\n",
    "    :param n: int, default 3.\n",
    "        window size.\n",
    "    :return res: list.\n",
    "        a list of value after the average_filter process.\n",
    "    \"\"\"\n",
    "\n",
    "    if n >= len(values):\n",
    "        n = len(values)\n",
    "\n",
    "    res = np.cumsum(values, dtype=float)\n",
    "    res[n:] = res[n:] - res[:-n]\n",
    "    res[n:] = res[n:] / n\n",
    "\n",
    "    for i in range(1, n):\n",
    "        res[i] /= (i + 1)\n",
    "\n",
    "    return res\n",
    "\n",
    "def spectral_residual(values, n=q):\n",
    "    \"\"\"\n",
    "    This method transform a time series into spectral residual series\n",
    "    :param values: list.\n",
    "        a list of float values.\n",
    "    :return: mag: list.\n",
    "        a list of float values as the spectral residual values\n",
    "    \"\"\"\n",
    "    EPS = 1e-8\n",
    "    trans = np.fft.fft(values)\n",
    "    mag = np.sqrt(trans.real ** 2 + trans.imag ** 2)\n",
    "    eps_index = np.where(mag <= EPS)[0]\n",
    "    mag[eps_index] = EPS\n",
    "\n",
    "    mag_log = np.log(mag)\n",
    "    mag_log[eps_index] = 0\n",
    "\n",
    "    spectral = np.exp(mag_log - average_filter(mag_log, n))\n",
    "\n",
    "    trans.real = trans.real * spectral / mag\n",
    "    trans.imag = trans.imag * spectral / mag\n",
    "    trans.real[eps_index] = 0\n",
    "    trans.imag[eps_index] = 0\n",
    "\n",
    "    wave_r = np.fft.ifft(trans)\n",
    "    mag = np.sqrt(wave_r.real ** 2 + wave_r.imag ** 2)\n",
    "    return mag\n",
    "\n",
    "\n",
    "def load_kpi(csv_path):\n",
    "    kpis = {}\n",
    "    anomalies = 0\n",
    "    with open(csv_path) as f:\n",
    "        input = csv.reader(f, delimiter=',')\n",
    "        cnt = 0\n",
    "        for row in input:\n",
    "            if cnt == 0:\n",
    "                cnt += 1\n",
    "                continue\n",
    "            kpi = kpis.get(str(row[3]), [[], [], []])\n",
    "            kpi[0].append(int(row[0]))  # timestamp\n",
    "            kpi[1].append(float(row[1]))  # value\n",
    "            kpi[2].append(int(row[2]))  # label\n",
    "            kpis[str(row[3])] = kpi\n",
    "            cnt += 1\n",
    "            if int(row[2]) == 1:\n",
    "                anomalies += 1\n",
    "        print(\"Training data loaded. Total length: {}, number of anomalies: {}\".format(cnt, anomalies))\n",
    "        f.close()\n",
    "    return kpis\n",
    "\n",
    "\n",
    "class DatasetIterator(Dataset):\n",
    "    def __init__(self, width, data, label_anomalies=False):\n",
    "        self.genlen = 0\n",
    "        self.len = self.genlen\n",
    "        self.width = width\n",
    "        self.kpinegraw = data\n",
    "        self.negrawlen = len(self.kpinegraw)\n",
    "        print('length :', len(self.kpinegraw))\n",
    "        self.len += self.negrawlen\n",
    "        self.kpineglen = 0\n",
    "        self.control = 0.\n",
    "        self.label_anomaly = label_anomalies\n",
    "\n",
    "    def __len__(self):\n",
    "        return self.len\n",
    "\n",
    "    def __getitem__(self, index):\n",
    "        if isinstance(index, slice):\n",
    "            start = index.start if index.start else 0\n",
    "            end = index.stop if index.stop else self.len\n",
    "            return [self.__getitem(idx) for idx in range(start, end)]\n",
    "        \n",
    "        else:\n",
    "            return self.__getitem(index)\n",
    "    \n",
    "    def __getitem(self, index):\n",
    "        idx = index % self.negrawlen\n",
    "        datas = self.kpinegraw[idx]\n",
    "        datas = np.array(datas)\n",
    "        data = datas[0, :].astype(np.float64)\n",
    "        lbs = datas[1, :].astype(np.float64)\n",
    "        if self.label_anomaly:\n",
    "            wave = spectral_residual(data)\n",
    "            waveavg = average_filter(wave, n=z)\n",
    "            for i in range(self.width):\n",
    "                if wave[i] < 0.001 and waveavg[i] < 0.001:\n",
    "                    lbs[i] = 0\n",
    "                    continue\n",
    "                ratio = wave[i] / waveavg[i]\n",
    "                if ratio < 1.0 and lbs[i] == 1:\n",
    "                    lbs[i] = 0\n",
    "                if ratio > 5.0:\n",
    "                    lbs[i] = 1\n",
    "            srscore = abs(wave - waveavg) / (waveavg + 0.001)\n",
    "            data = wave\n",
    "            lbs[srscore > TAU] = 1\n",
    "        resdata = torch.from_numpy(data)\n",
    "        reslb = torch.from_numpy(lbs)\n",
    "        return resdata, reslb\n",
    "\n",
    "def highlight(indices,ax, thickness=0.5):\n",
    "    i=0\n",
    "    while i<len(indices):\n",
    "        ax.axvspan(indices[i]-thickness, indices[i]+thickness, facecolor='red', edgecolor='none', alpha=.9)\n",
    "        i+=1\n",
    "\n",
    "def plots(values, is_anomaly, interval=[0,100], fig_size=(40,4), thickness=0.5):\n",
    "    df = pd.DataFrame()\n",
    "    start_index= (len(values) * interval[0]) // 100\n",
    "    end_index = (len(values) * interval[1]) // 100\n",
    "    df['value'] = values[start_index:end_index]\n",
    "    df['is_anomaly'] = is_anomaly[start_index:end_index]\n",
    "    df = df.reset_index()\n",
    "    \n",
    "    ax1 = df.plot(kind='line', x='index', y='value', color='b', figsize=fig_size) \n",
    "    highlight(df[df['is_anomaly']==1].index, ax1, thickness)\n"
   ]
  },
  {
   "cell_type": "code",
   "execution_count": 11,
   "id": "cb10cfd8",
   "metadata": {},
   "outputs": [],
   "source": [
    "training_data_location = os.getcwd()+'/../srcnn/training_data/'"
   ]
  },
  {
   "cell_type": "code",
   "execution_count": null,
   "id": "d0ef6589",
   "metadata": {},
   "outputs": [],
   "source": [
    "kpis = {}\n",
    "DATA_PATH=os.getcwd()+'/../srcnn/train.csv'\n",
    "anomalies = 0\n",
    "with open(DATA_PATH) as f:\n",
    "    input = csv.reader(f, delimiter=',')\n",
    "    cnt = 0\n",
    "    for row in input:\n",
    "        if cnt == 0:\n",
    "            cnt += 1\n",
    "            continue\n",
    "        kpi = kpis.get(str(row[3]), [[],[],[]])\n",
    "        kpi[0].append(int(row[0])) #timestamp\n",
    "        kpi[1].append(float(row[1])) #value\n",
    "        kpi[2].append(int(row[2])) #label\n",
    "        kpis[str(row[3])] = kpi\n",
    "        cnt += 1\n",
    "        if int(row[2]) == 1:\n",
    "            anomalies += 1\n",
    "    f.close()"
   ]
  },
  {
   "cell_type": "code",
   "execution_count": 25,
   "id": "e2e66d59",
   "metadata": {},
   "outputs": [
    {
     "ename": "NameError",
     "evalue": "name 'kpis' is not defined",
     "output_type": "error",
     "traceback": [
      "\u001b[0;31m---------------------------------------------------------------------------\u001b[0m",
      "\u001b[0;31mNameError\u001b[0m                                 Traceback (most recent call last)",
      "\u001b[0;32m/var/folders/c_/4t3xzkbs3c92gmghc5kz12c80000gn/T/ipykernel_2548/3696870760.py\u001b[0m in \u001b[0;36m<module>\u001b[0;34m\u001b[0m\n\u001b[1;32m      3\u001b[0m \u001b[0mheader\u001b[0m \u001b[0;34m=\u001b[0m \u001b[0;34m[\u001b[0m\u001b[0;34m'timestamp'\u001b[0m\u001b[0;34m,\u001b[0m \u001b[0;34m'value'\u001b[0m\u001b[0;34m,\u001b[0m \u001b[0;34m'label'\u001b[0m\u001b[0;34m]\u001b[0m\u001b[0;34m\u001b[0m\u001b[0;34m\u001b[0m\u001b[0m\n\u001b[1;32m      4\u001b[0m \u001b[0mtraining_data_location\u001b[0m \u001b[0;34m=\u001b[0m \u001b[0mos\u001b[0m\u001b[0;34m.\u001b[0m\u001b[0mgetcwd\u001b[0m\u001b[0;34m(\u001b[0m\u001b[0;34m)\u001b[0m\u001b[0;34m+\u001b[0m\u001b[0;34m'/../srcnn/training_data/'\u001b[0m\u001b[0;34m\u001b[0m\u001b[0;34m\u001b[0m\u001b[0m\n\u001b[0;32m----> 5\u001b[0;31m \u001b[0;32mfor\u001b[0m \u001b[0mkpi\u001b[0m \u001b[0;32min\u001b[0m \u001b[0mkpis\u001b[0m\u001b[0;34m.\u001b[0m\u001b[0mvalues\u001b[0m\u001b[0;34m(\u001b[0m\u001b[0;34m)\u001b[0m\u001b[0;34m:\u001b[0m\u001b[0;34m\u001b[0m\u001b[0;34m\u001b[0m\u001b[0m\n\u001b[0m\u001b[1;32m      6\u001b[0m     \u001b[0;32mwith\u001b[0m \u001b[0mopen\u001b[0m\u001b[0;34m(\u001b[0m\u001b[0mtraining_data_location\u001b[0m\u001b[0;34m+\u001b[0m\u001b[0;34m\"series\"\u001b[0m\u001b[0;34m+\u001b[0m\u001b[0mstr\u001b[0m\u001b[0;34m(\u001b[0m\u001b[0mi\u001b[0m\u001b[0;34m)\u001b[0m\u001b[0;34m+\u001b[0m\u001b[0;34m\".csv\"\u001b[0m\u001b[0;34m,\u001b[0m \u001b[0;34m'w'\u001b[0m\u001b[0;34m,\u001b[0m \u001b[0mencoding\u001b[0m\u001b[0;34m=\u001b[0m\u001b[0;34m'UTF8'\u001b[0m\u001b[0;34m,\u001b[0m \u001b[0mnewline\u001b[0m\u001b[0;34m=\u001b[0m\u001b[0;34m''\u001b[0m\u001b[0;34m)\u001b[0m \u001b[0;32mas\u001b[0m \u001b[0mf\u001b[0m\u001b[0;34m:\u001b[0m\u001b[0;34m\u001b[0m\u001b[0;34m\u001b[0m\u001b[0m\n\u001b[1;32m      7\u001b[0m         \u001b[0mwriter\u001b[0m \u001b[0;34m=\u001b[0m \u001b[0mcsv\u001b[0m\u001b[0;34m.\u001b[0m\u001b[0mDictWriter\u001b[0m\u001b[0;34m(\u001b[0m\u001b[0mf\u001b[0m\u001b[0;34m,\u001b[0m \u001b[0mfieldnames\u001b[0m\u001b[0;34m=\u001b[0m\u001b[0mheader\u001b[0m\u001b[0;34m)\u001b[0m\u001b[0;34m\u001b[0m\u001b[0;34m\u001b[0m\u001b[0m\n",
      "\u001b[0;31mNameError\u001b[0m: name 'kpis' is not defined"
     ]
    }
   ],
   "source": [
    "import csv\n",
    "i=1\n",
    "header = ['timestamp', 'value', 'label']\n",
    "training_data_location = os.getcwd()+'/../srcnn/training_data/'\n",
    "for kpi in kpis.values():\n",
    "    with open(training_data_location+\"series\"+str(i)+\".csv\", 'w', encoding='UTF8', newline='') as f:\n",
    "        writer = csv.DictWriter(f, fieldnames=header)\n",
    "        writer.writeheader()\n",
    "        for idx in range(0,len(kpi[0])):\n",
    "            writer.writerow({header[0]: kpi[0][idx], header[1]: kpi[1][idx], header[2]: kpi[2][idx]})\n",
    "    i+=1\n",
    "        "
   ]
  },
  {
   "cell_type": "code",
   "execution_count": 12,
   "id": "fe75417a",
   "metadata": {},
   "outputs": [
    {
     "name": "stdout",
     "output_type": "stream",
     "text": [
      "Total number of files:  396\n"
     ]
    }
   ],
   "source": [
    "import glob\n",
    "all_files = glob.glob(training_data_location+\"/*.csv\")\n",
    "print(\"Total number of files: \", len(all_files))"
   ]
  },
  {
   "cell_type": "code",
   "execution_count": 13,
   "id": "e0abbeb1",
   "metadata": {},
   "outputs": [],
   "source": [
    "minimum=99999999\n",
    "kpi_dataset = glob.glob(training_data_location+\"/series*.csv\")\n",
    "lengths = []\n",
    "all_files = [item for item in all_files if item not in kpi_dataset]\n",
    "#for filename in filenames:\n",
    "#    file = open(filename)\n",
    "#    reader = csv.reader(file)\n",
    "#    lines= len(list(reader))\n",
    "#    filenames.append(filenam)\n"
   ]
  },
  {
   "cell_type": "code",
   "execution_count": 14,
   "id": "9efabf75",
   "metadata": {},
   "outputs": [],
   "source": [
    "from sklearn.model_selection import train_test_split\n",
    "seed = 12345\n",
    "training_files, test_files = train_test_split(all_files, test_size = 0.20, random_state = seed)\n",
    "training_files, validation_files = train_test_split(training_files, test_size = 0.10, random_state = seed)"
   ]
  },
  {
   "cell_type": "code",
   "execution_count": 15,
   "id": "ae1eaa2c",
   "metadata": {},
   "outputs": [
    {
     "data": {
      "text/plain": [
       "263"
      ]
     },
     "execution_count": 15,
     "metadata": {},
     "output_type": "execute_result"
    }
   ],
   "source": [
    "len(training_files)"
   ]
  },
  {
   "cell_type": "code",
   "execution_count": 16,
   "id": "52b5c23d",
   "metadata": {},
   "outputs": [
    {
     "data": {
      "text/plain": [
       "74"
      ]
     },
     "execution_count": 16,
     "metadata": {},
     "output_type": "execute_result"
    }
   ],
   "source": [
    "len(test_files)"
   ]
  },
  {
   "cell_type": "code",
   "execution_count": 17,
   "id": "cf6d649d",
   "metadata": {},
   "outputs": [
    {
     "data": {
      "text/plain": [
       "30"
      ]
     },
     "execution_count": 17,
     "metadata": {},
     "output_type": "execute_result"
    }
   ],
   "source": [
    "len(validation_files)"
   ]
  },
  {
   "cell_type": "code",
   "execution_count": 18,
   "id": "78999f12",
   "metadata": {},
   "outputs": [],
   "source": [
    "np.random.shuffle(training_files)"
   ]
  },
  {
   "cell_type": "code",
   "execution_count": 19,
   "id": "2cc47b66",
   "metadata": {},
   "outputs": [],
   "source": [
    "def get_data(filenames):\n",
    "    result = []\n",
    "    for file in tqdm(filenames):\n",
    "        names = ['timestamp','value','label']\n",
    "        df = pd.read_csv(file, header=None, skipinitialspace=True, usecols=[0,1,2], names=names, skiprows=[0])\n",
    "        for idx in range(0, len(df) - WINDOW_SIZE):\n",
    "            head = idx\n",
    "            tail = idx+WINDOW_SIZE\n",
    "            data = spectral_residual(df['value'].fillna(0)[head:tail].to_numpy())\n",
    "            labels = df['label'].fillna(0)[head:tail].to_numpy()\n",
    "            count_arr = np.bincount(labels)\n",
    "            if 1 not in labels:\n",
    "                continue\n",
    "            if count_arr[0] < count_arr[1]:\n",
    "                continue\n",
    "            result.append((data, labels))\n",
    "    return result\n"
   ]
  },
  {
   "cell_type": "code",
   "execution_count": 20,
   "id": "36cd4954",
   "metadata": {},
   "outputs": [
    {
     "data": {
      "application/vnd.jupyter.widget-view+json": {
       "model_id": "de0c2c0c353540b197a0860202e9aec4",
       "version_major": 2,
       "version_minor": 0
      },
      "text/plain": [
       "  0%|          | 0/263 [00:00<?, ?it/s]"
      ]
     },
     "metadata": {},
     "output_type": "display_data"
    },
    {
     "data": {
      "application/vnd.jupyter.widget-view+json": {
       "model_id": "64aeff090d1946818e4ff075fc396a32",
       "version_major": 2,
       "version_minor": 0
      },
      "text/plain": [
       "  0%|          | 0/30 [00:00<?, ?it/s]"
      ]
     },
     "metadata": {},
     "output_type": "display_data"
    },
    {
     "data": {
      "application/vnd.jupyter.widget-view+json": {
       "model_id": "5d693a6bfbb945b3b663d607cabcea69",
       "version_major": 2,
       "version_minor": 0
      },
      "text/plain": [
       "  0%|          | 0/74 [00:00<?, ?it/s]"
      ]
     },
     "metadata": {},
     "output_type": "display_data"
    }
   ],
   "source": [
    "training_dataset = get_data(filenames = training_files)\n",
    "validation_dataset = get_data(filenames = validation_files)\n",
    "test_dataset = get_data(filenames = test_files)"
   ]
  },
  {
   "cell_type": "code",
   "execution_count": 21,
   "id": "44ec30df",
   "metadata": {},
   "outputs": [],
   "source": [
    "i=0"
   ]
  },
  {
   "cell_type": "code",
   "execution_count": 25,
   "id": "0b9a91b7",
   "metadata": {},
   "outputs": [
    {
     "data": {
      "image/png": "[encoded data removed]",
      "text/plain": [
       "<Figure size 2880x288 with 1 Axes>"
      ]
     },
     "metadata": {
      "needs_background": "light"
     },
     "output_type": "display_data"
    }
   ],
   "source": [
    "while 1 not in training_dataset[i][1]:\n",
    "    i += 1\n",
    "plots(training_dataset[i][0], training_dataset[i][1])\n",
    "i+=1"
   ]
  },
  {
   "cell_type": "code",
   "execution_count": 28,
   "id": "3165a29e",
   "metadata": {},
   "outputs": [],
   "source": [
    "train_dataloader = DataLoader(training_dataset, batch_size = BATCH_SIZE, shuffle = True, drop_last=True)\n",
    "val_dataloader = DataLoader(validation_dataset, batch_size = BATCH_SIZE, drop_last=True) # Shuffle is False by default.\n",
    "test_dataloader = DataLoader(test_dataset, batch_size = BATCH_SIZE, drop_last=True)"
   ]
  },
  {
   "cell_type": "code",
   "execution_count": 29,
   "id": "0a975a1f",
   "metadata": {},
   "outputs": [],
   "source": [
    "class AbsPool(nn.Module):\n",
    "    def __init__(self, pooling_module=None, *args, **kwargs):\n",
    "        super(AbsPool, self).__init__()\n",
    "        self.pooling_layer = pooling_module(*args, **kwargs)\n",
    "\n",
    "    def forward(self, x: torch.Tensor) -> torch.Tensor:\n",
    "        pos_pool = self.pooling_layer(x)\n",
    "        neg_pool = self.pooling_layer(-x)\n",
    "        abs_pool = torch.where(pos_pool >= neg_pool, pos_pool, -neg_pool)\n",
    "        return abs_pool\n",
    "\n",
    "\n",
    "MaxAbsPool1d = partial(AbsPool, nn.MaxPool1d)\n",
    "MaxAbsPool2d = partial(AbsPool, nn.MaxPool2d)\n",
    "MaxAbsPool3d = partial(AbsPool, nn.MaxPool3d)\n",
    "\n",
    "loss_results = []\n",
    "accuracy_results = []\n",
    "accuracy_histories = []\n"
   ]
  },
  {
   "cell_type": "code",
   "execution_count": 30,
   "id": "8d7b42d0",
   "metadata": {},
   "outputs": [],
   "source": [
    "class SharpenedCosineSimilarity(nn.Conv1d):\n",
    "    def __init__(\n",
    "        self,\n",
    "        in_channels: int,\n",
    "        out_channels: int,\n",
    "        kernel_size: int=3,\n",
    "        padding: int='same',\n",
    "        stride: int=1,\n",
    "        groups: int=1,\n",
    "        shared_weights: bool = False,\n",
    "        log_p_init: float=.7,\n",
    "        log_q_init: float=1.,\n",
    "        log_p_scale: float=5.,\n",
    "        log_q_scale: float=.3,\n",
    "        alpha: Optional[float]=10,\n",
    "        alpha_autoinit: bool=False,\n",
    "        eps: float=1e-6,\n",
    "    ):\n",
    "        assert groups == 1 or groups == in_channels, \" \".join([\n",
    "            \"'groups' needs to be 1 or 'in_channels' \",\n",
    "            f\"({in_channels}).\"])\n",
    "        assert out_channels % groups == 0, \" \".join([\n",
    "            \"The number of\",\n",
    "            \"output channels needs to be a multiple of the number\",\n",
    "            \"of groups.\\nHere there are\",\n",
    "            f\"{out_channels} output channels and {groups}\",\n",
    "            \"groups.\"])\n",
    "\n",
    "        self.in_channels = in_channels\n",
    "        self.out_channels = out_channels\n",
    "        self.stride = stride\n",
    "        self.groups = groups\n",
    "        self.shared_weights = shared_weights\n",
    "\n",
    "        if self.groups == 1:\n",
    "            self.shared_weights = False\n",
    "\n",
    "        super(SharpenedCosineSimilarity, self).__init__(\n",
    "            self.in_channels,\n",
    "            self.out_channels,\n",
    "            kernel_size,\n",
    "            bias=False,\n",
    "            padding=padding,\n",
    "            stride=stride,\n",
    "            groups=self.groups)\n",
    "\n",
    "        # Overwrite self.kernel_size created in the 'super' above.\n",
    "        # We want an int, assuming a square kernel, rather than a tuple.\n",
    "        self.kernel_size = kernel_size\n",
    "\n",
    "        # Scaling weights in this way generates kernels that have\n",
    "        # an l2-norm of about 1. Since they get normalized to 1 during\n",
    "        # the forward pass anyway, this prevents any numerical\n",
    "        # or gradient weirdness that might result from large amounts of\n",
    "        # rescaling.\n",
    "        self.channels_per_kernel = self.in_channels // self.groups\n",
    "        weights_per_kernel = self.channels_per_kernel * self.kernel_size ** 2\n",
    "        if self.shared_weights:\n",
    "            self.n_kernels = self.out_channels // self.groups\n",
    "        else:\n",
    "            self.n_kernels = self.out_channels\n",
    "        initialization_scale = (3 / weights_per_kernel) ** .5\n",
    "        scaled_weight = np.random.uniform(\n",
    "            low=-initialization_scale,\n",
    "            high=initialization_scale,\n",
    "            size=(\n",
    "                self.n_kernels,\n",
    "                self.channels_per_kernel,\n",
    "                self.kernel_size)\n",
    "        )\n",
    "        self.weight = torch.nn.Parameter(torch.Tensor(scaled_weight))\n",
    "\n",
    "        self.log_p_scale = log_p_scale\n",
    "        self.log_q_scale = log_q_scale\n",
    "        self.p = torch.nn.Parameter(torch.full(\n",
    "            (1, self.n_kernels, 1),\n",
    "            float(log_p_init * self.log_p_scale)))\n",
    "        self.q = torch.nn.Parameter(torch.full(\n",
    "            (1, 1, 1), float(log_q_init * self.log_q_scale)))\n",
    "        self.eps = eps\n",
    "\n",
    "        if alpha is not None:\n",
    "            self.alpha = torch.nn.Parameter(torch.full(\n",
    "                (1, 1, 1), float(alpha)))\n",
    "        else:\n",
    "            self.alpha = None\n",
    "        if alpha_autoinit and (alpha is not None):\n",
    "            self.LSUV_like_init()\n",
    "\n",
    "    def LSUV_like_init(self, batch_size=BATCH_SIZE):\n",
    "        BS, CH = batch_size, int(self.weight.shape[1]*self.groups)\n",
    "        L = self.weight.shape[2]\n",
    "        device = self.weight.device\n",
    "        inp = torch.rand(BS, CH, L, device=device)\n",
    "        with torch.no_grad():\n",
    "            out = self.forward(inp)\n",
    "            coef = (out.std(dim=(0, 2)) + self.eps).mean()\n",
    "            self.alpha.data *= 1.0 / coef.view_as(self.alpha)\n",
    "        return\n",
    "\n",
    "    def forward(self, inp: torch.Tensor) -> torch.Tensor:\n",
    "        # Scale and transform the p and q parameters\n",
    "        # to ensure that their magnitudes are appropriate\n",
    "        # and their gradients are smooth\n",
    "        # so that they will be learned well.\n",
    "        p = torch.exp(self.p / self.log_p_scale)\n",
    "        q = torch.exp(-self.q / self.log_q_scale)\n",
    "\n",
    "        # If necessary, expand out the weight and p parameters.\n",
    "        if self.shared_weights:\n",
    "            weight = torch.tile(self.weight, (self.groups, 1, 1))\n",
    "            p = torch.tile(p, (1, self.groups, 1))\n",
    "        else:\n",
    "            weight = self.weight\n",
    "\n",
    "        return self.scs(inp, weight, p, q)\n",
    "\n",
    "    def scs(self, inp, weight, p, q):\n",
    "        # Normalize the kernel weights.\n",
    "        weight = weight / self.weight_norm(weight)\n",
    "\n",
    "        # Normalize the inputs and\n",
    "        # Calculate the dot product of the normalized kernels and the\n",
    "        # normalized inputs.\n",
    "        cos_sim = F.conv1d(\n",
    "            inp,\n",
    "            weight,\n",
    "            stride=self.stride,\n",
    "            padding=self.padding,\n",
    "            groups=self.groups,\n",
    "        ) / self.input_norm(inp, q)\n",
    "\n",
    "        # Raise the result to the power p, keeping the sign of the original.\n",
    "        out = cos_sim.sign() * (cos_sim.abs() + self.eps) ** p\n",
    "\n",
    "        # Apply learned scale parameter\n",
    "        if self.alpha is not None:\n",
    "            out = self.alpha.view(1, -1, 1) * out\n",
    "        return out\n",
    "\n",
    "    def weight_norm(self, weight):\n",
    "        # Find the l2-norm of the weights in each kernel.\n",
    "        return weight.square().sum(dim=(1, 2), keepdim=True).sqrt()\n",
    "\n",
    "    def input_norm(self, inp, q):\n",
    "        # Find the l2-norm of the inputs at each position of the kernels.\n",
    "        # Sum the squared inputs over each set of kernel positions\n",
    "        # by convolving them with the mock all-ones kernel weights.\n",
    "        xnorm = F.conv1d(\n",
    "            inp.square(),\n",
    "            torch.ones((\n",
    "                self.groups,\n",
    "                self.channels_per_kernel,\n",
    "                self.kernel_size)),\n",
    "            stride=self.stride,\n",
    "            padding=self.padding,\n",
    "            groups=self.groups)\n",
    "\n",
    "        # Add in the q parameter. \n",
    "        xnorm = (xnorm + self.eps).sqrt() + q\n",
    "        outputs_per_group = self.out_channels // self.groups\n",
    "        return torch.repeat_interleave(xnorm, outputs_per_group, axis=1)"
   ]
  },
  {
   "cell_type": "code",
   "execution_count": 80,
   "id": "575e5bce",
   "metadata": {},
   "outputs": [],
   "source": [
    "n_input_channels = 1\n",
    "n_units = 64\n",
    "kernel_size = 7\n",
    "\n",
    "class Network(nn.Module):\n",
    "    def __init__(self, window_size=WINDOW_SIZE):\n",
    "        super().__init__()\n",
    "        self.window_size = window_size\n",
    "        self.scs1 = SharpenedCosineSimilarity(\n",
    "            in_channels=n_input_channels,\n",
    "            out_channels=n_units,\n",
    "            kernel_size=kernel_size,\n",
    "            groups=n_input_channels)\n",
    "        self.pool1 = MaxAbsPool1d(kernel_size=2, stride=2, ceil_mode=True)\n",
    "\n",
    "        self.scs2_depth = SharpenedCosineSimilarity(\n",
    "            in_channels=n_units,\n",
    "            out_channels=n_units,\n",
    "            kernel_size=kernel_size,\n",
    "            groups=n_units)\n",
    "        self.scs2_point = SharpenedCosineSimilarity(\n",
    "            in_channels=n_units,\n",
    "            out_channels=n_units,\n",
    "            kernel_size=1)\n",
    "        self.pool2 = MaxAbsPool1d(kernel_size=2, stride=2, ceil_mode=True)\n",
    "\n",
    "        self.scs3_depth = SharpenedCosineSimilarity(\n",
    "            in_channels=n_units,\n",
    "            out_channels=n_units,\n",
    "            kernel_size=kernel_size,\n",
    "            groups=n_units,\n",
    "            padding=1)\n",
    "        self.scs3_point = SharpenedCosineSimilarity(\n",
    "            in_channels=n_units,\n",
    "            out_channels=n_units,\n",
    "            kernel_size=1)\n",
    "        self.pool3 = MaxAbsPool1d(kernel_size=4, stride=4, ceil_mode=True)\n",
    "\n",
    "        self.scs4_depth = SharpenedCosineSimilarity(\n",
    "            in_channels=n_units,\n",
    "            out_channels=n_units,\n",
    "            kernel_size=kernel_size,\n",
    "            groups=n_units,\n",
    "            padding=1)\n",
    "        self.scs4_point = SharpenedCosineSimilarity(\n",
    "            in_channels=n_units,\n",
    "            out_channels=n_units,\n",
    "            kernel_size=1)\n",
    "        self.pool4 = MaxAbsPool1d(kernel_size=4, stride=4, ceil_mode=True)\n",
    "        \n",
    "        self.scs5_depth = SharpenedCosineSimilarity(\n",
    "            in_channels=n_units,\n",
    "            out_channels=n_input_channels,\n",
    "            kernel_size=kernel_size,\n",
    "            groups=n_input_channels)\n",
    "        self.scs5_point = SharpenedCosineSimilarity(\n",
    "            in_channels=n_input_channels,\n",
    "            out_channels=n_input_channels,\n",
    "            kernel_size=1)\n",
    "        \n",
    "        self.out = nn.Linear(in_features=n_units, out_features=self.window_size)\n",
    "        self.out2 = nn.Linear(in_features=n_units, out_features=n_units*2)\n",
    "        self.out3 = nn.Linear(in_features=n_units*2, out_features=self.window_size)\n",
    "\n",
    "    def forward(self, t):\n",
    "        t = t.reshape(t.size(0), n_input_channels, -1)\n",
    "        #print('0 t.shape:', t.shape)\n",
    "        t = self.scs1(t)\n",
    "        #t = self.pool1(t)\n",
    "        #print('1 t.shape:', t.shape)\n",
    "        t = self.scs2_depth(t)\n",
    "        #print('2 t.shape:', t.shape)\n",
    "        t = self.scs2_point(t)\n",
    "        #t = self.pool2(t)\n",
    "\n",
    "        #t = self.scs3_depth(t)\n",
    "        #t = self.scs3_point(t)\n",
    "        #t = self.pool3(t)\n",
    "\n",
    "        #t = self.scs4_depth(t)\n",
    "        #t = self.scs4_point(t)\n",
    "        #t = self.pool4(t)\n",
    "        \n",
    "        #t = t.reshape(-1, n_units)\n",
    "        #t = self.out(t)\n",
    "        t = self.scs5_depth(t)\n",
    "        #print('2.1 t.shape:', t.shape)\n",
    "        t = self.scs5_point(t)\n",
    "        \n",
    "        t = t.reshape(t.size(0), -1)\n",
    "        #print('3 t.shape:', t.shape)\n",
    "        t = self.out2(t)\n",
    "        #print('4 t.shape:', t.shape)\n",
    "        t = self.out3(t)\n",
    "        #print('5 t.shape:', t.shape)\n",
    "        return torch.sigmoid(t)"
   ]
  },
  {
   "cell_type": "code",
   "execution_count": 100,
   "id": "211662bf",
   "metadata": {},
   "outputs": [
    {
     "name": "stdout",
     "output_type": "stream",
     "text": [
      "Model has 35_733 trainable parameters.\n"
     ]
    },
    {
     "data": {
      "application/vnd.jupyter.widget-view+json": {
       "model_id": "4d0da0dc9c2f465985938a407f096de4",
       "version_major": 2,
       "version_minor": 0
      },
      "text/plain": [
       "0it [00:00, ?it/s]"
      ]
     },
     "metadata": {},
     "output_type": "display_data"
    },
    {
     "name": "stdout",
     "output_type": "stream",
     "text": [
      "training_precision: 0.05430049122693775   \n",
      "training_recall: 0.5572123201059794   \n",
      "epoch: 0   duration: 89.81   learning rate: 0.3802   training loss: 6.647   testing loss: 6.466   training accuracy: 73.37%   testing accuracy: 61.85%\n",
      "testing_precision: 0.023649908819628647   \n",
      "testing_recall: 0.3754111842105263   \n"
     ]
    },
    {
     "data": {
      "application/vnd.jupyter.widget-view+json": {
       "model_id": "02de18a7b797439f99211f6141a400fa",
       "version_major": 2,
       "version_minor": 0
      },
      "text/plain": [
       "0it [00:00, ?it/s]"
      ]
     },
     "metadata": {},
     "output_type": "display_data"
    },
    {
     "name": "stdout",
     "output_type": "stream",
     "text": [
      "training_precision: 0.026245182922724826   \n",
      "training_recall: 0.3756727664155005   \n",
      "epoch: 1   duration: 86.36   learning rate: 0.4752   training loss: 7.173   testing loss: 6.466   training accuracy: 61.82%   testing accuracy: 61.85%\n",
      "testing_precision: 0.023649908819628647   \n",
      "testing_recall: 0.3754111842105263   \n"
     ]
    },
    {
     "data": {
      "application/vnd.jupyter.widget-view+json": {
       "model_id": "d028060144a645a3b05a8ff5c9dc7ccb",
       "version_major": 2,
       "version_minor": 0
      },
      "text/plain": [
       "0it [00:00, ?it/s]"
      ]
     },
     "metadata": {},
     "output_type": "display_data"
    },
    {
     "name": "stdout",
     "output_type": "stream",
     "text": [
      "training_precision: 0.026249389977113624   \n",
      "training_recall: 0.3756962215866326   \n",
      "epoch: 2   duration: 86.68   learning rate: 0.3055   training loss: 7.174   testing loss: 6.466   training accuracy: 61.82%   testing accuracy: 61.85%\n",
      "testing_precision: 0.023649908819628647   \n",
      "testing_recall: 0.3754111842105263   \n"
     ]
    },
    {
     "data": {
      "application/vnd.jupyter.widget-view+json": {
       "model_id": "69059f1468a14c4bb6ab30fbd06d9f5a",
       "version_major": 2,
       "version_minor": 0
      },
      "text/plain": [
       "0it [00:00, ?it/s]"
      ]
     },
     "metadata": {},
     "output_type": "display_data"
    },
    {
     "name": "stdout",
     "output_type": "stream",
     "text": [
      "training_precision: 0.026254122913301023   \n",
      "training_recall: 0.37574699321120525   \n",
      "epoch: 3   duration: 91.16   learning rate: 0.09399   training loss: 7.174   testing loss: 6.466   training accuracy: 61.82%   testing accuracy: 61.85%\n",
      "testing_precision: 0.023649908819628647   \n",
      "testing_recall: 0.3754111842105263   \n"
     ]
    },
    {
     "data": {
      "application/vnd.jupyter.widget-view+json": {
       "model_id": "069fd5115ec74189989abe16531d651e",
       "version_major": 2,
       "version_minor": 0
      },
      "text/plain": [
       "0it [00:00, ?it/s]"
      ]
     },
     "metadata": {},
     "output_type": "display_data"
    },
    {
     "name": "stdout",
     "output_type": "stream",
     "text": [
      "training_precision: 0.026251493504308023   \n",
      "training_recall: 0.37570936131139643   \n",
      "epoch: 4   duration: 86.44   learning rate: 2.066e-06   training loss: 7.174   testing loss: 6.466   training accuracy: 61.82%   testing accuracy: 61.85%\n",
      "testing_precision: 0.023649908819628647   \n",
      "testing_recall: 0.3754111842105263   \n"
     ]
    }
   ],
   "source": [
    "max_lr = .5\n",
    "steps_per_epoch = len(train_dataloader)\n",
    "n_epochs = 5\n",
    "\n",
    "network = Network()\n",
    "device = torch.device(\"cuda:0\" if torch.cuda.is_available() else \"cpu\")\n",
    "network = network.to(device).float()\n",
    "\n",
    "#for p in network.parameters():\n",
    "#    if p.requires_grad:\n",
    "#        print(p.numel())\n",
    "\n",
    "n_params = sum(p.numel() for p in network.parameters() if p.requires_grad)\n",
    "print(f\"Model has {n_params:_} trainable parameters.\")\n",
    "\n",
    "optimizer = optim.Adam(network.parameters(), lr=max_lr)\n",
    "scheduler = OneCycleLR(\n",
    "    optimizer,\n",
    "    max_lr=max_lr,\n",
    "    steps_per_epoch=steps_per_epoch,\n",
    "    epochs=n_epochs)\n",
    "\n",
    "epoch_accuracy_history = []\n",
    "for i_epoch in range(n_epochs):\n",
    "    totalTP, totalFP, totalTN, totalFN = 0,0,0,0\n",
    "    epoch_start_time = time.time()\n",
    "    epoch_training_loss = 0\n",
    "    epoch_testing_loss = 0\n",
    "    epoch_training_num_correct = 0\n",
    "    epoch_testing_num_correct = 0\n",
    "\n",
    "    with tqdm(enumerate(train_dataloader)) as tqdm_training_loader:\n",
    "        for batch_idx, batch in tqdm_training_loader:\n",
    "\n",
    "            series, labels = batch\n",
    "            series, labels = series.to(device), labels.to(device)\n",
    "            #print('series input shape:', series.shape)\n",
    "            #print('kucuk data?', series.shape)\n",
    "            if len(series) < WINDOW_SIZE:\n",
    "                #print('kucuk data!!')\n",
    "                continue\n",
    "\n",
    "            preds = network(series.float())\n",
    "            #print('preds shape:', preds.shape)\n",
    "            #print('labels shape:', labels.shape)\n",
    "            loss = F.cross_entropy(preds, labels.float())\n",
    "\n",
    "            optimizer.zero_grad()\n",
    "            loss.backward()\n",
    "            optimizer.step()\n",
    "            scheduler.step()\n",
    "\n",
    "            epoch_training_loss += loss.item() * train_dataloader.batch_size\n",
    "            preds[preds < 0.5] = 0\n",
    "            preds[preds >= 0.5] = 1\n",
    "            TP, FP, TN, FN =  calc(preds.detach().cpu().numpy().reshape(-1), labels.detach().cpu().numpy().reshape(-1))\n",
    "            totalTP += TP\n",
    "            totalFP += FP\n",
    "            totalTN += TN\n",
    "            totalFN += FN\n",
    "            epoch_training_num_correct += (\n",
    "                preds.eq(labels).sum().item()) * 1. / len(labels)\n",
    "\n",
    "            tqdm_training_loader.set_description(\n",
    "                f'Step: {batch_idx + 1}/{steps_per_epoch}, '\n",
    "                f'Epoch: {i_epoch + 1}/{n_epochs}'\n",
    "            )\n",
    "\n",
    "    epoch_duration = time.time() - epoch_start_time\n",
    "    training_loss = epoch_training_loss / len(train_dataloader.dataset)\n",
    "    training_accuracy = (\n",
    "        epoch_training_num_correct / len(train_dataloader.dataset))\n",
    "    training_precision = totalTP * 1.0 / (totalTP+totalFP)\n",
    "    training_recall =  totalTP/(totalTP+totalFN)\n",
    "    print(f\"training_precision: {training_precision}   \")\n",
    "    print(f\"training_recall: {training_recall}   \")\n",
    "    totalTP, totalFP, totalTN, totalFN = 0,0,0,0\n",
    "    # At the end of each epoch run the testing data through an\n",
    "    # evaluation pass to see how the model is doing.\n",
    "    # Specify no_grad() to prevent a nasty out-of-memory condition.\n",
    "    with torch.no_grad():\n",
    "        for batch in test_dataloader:\n",
    "            series, labels = batch\n",
    "            series, labels = series.to(device), labels.to(device)\n",
    "            #print('kucuk data?', len(series))\n",
    "            if len(series) < WINDOW_SIZE:\n",
    "                #print('kucuk data!!')\n",
    "                continue\n",
    "            preds = network(series.float())\n",
    "            #print('preds ', preds.shape)\n",
    "            #print('labels ', labels.shape)\n",
    "            loss = F.cross_entropy(preds, labels.float())\n",
    "\n",
    "            epoch_testing_loss += loss.item() * test_dataloader.batch_size\n",
    "            preds[preds < 0.5] = 0\n",
    "            preds[preds >= 0.5] = 1\n",
    "            epoch_testing_num_correct += (\n",
    "                preds.eq(labels).sum().item()) * 1. / len(labels)\n",
    "            TP, FP, TN, FN = calc(preds.detach().cpu().numpy().reshape(-1), labels.detach().cpu().numpy().reshape(-1))\n",
    "            totalTP += TP\n",
    "            totalFP += FP\n",
    "            totalTN += TN\n",
    "            totalFN += FN\n",
    "\n",
    "        testing_loss = epoch_testing_loss / len(test_dataloader.dataset)\n",
    "        testing_accuracy = (\n",
    "            epoch_testing_num_correct / len(test_dataloader.dataset))\n",
    "        epoch_accuracy_history.append(testing_accuracy)\n",
    "\n",
    "    print(\n",
    "        f\"epoch: {i_epoch}   \"\n",
    "        f\"duration: {epoch_duration:.04}   \"\n",
    "        f\"learning rate: {scheduler.get_last_lr()[0]:.04}   \"\n",
    "        f\"training loss: {training_loss:.04}   \"\n",
    "        f\"testing loss: {testing_loss:.04}   \"\n",
    "        f\"training accuracy: {100 * training_accuracy:.04}%   \"\n",
    "        f\"testing accuracy: {100 * testing_accuracy:.04}%\"\n",
    "    )\n",
    "    testing_precision = totalTP * 1.0 / (totalTP+totalFP)\n",
    "    testing_recall =  totalTP/(totalTP+totalFN)\n",
    "    print(f\"testing_precision: {testing_precision}   \")\n",
    "    print(f\"testing_recall: {testing_recall}   \")\n",
    "accuracy_histories.append(epoch_accuracy_history)\n",
    "accuracy_results.append(testing_accuracy)\n",
    "loss_results.append(testing_loss)"
   ]
  },
  {
   "cell_type": "code",
   "execution_count": 96,
   "id": "48062793",
   "metadata": {},
   "outputs": [
    {
     "data": {
      "text/plain": [
       "tensor([[[0, 0, 0, 0, 0, 0, 0, 0, 0, 0, 0, 0, 0, 0, 0, 0, 0, 0, 0, 0, 0, 0, 0,\n",
       "          0, 0, 0, 0, 0, 0, 0, 0, 0, 0, 0, 0, 0, 0, 0, 0, 0, 0, 0, 0, 0, 0, 0,\n",
       "          0, 0, 0, 0, 0, 0, 0, 0, 0, 0, 0, 0, 0, 0, 0, 0, 0, 0]]])"
      ]
     },
     "execution_count": 96,
     "metadata": {},
     "output_type": "execute_result"
    }
   ],
   "source": [
    "test_inp = torch.from_numpy(np.array([0] * 64).reshape(1, 1, -1))\n",
    "#test_inp[0,0,3] = 1\n",
    "test_inp"
   ]
  },
  {
   "cell_type": "code",
   "execution_count": 97,
   "id": "d2daaacd",
   "metadata": {},
   "outputs": [],
   "source": [
    "output = network(test_inp.float())"
   ]
  },
  {
   "cell_type": "code",
   "execution_count": 98,
   "id": "f5d73090",
   "metadata": {},
   "outputs": [
    {
     "data": {
      "text/plain": [
       "torch.Size([1, 64])"
      ]
     },
     "execution_count": 98,
     "metadata": {},
     "output_type": "execute_result"
    }
   ],
   "source": [
    "output.shape"
   ]
  },
  {
   "cell_type": "code",
   "execution_count": 99,
   "id": "4370d062",
   "metadata": {},
   "outputs": [
    {
     "data": {
      "text/plain": [
       "tensor([[1., 0., 0., 0., 0., 0., 0., 0., 0., 0., 0., 0., 0., 0., 0., 0., 0., 0.,\n",
       "         0., 0., 0., 0., 0., 0., 0., 0., 0., 0., 0., 0., 0., 0., 0., 0., 0., 0.,\n",
       "         0., 0., 0., 0., 0., 0., 0., 0., 0., 0., 0., 0., 0., 0., 0., 0., 1., 1.,\n",
       "         0., 0., 0., 0., 0., 0., 1., 0., 0., 1.]], grad_fn=<IndexPutBackward0>)"
      ]
     },
     "execution_count": 99,
     "metadata": {},
     "output_type": "execute_result"
    }
   ],
   "source": [
    "output[output >= 0.5] = 1\n",
    "output[output < 0.5] = 0\n",
    "output"
   ]
  },
  {
   "cell_type": "code",
   "execution_count": 45,
   "id": "e92cf67e",
   "metadata": {},
   "outputs": [],
   "source": [
    "class SRCNN(nn.Module):\n",
    "    def __init__(self, window=WINDOW_SIZE):\n",
    "        self.window = window\n",
    "        super(SRCNN, self).__init__()\n",
    "        self.layer1 = nn.Conv1d(window, window, kernel_size=1, stride=1, padding=0)\n",
    "        self.layer2 = nn.Conv1d(window, 2 * window, kernel_size=1, stride=1, padding=0)\n",
    "        self.fc1 = nn.Linear(2 * window, 4 * window)\n",
    "        self.fc2 = nn.Linear(4 * window, window)\n",
    "        self.relu = nn.ReLU(inplace=True)\n",
    "\n",
    "    def forward(self, x):\n",
    "        x = x.view(x.size(0), self.window, 1)\n",
    "        x = self.layer1(x)\n",
    "        x = self.relu(x)\n",
    "        x = self.layer2(x)\n",
    "        x = x.view(x.size(0), -1)\n",
    "        x = self.relu(x)\n",
    "        x = self.fc1(x)\n",
    "        x = self.relu(x)\n",
    "        x = self.fc2(x)\n",
    "        return torch.sigmoid(x)"
   ]
  },
  {
   "cell_type": "code",
   "execution_count": 48,
   "id": "340157a2",
   "metadata": {},
   "outputs": [],
   "source": [
    "output2 = SRCNN(64)(test_inp.float())"
   ]
  },
  {
   "cell_type": "code",
   "execution_count": 49,
   "id": "824169d6",
   "metadata": {},
   "outputs": [
    {
     "data": {
      "text/plain": [
       "torch.Size([1, 64])"
      ]
     },
     "execution_count": 49,
     "metadata": {},
     "output_type": "execute_result"
    }
   ],
   "source": [
    "output2.shape"
   ]
  },
  {
   "cell_type": "code",
   "execution_count": null,
   "id": "e2bf48c3",
   "metadata": {},
   "outputs": [],
   "source": []
  }
 ],
 "metadata": {
  "kernelspec": {
   "display_name": "Python 3 (ipykernel)",
   "language": "python",
   "name": "python3"
  },
  "language_info": {
   "codemirror_mode": {
    "name": "ipython",
    "version": 3
   },
   "file_extension": ".py",
   "mimetype": "text/x-python",
   "name": "python",
   "nbconvert_exporter": "python",
   "pygments_lexer": "ipython3",
   "version": "3.9.9"
  }
 },
 "nbformat": 4,
 "nbformat_minor": 5
}
