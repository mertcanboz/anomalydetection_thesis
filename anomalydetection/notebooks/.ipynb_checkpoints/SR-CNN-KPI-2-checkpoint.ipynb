{
 "cells": [
  {
   "cell_type": "code",
   "execution_count": 2,
   "id": "e5569f6d",
   "metadata": {},
   "outputs": [],
   "source": [
    "from tqdm.notebook import tqdm\n",
    "from torch.utils.data import Dataset\n",
    "import numpy as np\n",
    "import os\n",
    "import json\n",
    "import csv\n",
    "import time\n",
    "import torch\n",
    "from torch import nn, optim\n",
    "from torch.autograd import Variable\n",
    "from torch.nn import functional as F"
   ]
  },
  {
   "cell_type": "code",
   "execution_count": 105,
   "id": "915c9b3d",
   "metadata": {},
   "outputs": [],
   "source": [
    "WINDOW_SIZE = 1440\n",
    "LEARNING_RATE = 1e-6\n",
    "EPOCHS = 10\n",
    "NUMBER_OF_WORKERS_PYTORCH = 4"
   ]
  },
  {
   "cell_type": "code",
   "execution_count": 3,
   "id": "53947e07",
   "metadata": {},
   "outputs": [],
   "source": [
    "def spectral_residual(values):\n",
    "    \"\"\"\n",
    "    This method transform a time series into spectral residual series\n",
    "    :param values: list.\n",
    "        a list of float values.\n",
    "    :return: mag: list.\n",
    "        a list of float values as the spectral residual values\n",
    "    \"\"\"\n",
    "    EPS = 1e-8\n",
    "    trans = np.fft.fft(values)\n",
    "    mag = np.sqrt(trans.real ** 2 + trans.imag ** 2)\n",
    "\n",
    "    maglog = [np.log(item) if abs(item) > EPS else 0 for item in mag]\n",
    "\n",
    "    spectral = np.exp(maglog - average_filter(maglog, n=3))\n",
    "\n",
    "    trans.real = [ireal * ispectral / imag if abs(imag) > EPS else 0\n",
    "                  for ireal, ispectral, imag in zip(trans.real, spectral, mag)]\n",
    "    trans.imag = [iimag * ispectral / imag if abs(imag) > EPS else 0\n",
    "                  for iimag, ispectral, imag in zip(trans.imag, spectral, mag)]\n",
    "\n",
    "    wave_r = np.fft.ifft(trans)\n",
    "    mag = np.sqrt(wave_r.real ** 2 + wave_r.imag ** 2)\n",
    "\n",
    "    return mag"
   ]
  },
  {
   "cell_type": "code",
   "execution_count": 4,
   "id": "619aaefe",
   "metadata": {},
   "outputs": [],
   "source": [
    "def average_filter(values, n=3):\n",
    "    \"\"\"\n",
    "    Calculate the sliding window average for the give time series.\n",
    "    Mathematically, res[i] = sum_{j=i-t+1}^{i} values[j] / t, where t = min(n, i+1)\n",
    "    :param values: list.\n",
    "        a list of float numbers\n",
    "    :param n: int, default 3.\n",
    "        window size.\n",
    "    :return res: list.\n",
    "        a list of value after the average_filter process.\n",
    "    \"\"\"\n",
    "\n",
    "    if n >= len(values):\n",
    "        n = len(values)\n",
    "\n",
    "    res = np.cumsum(values, dtype=float)\n",
    "    res[n:] = res[n:] - res[:-n]\n",
    "    res[n:] = res[n:] / n\n",
    "\n",
    "    for i in range(1, n):\n",
    "        res[i] /= (i + 1)\n",
    "\n",
    "    return res"
   ]
  },
  {
   "cell_type": "code",
   "execution_count": 5,
   "id": "b251db9c",
   "metadata": {},
   "outputs": [],
   "source": [
    "def predict_next(values):\n",
    "    \"\"\"\n",
    "    Predicts the next value by sum up the slope of the last value with previous values.\n",
    "    Mathematically, g = 1/m * sum_{i=1}^{m} g(x_n, x_{n-i}), x_{n+1} = x_{n-m+1} + g * m,\n",
    "    where g(x_i,x_j) = (x_i - x_j) / (i - j)\n",
    "    :param values: list.\n",
    "        a list of float numbers.\n",
    "    :return : float.\n",
    "        the predicted next value.\n",
    "    \"\"\"\n",
    "\n",
    "    if len(values) <= 1:\n",
    "        raise ValueError(f'data should contain at least 2 numbers')\n",
    "\n",
    "    v_last = values[-1]\n",
    "    n = len(values)\n",
    "\n",
    "    slopes = [(v_last - v) / (n - 1 - i) for i, v in enumerate(values[:-1])]\n",
    "\n",
    "    return values[1] + sum(slopes)"
   ]
  },
  {
   "cell_type": "code",
   "execution_count": 6,
   "id": "a074197b",
   "metadata": {},
   "outputs": [],
   "source": [
    "def extend_series(values, extend_num=5, look_ahead=5):\n",
    "    \"\"\"\n",
    "    extend the array data by the predicted next value\n",
    "    :param values: list.\n",
    "        a list of float numbers.\n",
    "    :param extend_num: int, default 5.\n",
    "        number of values added to the back of data.\n",
    "    :param look_ahead: int, default 5.\n",
    "        number of previous values used in prediction.\n",
    "    :return: list.\n",
    "        The result array.\n",
    "    \"\"\"\n",
    "\n",
    "    if look_ahead < 1:\n",
    "        raise ValueError('look_ahead must be at least 1')\n",
    "\n",
    "    extension = [predict_next(values[-look_ahead - 2:-1])] * extend_num\n",
    "    return np.concatenate((values, extension), axis=0)"
   ]
  },
  {
   "cell_type": "code",
   "execution_count": 28,
   "id": "9eb736ab",
   "metadata": {},
   "outputs": [],
   "source": [
    "kpis = {}\n",
    "DATA_PATH=os.getcwd()+'/../sr-cnn/train.csv'\n",
    "anomalies = 0\n",
    "with open(DATA_PATH) as f:\n",
    "    input = csv.reader(f, delimiter=',')\n",
    "    cnt = 0\n",
    "    for row in input:\n",
    "        if cnt == 0:\n",
    "            cnt += 1\n",
    "            continue\n",
    "        kpi = kpis.get(str(row[3]), [[],[],[]])\n",
    "        kpi[0].append(int(row[0])) #timestamp\n",
    "        kpi[1].append(float(row[1])) #value\n",
    "        kpi[2].append(int(row[2])) #label\n",
    "        kpis[str(row[3])] = kpi\n",
    "        cnt += 1\n",
    "        if int(row[2]) == 1:\n",
    "            anomalies += 1\n",
    "    f.close()"
   ]
  },
  {
   "cell_type": "markdown",
   "id": "49ed27ef",
   "metadata": {},
   "source": [
    "to inject anomalous points according to the formula in the paper:"
   ]
  },
  {
   "cell_type": "code",
   "execution_count": 51,
   "id": "b5589e51",
   "metadata": {},
   "outputs": [],
   "source": [
    "class gen():\n",
    "    def __init__(self, win_siz, step, nums):\n",
    "        self.control = 0\n",
    "        self.win_siz = win_siz\n",
    "        self.step = step\n",
    "        self.number = nums\n",
    "\n",
    "    def generate_train_data(self, value, back_k=0):\n",
    "        def normalize(a):\n",
    "            amin = np.min(a)\n",
    "            amax = np.max(a)\n",
    "            a = (a - amin) / (amax - amin + 1e-5)\n",
    "            return 3 * a\n",
    "\n",
    "        if back_k <= 5:\n",
    "            back = back_k\n",
    "        else:\n",
    "            back = 5\n",
    "        length = len(value)\n",
    "        tmp = []\n",
    "        for pt in range(self.win_siz, length - back, self.step):\n",
    "            head = max(0, pt - self.win_siz)\n",
    "            tail = min(length - back, pt)\n",
    "            data = np.array(value[head:tail])\n",
    "            data = data.astype(np.float64)\n",
    "            data = normalize(data)\n",
    "            num = np.random.randint(1, self.number)\n",
    "            ids = np.random.choice(self.win_siz, num, replace=False)\n",
    "            lbs = np.zeros(self.win_siz, dtype=np.int64)\n",
    "            if (self.win_siz - 6) not in ids:\n",
    "                self.control += np.random.random()\n",
    "            else:\n",
    "                self.control = 0\n",
    "            if self.control > 100:\n",
    "                ids[0] = self.win_siz - 6\n",
    "                self.control = 0\n",
    "            mean = np.mean(data)\n",
    "            dataavg = average_filter(data)\n",
    "            var = np.var(data)\n",
    "            for id in ids:\n",
    "                data[id] += (dataavg[id] + mean) * np.random.randn() * min((1 + var), 10)\n",
    "                lbs[id] = 1\n",
    "            tmp.append([data.tolist(), lbs.tolist()])\n",
    "        return tmp"
   ]
  },
  {
   "cell_type": "code",
   "execution_count": 61,
   "id": "34e37006",
   "metadata": {},
   "outputs": [],
   "source": [
    "NUMBER_OF_ANOMALOUS_POINTS_TO_ADD = 10\n",
    "\n",
    "training_data = []\n",
    "generator = gen(WINDOW_SIZE, 128, NUMBER_OF_ANOMALOUS_POINTS_TO_ADD)\n",
    "for kpi in kpis.values():\n",
    "    in_timestamp = kpi[0]\n",
    "    in_value = kpi[1]\n",
    "    in_label = kpi[2]\n",
    "    train_data = generator.generate_train_data(in_value)\n",
    "    training_data += train_data"
   ]
  },
  {
   "cell_type": "code",
   "execution_count": 52,
   "id": "97c687be",
   "metadata": {},
   "outputs": [],
   "source": [
    "def cuda_if_available(x):\n",
    "    if torch.cuda.is_available():\n",
    "        return x.cuda()\n",
    "    else:\n",
    "        return x.cpu()"
   ]
  },
  {
   "cell_type": "code",
   "execution_count": 115,
   "id": "e3fd2930",
   "metadata": {},
   "outputs": [],
   "source": [
    "def adjust_lr(optimizer, epoch):\n",
    "    cur_lr = LEARNING_RATE * (0.5 ** ((epoch + 10) // 10))\n",
    "    for param in optimizer.param_groups:\n",
    "        param['lr'] = cur_lr\n",
    "\n",
    "def Var(x):\n",
    "    return Variable(cuda_if_available(x))\n",
    "\n",
    "def loss_function(x, lb, win_size=WINDOW_SIZE):\n",
    "    l2_reg = 0.\n",
    "    l2_weight = 0.\n",
    "    for W in net.parameters():\n",
    "        l2_reg = l2_reg + W.norm(2)\n",
    "    kpiweight = torch.ones(lb.shape)\n",
    "    kpiweight[lb == 1] = win_size // 100\n",
    "    kpiweight = cuda_if_available(kpiweight)\n",
    "    BCE = F.binary_cross_entropy(x, lb, weight=kpiweight, reduction='sum')\n",
    "    return l2_reg * l2_weight + BCE"
   ]
  },
  {
   "cell_type": "code",
   "execution_count": 53,
   "id": "4de7bc51",
   "metadata": {},
   "outputs": [],
   "source": [
    "def calc(pred, true):\n",
    "    TP = 0\n",
    "    FP = 0\n",
    "    TN = 0\n",
    "    FN = 0\n",
    "    for pre, gt in zip(pred, true):\n",
    "        if gt == 1:\n",
    "            if pre == 1:\n",
    "                TP += 1\n",
    "            else:\n",
    "                FN += 1\n",
    "        if gt == 0:\n",
    "            if pre == 1:\n",
    "                FP += 1\n",
    "            else:\n",
    "                TN += 1\n",
    "    print('TP=%d FP=%d TN=%d FN=%d' % (TP, FP, TN, FN))\n",
    "    return TP, FP, TN, FN"
   ]
  },
  {
   "cell_type": "markdown",
   "id": "ccd32d78",
   "metadata": {},
   "source": [
    "The CNN model:"
   ]
  },
  {
   "cell_type": "code",
   "execution_count": 57,
   "id": "0ceb2dea",
   "metadata": {},
   "outputs": [],
   "source": [
    "class Anomaly(nn.Module):\n",
    "    def __init__(self, window=1024):\n",
    "        self.window = window\n",
    "        super(Anomaly, self).__init__()\n",
    "        self.layer1 = nn.Conv1d(window, window, kernel_size=1, stride=1, padding=0)\n",
    "        self.layer2 = nn.Conv1d(window, 2 * window, kernel_size=1, stride=1, padding=0)\n",
    "        self.fc1 = nn.Linear(2 * window, 4 * window)\n",
    "        self.fc2 = nn.Linear(4 * window, window)\n",
    "        self.relu = nn.ReLU(inplace=True)\n",
    "\n",
    "    def forward(self, x):\n",
    "        x = x.view(x.size(0), self.window, 1)\n",
    "        x = self.layer1(x)\n",
    "        x = self.relu(x)\n",
    "        x = self.layer2(x)\n",
    "        x = x.view(x.size(0), -1)\n",
    "        x = self.relu(x)\n",
    "        x = self.fc1(x)\n",
    "        x = self.relu(x)\n",
    "        x = self.fc2(x)\n",
    "        return torch.sigmoid(x)"
   ]
  },
  {
   "cell_type": "markdown",
   "id": "fb8fc9b2",
   "metadata": {},
   "source": [
    "gen_set is to apply Spectral Residual to the training data and then provide it for later step (CNN)."
   ]
  },
  {
   "cell_type": "code",
   "execution_count": 67,
   "id": "3aa4c728",
   "metadata": {},
   "outputs": [],
   "source": [
    "class gen_set(Dataset):\n",
    "    def __init__(self, width, data):\n",
    "        self.genlen = 0\n",
    "        self.len = self.genlen\n",
    "        self.width = width\n",
    "        self.kpinegraw = data\n",
    "        self.negrawlen = len(self.kpinegraw)\n",
    "        print('length :', len(self.kpinegraw))\n",
    "        self.len += self.negrawlen\n",
    "        self.kpineglen = 0\n",
    "        self.control = 0.\n",
    "\n",
    "    def __len__(self):\n",
    "        return self.len\n",
    "\n",
    "    def __getitem__(self, index):\n",
    "        idx = index % self.negrawlen\n",
    "        datas = self.kpinegraw[idx]\n",
    "        datas = np.array(datas)\n",
    "        data = datas[0, :].astype(np.float64)\n",
    "        lbs = datas[1, :].astype(np.float64)\n",
    "        wave = spectral_residual(data)\n",
    "        waveavg = average_filter(wave)\n",
    "        for i in range(self.width):\n",
    "            if wave[i] < 0.001 and waveavg[i] < 0.001:\n",
    "                lbs[i] = 0\n",
    "                continue\n",
    "            ratio = wave[i] / waveavg[i]\n",
    "            if ratio < 1.0 and lbs[i] == 1:\n",
    "                lbs[i] = 0\n",
    "            if ratio > 5.0:\n",
    "                lbs[i] = 1\n",
    "        srscore = abs(wave - waveavg) / (waveavg + 0.01)\n",
    "        sortid = np.argsort(srscore)\n",
    "        for idx in sortid[-2:]:\n",
    "            if srscore[idx] > 3:\n",
    "                lbs[idx] = 1\n",
    "        resdata = torch.from_numpy(100 * wave)\n",
    "        reslb = torch.from_numpy(lbs)\n",
    "        return resdata, reslb"
   ]
  },
  {
   "cell_type": "code",
   "execution_count": 116,
   "id": "a30e6ad0",
   "metadata": {},
   "outputs": [],
   "source": [
    "def train(epoch, net, gen_set, optimizer):\n",
    "    train_loader = torch.utils.data.DataLoader(dataset=gen_set, shuffle=True, \n",
    "                                                 batch_size=256, pin_memory=True)\n",
    "    net.train()\n",
    "    train_loss = 0\n",
    "    totTP, totFP, totTN, totFN = 0, 0, 0, 0\n",
    "    threshold = 0.5\n",
    "    for batch_idx, (inputs, lb) in enumerate(tqdm(train_loader, desc=\"Iteration\")):\n",
    "        optimizer.zero_grad()\n",
    "        inputs = inputs.float()\n",
    "        lb = lb.float()\n",
    "        valueseq = Var(inputs)\n",
    "        lb = Var(lb)\n",
    "        output = net(valueseq)\n",
    "        if epoch > 110:\n",
    "            aa = output.detach().cpu().numpy().reshape(-1)\n",
    "            res = np.zeros(aa.shape, np.int64)\n",
    "            res[aa > threshold] = 1\n",
    "            bb = lb.detach().cpu().numpy().reshape(-1)\n",
    "            TP, FP, TN, FN = calc(res, bb)\n",
    "            totTP += TP\n",
    "            totFP += FP\n",
    "            totTN += TN\n",
    "            totFN += FN\n",
    "            if batch_idx % 100 == 0:\n",
    "                print('TP=%d FP=%d TN=%d FN=%d' % (TP, FP, TN, FN))\n",
    "        loss1 = loss_function(output, lb)\n",
    "        loss1.backward()\n",
    "        train_loss += loss1.item()\n",
    "        optimizer.step()\n",
    "        torch.nn.utils.clip_grad_norm_(net.parameters(), 5.0)\n",
    "        if batch_idx % 100 == 0:\n",
    "            print('Train Epoch: {} [{}/{} ({:.0f}%)]\\tLoss: {:.6f}'.format(\n",
    "                epoch, batch_idx * len(inputs), len(train_loader.dataset),\n",
    "                       100. * batch_idx / len(train_loader),\n",
    "                       loss1.item() / len(inputs)))\n",
    "            accuracy = (totTP + totTN) / (totTP+totFP+totTN+totFN) * 100.0\n",
    "            print('Accuracy:', accuracy)"
   ]
  },
  {
   "cell_type": "code",
   "execution_count": 117,
   "id": "6cde2800",
   "metadata": {},
   "outputs": [
    {
     "name": "stdout",
     "output_type": "stream",
     "text": [
      "length : 23158\n",
      "epoch : 1\n"
     ]
    },
    {
     "data": {
      "application/vnd.jupyter.widget-view+json": {
       "model_id": "11c27293173d44e4b85bd60a606548ad",
       "version_major": 2,
       "version_minor": 0
      },
      "text/plain": [
       "HBox(children=(IntProgress(value=0, description='Iteration', max=91, style=ProgressStyle(description_width='in…"
      ]
     },
     "metadata": {},
     "output_type": "display_data"
    },
    {
     "name": "stdout",
     "output_type": "stream",
     "text": [
      "Train Epoch: 1 [0/23158 (0%)]\tLoss: 1044.464233\n",
      "\n",
      "epoch : 2\n"
     ]
    },
    {
     "data": {
      "application/vnd.jupyter.widget-view+json": {
       "model_id": "7007fe0efb184729b7fbbd90a099b63f",
       "version_major": 2,
       "version_minor": 0
      },
      "text/plain": [
       "HBox(children=(IntProgress(value=0, description='Iteration', max=91, style=ProgressStyle(description_width='in…"
      ]
     },
     "metadata": {},
     "output_type": "display_data"
    },
    {
     "name": "stdout",
     "output_type": "stream",
     "text": [
      "Train Epoch: 2 [0/23158 (0%)]\tLoss: 269.999084\n",
      "\n",
      "epoch : 3\n"
     ]
    },
    {
     "data": {
      "application/vnd.jupyter.widget-view+json": {
       "model_id": "37ae3c0e710e4a73acd5d23f8065288a",
       "version_major": 2,
       "version_minor": 0
      },
      "text/plain": [
       "HBox(children=(IntProgress(value=0, description='Iteration', max=91, style=ProgressStyle(description_width='in…"
      ]
     },
     "metadata": {},
     "output_type": "display_data"
    },
    {
     "name": "stdout",
     "output_type": "stream",
     "text": [
      "Train Epoch: 3 [0/23158 (0%)]\tLoss: 262.287842\n",
      "\n",
      "epoch : 4\n"
     ]
    },
    {
     "data": {
      "application/vnd.jupyter.widget-view+json": {
       "model_id": "03b63c68ff75463283c9b4bda612d769",
       "version_major": 2,
       "version_minor": 0
      },
      "text/plain": [
       "HBox(children=(IntProgress(value=0, description='Iteration', max=91, style=ProgressStyle(description_width='in…"
      ]
     },
     "metadata": {},
     "output_type": "display_data"
    },
    {
     "name": "stdout",
     "output_type": "stream",
     "text": [
      "Train Epoch: 4 [0/23158 (0%)]\tLoss: 243.570770\n",
      "\n",
      "epoch : 5\n"
     ]
    },
    {
     "data": {
      "application/vnd.jupyter.widget-view+json": {
       "model_id": "c4a4c5cec981463a8e962b236301b42f",
       "version_major": 2,
       "version_minor": 0
      },
      "text/plain": [
       "HBox(children=(IntProgress(value=0, description='Iteration', max=91, style=ProgressStyle(description_width='in…"
      ]
     },
     "metadata": {},
     "output_type": "display_data"
    },
    {
     "name": "stdout",
     "output_type": "stream",
     "text": [
      "Train Epoch: 5 [0/23158 (0%)]\tLoss: 235.618652\n",
      "\n",
      "epoch : 6\n"
     ]
    },
    {
     "data": {
      "application/vnd.jupyter.widget-view+json": {
       "model_id": "01842c4ae58d49238a40b6a544542582",
       "version_major": 2,
       "version_minor": 0
      },
      "text/plain": [
       "HBox(children=(IntProgress(value=0, description='Iteration', max=91, style=ProgressStyle(description_width='in…"
      ]
     },
     "metadata": {},
     "output_type": "display_data"
    },
    {
     "name": "stdout",
     "output_type": "stream",
     "text": [
      "Train Epoch: 6 [0/23158 (0%)]\tLoss: 190.989853\n",
      "\n",
      "epoch : 7\n"
     ]
    },
    {
     "data": {
      "application/vnd.jupyter.widget-view+json": {
       "model_id": "d43dc03a9a6a4836a35e2c4c89195ebb",
       "version_major": 2,
       "version_minor": 0
      },
      "text/plain": [
       "HBox(children=(IntProgress(value=0, description='Iteration', max=91, style=ProgressStyle(description_width='in…"
      ]
     },
     "metadata": {},
     "output_type": "display_data"
    },
    {
     "name": "stdout",
     "output_type": "stream",
     "text": [
      "Train Epoch: 7 [0/23158 (0%)]\tLoss: 176.991058\n",
      "\n",
      "epoch : 8\n"
     ]
    },
    {
     "data": {
      "application/vnd.jupyter.widget-view+json": {
       "model_id": "66eddb1b1bcb4be58324a840a3f1f2e6",
       "version_major": 2,
       "version_minor": 0
      },
      "text/plain": [
       "HBox(children=(IntProgress(value=0, description='Iteration', max=91, style=ProgressStyle(description_width='in…"
      ]
     },
     "metadata": {},
     "output_type": "display_data"
    },
    {
     "name": "stdout",
     "output_type": "stream",
     "text": [
      "Train Epoch: 8 [0/23158 (0%)]\tLoss: 157.473129\n",
      "\n",
      "epoch : 9\n"
     ]
    },
    {
     "data": {
      "application/vnd.jupyter.widget-view+json": {
       "model_id": "ba31e16d73e74c40b95bdea77494fcef",
       "version_major": 2,
       "version_minor": 0
      },
      "text/plain": [
       "HBox(children=(IntProgress(value=0, description='Iteration', max=91, style=ProgressStyle(description_width='in…"
      ]
     },
     "metadata": {},
     "output_type": "display_data"
    },
    {
     "name": "stdout",
     "output_type": "stream",
     "text": [
      "Train Epoch: 9 [0/23158 (0%)]\tLoss: 136.068420\n",
      "\n",
      "epoch : 10\n"
     ]
    },
    {
     "data": {
      "application/vnd.jupyter.widget-view+json": {
       "model_id": "9c01004b4be541cb9644a32264ef4392",
       "version_major": 2,
       "version_minor": 0
      },
      "text/plain": [
       "HBox(children=(IntProgress(value=0, description='Iteration', max=91, style=ProgressStyle(description_width='in…"
      ]
     },
     "metadata": {},
     "output_type": "display_data"
    },
    {
     "name": "stdout",
     "output_type": "stream",
     "text": [
      "Train Epoch: 10 [0/23158 (0%)]\tLoss: 124.688652\n",
      "\n"
     ]
    }
   ],
   "source": [
    "\n",
    "model = Anomaly(WINDOW_SIZE)\n",
    "\n",
    "if torch.cuda.is_available():\n",
    "    net = model.cuda()\n",
    "    gpu_num = torch.cuda.device_count()\n",
    "    net = torch.nn.DataParallel(net, list(range(gpu_num)))\n",
    "    print(net)\n",
    "else:\n",
    "    net = model.cpu()\n",
    "\n",
    "base_lr = LEARNING_RATE\n",
    "bp_parameters = filter(lambda p: p.requires_grad, net.parameters()) # back propagation parameters\n",
    "optimizer = optim.SGD(bp_parameters, lr=base_lr, momentum=0.9, weight_decay=0.0)\n",
    "\n",
    "gen_data = gen_set(WINDOW_SIZE, training_data)\n",
    "\n",
    "for epoch in range(1, EPOCHS + 1):\n",
    "    print('epoch :', epoch)\n",
    "    train(epoch, net, gen_data, optimizer)\n",
    "    adjust_lr(optimizer, epoch)"
   ]
  },
  {
   "cell_type": "markdown",
   "id": "2964134b",
   "metadata": {},
   "source": [
    "# Testing"
   ]
  },
  {
   "cell_type": "code",
   "execution_count": 122,
   "id": "41b6aa38",
   "metadata": {},
   "outputs": [],
   "source": [
    "import pandas as pd\n",
    "TEST_DATA_PATH=os.getcwd()+'/../sr-cnn/test.hdf'\n",
    "test_data = pd.read_hdf(TEST_DATA_PATH)"
   ]
  },
  {
   "cell_type": "code",
   "execution_count": 132,
   "id": "a25122cc",
   "metadata": {},
   "outputs": [],
   "source": [
    "z=21\n",
    "extend_num= 5\n",
    "tau = 3\n",
    "backaddnum = 5\n",
    "back = 0\n",
    "step= 1\n",
    "threshold = 0.95\n",
    "\n",
    "def modelwork(x, net):\n",
    "    with torch.no_grad():\n",
    "        x = torch.from_numpy(100 * x).float()\n",
    "        x = torch.unsqueeze(x, 0)\n",
    "        x = Var(x)\n",
    "        output = net(x)\n",
    "    aa = output.detach().cpu().numpy().reshape(-1)\n",
    "    res = np.zeros(aa.shape, np.int64)\n",
    "    res[aa > threshold] = 1\n",
    "    return res, aa"
   ]
  },
  {
   "cell_type": "code",
   "execution_count": 137,
   "id": "18af9f5c",
   "metadata": {},
   "outputs": [],
   "source": [
    "def predict(timestamp, value, label):\n",
    "    length = len(timestamp)\n",
    "    detres = [0] * (WINDOW_SIZE - backaddnum)\n",
    "    scores = [0] * (WINDOW_SIZE - backaddnum)\n",
    "\n",
    "    for pt in tqdm(range(WINDOW_SIZE - backaddnum + back + step, length - back, step)):\n",
    "        head = max(0, pt - (WINDOW_SIZE - backaddnum))\n",
    "        tail = min(length, pt)\n",
    "        wave = np.array(extend_series(value[head:tail + back]))\n",
    "        mag = spectral_residual(wave)\n",
    "        modeloutput, rawout = modelwork(mag, net)\n",
    "        for ipt in range(pt - step - back, pt - back):\n",
    "            detres.append(modeloutput[ipt - head])\n",
    "            scores.append(rawout[ipt - head].item())\n",
    "    detres += [0] * (length - len(detres))\n",
    "    scores += [0] * (length - len(scores))\n",
    "\n",
    "    last = -1\n",
    "    interval = min([timestamp[i] - timestamp[i - 1] for i in range(1, len(timestamp))])\n",
    "    for i in range(1, len(timestamp)):\n",
    "        if timestamp[i] - timestamp[i - 1] > interval:\n",
    "            if last >= 0 and i - last < 1000:\n",
    "                detres[i] = 1\n",
    "                scores[i] = 1\n",
    "        if detres[i] == 1:\n",
    "            last = i\n",
    "\n",
    "    return timestamp[:], label[:], detres[:], scores[:]"
   ]
  },
  {
   "cell_type": "code",
   "execution_count": 138,
   "id": "b6925299",
   "metadata": {},
   "outputs": [
    {
     "data": {
      "application/vnd.jupyter.widget-view+json": {
       "model_id": "7a079b3e17a44186816a65806e06696f",
       "version_major": 2,
       "version_minor": 0
      },
      "text/plain": [
       "HBox(children=(IntProgress(value=0, max=147694), HTML(value='')))"
      ]
     },
     "metadata": {},
     "output_type": "display_data"
    },
    {
     "name": "stdout",
     "output_type": "stream",
     "text": [
      "\n"
     ]
    },
    {
     "data": {
      "application/vnd.jupyter.widget-view+json": {
       "model_id": "ad314783498040edba35f231c3c0cc73",
       "version_major": 2,
       "version_minor": 0
      },
      "text/plain": [
       "HBox(children=(IntProgress(value=0, max=7348), HTML(value='')))"
      ]
     },
     "metadata": {},
     "output_type": "display_data"
    },
    {
     "name": "stdout",
     "output_type": "stream",
     "text": [
      "\n"
     ]
    },
    {
     "data": {
      "application/vnd.jupyter.widget-view+json": {
       "model_id": "5ec587de2f484bd6a6ea159517d14108",
       "version_major": 2,
       "version_minor": 0
      },
      "text/plain": [
       "HBox(children=(IntProgress(value=0, max=147720), HTML(value='')))"
      ]
     },
     "metadata": {},
     "output_type": "display_data"
    },
    {
     "name": "stdout",
     "output_type": "stream",
     "text": [
      "\n"
     ]
    },
    {
     "data": {
      "application/vnd.jupyter.widget-view+json": {
       "model_id": "88dcb83e17674d93a7a1539b3e1022d4",
       "version_major": 2,
       "version_minor": 0
      },
      "text/plain": [
       "HBox(children=(IntProgress(value=0, max=7348), HTML(value='')))"
      ]
     },
     "metadata": {},
     "output_type": "display_data"
    },
    {
     "name": "stdout",
     "output_type": "stream",
     "text": [
      "\n"
     ]
    },
    {
     "data": {
      "application/vnd.jupyter.widget-view+json": {
       "model_id": "832bb20693604e8d9a33b7c17d6ad4eb",
       "version_major": 2,
       "version_minor": 0
      },
      "text/plain": [
       "HBox(children=(IntProgress(value=0, max=147725), HTML(value='')))"
      ]
     },
     "metadata": {},
     "output_type": "display_data"
    },
    {
     "name": "stdout",
     "output_type": "stream",
     "text": [
      "\n"
     ]
    },
    {
     "data": {
      "application/vnd.jupyter.widget-view+json": {
       "model_id": "d7d663e5ad7d4d94a1a0c04b0fc77b6d",
       "version_major": 2,
       "version_minor": 0
      },
      "text/plain": [
       "HBox(children=(IntProgress(value=0, max=109193), HTML(value='')))"
      ]
     },
     "metadata": {},
     "output_type": "display_data"
    },
    {
     "name": "stdout",
     "output_type": "stream",
     "text": [
      "\n"
     ]
    },
    {
     "data": {
      "application/vnd.jupyter.widget-view+json": {
       "model_id": "daa9897f7487407bbc8e5c38d5b60dd9",
       "version_major": 2,
       "version_minor": 0
      },
      "text/plain": [
       "HBox(children=(IntProgress(value=0, max=110130), HTML(value='')))"
      ]
     },
     "metadata": {},
     "output_type": "display_data"
    },
    {
     "name": "stdout",
     "output_type": "stream",
     "text": [
      "\n"
     ]
    },
    {
     "data": {
      "application/vnd.jupyter.widget-view+json": {
       "model_id": "c317601d738c49c6b9eebccc0b12df44",
       "version_major": 2,
       "version_minor": 0
      },
      "text/plain": [
       "HBox(children=(IntProgress(value=0, max=109934), HTML(value='')))"
      ]
     },
     "metadata": {},
     "output_type": "display_data"
    },
    {
     "name": "stdout",
     "output_type": "stream",
     "text": [
      "\n"
     ]
    },
    {
     "data": {
      "application/vnd.jupyter.widget-view+json": {
       "model_id": "6a745bff3d9e41f4884f420f352039a7",
       "version_major": 2,
       "version_minor": 0
      },
      "text/plain": [
       "HBox(children=(IntProgress(value=0, max=6180), HTML(value='')))"
      ]
     },
     "metadata": {},
     "output_type": "display_data"
    },
    {
     "name": "stdout",
     "output_type": "stream",
     "text": [
      "\n"
     ]
    },
    {
     "data": {
      "application/vnd.jupyter.widget-view+json": {
       "model_id": "47f6c8ab140b49bfb482c1f9ff8c69e4",
       "version_major": 2,
       "version_minor": 0
      },
      "text/plain": [
       "HBox(children=(IntProgress(value=0, max=147697), HTML(value='')))"
      ]
     },
     "metadata": {},
     "output_type": "display_data"
    },
    {
     "name": "stdout",
     "output_type": "stream",
     "text": [
      "\n"
     ]
    },
    {
     "data": {
      "application/vnd.jupyter.widget-view+json": {
       "model_id": "02f7506f11eb42318d48922a1f35665a",
       "version_major": 2,
       "version_minor": 0
      },
      "text/plain": [
       "HBox(children=(IntProgress(value=0, max=110243), HTML(value='')))"
      ]
     },
     "metadata": {},
     "output_type": "display_data"
    },
    {
     "name": "stdout",
     "output_type": "stream",
     "text": [
      "\n"
     ]
    },
    {
     "data": {
      "application/vnd.jupyter.widget-view+json": {
       "model_id": "245f5646a95e4eb495b49f417e08d391",
       "version_major": 2,
       "version_minor": 0
      },
      "text/plain": [
       "HBox(children=(IntProgress(value=0, max=109440), HTML(value='')))"
      ]
     },
     "metadata": {},
     "output_type": "display_data"
    },
    {
     "name": "stdout",
     "output_type": "stream",
     "text": [
      "\n"
     ]
    },
    {
     "data": {
      "application/vnd.jupyter.widget-view+json": {
       "model_id": "87518986b3674f38b447dacaff0918b1",
       "version_major": 2,
       "version_minor": 0
      },
      "text/plain": [
       "HBox(children=(IntProgress(value=0, max=147686), HTML(value='')))"
      ]
     },
     "metadata": {},
     "output_type": "display_data"
    },
    {
     "name": "stdout",
     "output_type": "stream",
     "text": [
      "\n"
     ]
    },
    {
     "data": {
      "application/vnd.jupyter.widget-view+json": {
       "model_id": "cf84b3c6cf394b22bf647e822e229fd5",
       "version_major": 2,
       "version_minor": 0
      },
      "text/plain": [
       "HBox(children=(IntProgress(value=0, max=147712), HTML(value='')))"
      ]
     },
     "metadata": {},
     "output_type": "display_data"
    },
    {
     "name": "stdout",
     "output_type": "stream",
     "text": [
      "\n"
     ]
    },
    {
     "data": {
      "application/vnd.jupyter.widget-view+json": {
       "model_id": "cc942d672db54a3192727fed7436143c",
       "version_major": 2,
       "version_minor": 0
      },
      "text/plain": [
       "HBox(children=(IntProgress(value=0, max=106989), HTML(value='')))"
      ]
     },
     "metadata": {},
     "output_type": "display_data"
    },
    {
     "name": "stdout",
     "output_type": "stream",
     "text": [
      "\n"
     ]
    },
    {
     "data": {
      "application/vnd.jupyter.widget-view+json": {
       "model_id": "9dcf1d30af52491298500ed566a57a99",
       "version_major": 2,
       "version_minor": 0
      },
      "text/plain": [
       "HBox(children=(IntProgress(value=0, max=147687), HTML(value='')))"
      ]
     },
     "metadata": {},
     "output_type": "display_data"
    },
    {
     "name": "stdout",
     "output_type": "stream",
     "text": [
      "\n"
     ]
    },
    {
     "data": {
      "application/vnd.jupyter.widget-view+json": {
       "model_id": "b4b008d0e0794b3088b7f1674258b797",
       "version_major": 2,
       "version_minor": 0
      },
      "text/plain": [
       "HBox(children=(IntProgress(value=0, max=147682), HTML(value='')))"
      ]
     },
     "metadata": {},
     "output_type": "display_data"
    },
    {
     "name": "stdout",
     "output_type": "stream",
     "text": [
      "\n"
     ]
    },
    {
     "data": {
      "application/vnd.jupyter.widget-view+json": {
       "model_id": "25b5535c4795487b9bcc69c702103a63",
       "version_major": 2,
       "version_minor": 0
      },
      "text/plain": [
       "HBox(children=(IntProgress(value=0, max=109200), HTML(value='')))"
      ]
     },
     "metadata": {},
     "output_type": "display_data"
    },
    {
     "name": "stdout",
     "output_type": "stream",
     "text": [
      "\n"
     ]
    },
    {
     "data": {
      "application/vnd.jupyter.widget-view+json": {
       "model_id": "02ae35d8dcdf4250ac23735e90ef0561",
       "version_major": 2,
       "version_minor": 0
      },
      "text/plain": [
       "HBox(children=(IntProgress(value=0, max=109871), HTML(value='')))"
      ]
     },
     "metadata": {},
     "output_type": "display_data"
    },
    {
     "name": "stdout",
     "output_type": "stream",
     "text": [
      "\n"
     ]
    },
    {
     "data": {
      "application/vnd.jupyter.widget-view+json": {
       "model_id": "6d486a6e1fc1456088d81d05ecb7c10c",
       "version_major": 2,
       "version_minor": 0
      },
      "text/plain": [
       "HBox(children=(IntProgress(value=0, max=6142), HTML(value='')))"
      ]
     },
     "metadata": {},
     "output_type": "display_data"
    },
    {
     "name": "stdout",
     "output_type": "stream",
     "text": [
      "\n"
     ]
    },
    {
     "data": {
      "application/vnd.jupyter.widget-view+json": {
       "model_id": "eb618668656c47aaaf0ea5c3e1d60d12",
       "version_major": 2,
       "version_minor": 0
      },
      "text/plain": [
       "HBox(children=(IntProgress(value=0, max=9344), HTML(value='')))"
      ]
     },
     "metadata": {},
     "output_type": "display_data"
    },
    {
     "name": "stdout",
     "output_type": "stream",
     "text": [
      "\n"
     ]
    },
    {
     "data": {
      "application/vnd.jupyter.widget-view+json": {
       "model_id": "22bbb97e8a69473f8fed7d2e4a923c0e",
       "version_major": 2,
       "version_minor": 0
      },
      "text/plain": [
       "HBox(children=(IntProgress(value=0, max=147719), HTML(value='')))"
      ]
     },
     "metadata": {},
     "output_type": "display_data"
    },
    {
     "name": "stdout",
     "output_type": "stream",
     "text": [
      "\n"
     ]
    },
    {
     "data": {
      "application/vnd.jupyter.widget-view+json": {
       "model_id": "c115e0431b7b454fa19e20e5d5c44c6e",
       "version_major": 2,
       "version_minor": 0
      },
      "text/plain": [
       "HBox(children=(IntProgress(value=0, max=147696), HTML(value='')))"
      ]
     },
     "metadata": {},
     "output_type": "display_data"
    },
    {
     "name": "stdout",
     "output_type": "stream",
     "text": [
      "\n"
     ]
    },
    {
     "data": {
      "application/vnd.jupyter.widget-view+json": {
       "model_id": "cbcd403fded74f6c95e0146972a9beea",
       "version_major": 2,
       "version_minor": 0
      },
      "text/plain": [
       "HBox(children=(IntProgress(value=0, max=7348), HTML(value='')))"
      ]
     },
     "metadata": {},
     "output_type": "display_data"
    },
    {
     "name": "stdout",
     "output_type": "stream",
     "text": [
      "\n"
     ]
    },
    {
     "data": {
      "application/vnd.jupyter.widget-view+json": {
       "model_id": "973e6bf9c51842789490bfb690c1cd71",
       "version_major": 2,
       "version_minor": 0
      },
      "text/plain": [
       "HBox(children=(IntProgress(value=0, max=147723), HTML(value='')))"
      ]
     },
     "metadata": {},
     "output_type": "display_data"
    },
    {
     "name": "stdout",
     "output_type": "stream",
     "text": [
      "\n"
     ]
    },
    {
     "data": {
      "application/vnd.jupyter.widget-view+json": {
       "model_id": "ac1445774a634a558f345b3b4fca3a34",
       "version_major": 2,
       "version_minor": 0
      },
      "text/plain": [
       "HBox(children=(IntProgress(value=0, max=105731), HTML(value='')))"
      ]
     },
     "metadata": {},
     "output_type": "display_data"
    },
    {
     "name": "stdout",
     "output_type": "stream",
     "text": [
      "\n"
     ]
    },
    {
     "data": {
      "application/vnd.jupyter.widget-view+json": {
       "model_id": "d024a3f44dbf420a8064b82248105546",
       "version_major": 2,
       "version_minor": 0
      },
      "text/plain": [
       "HBox(children=(IntProgress(value=0, max=7348), HTML(value='')))"
      ]
     },
     "metadata": {},
     "output_type": "display_data"
    },
    {
     "name": "stdout",
     "output_type": "stream",
     "text": [
      "\n"
     ]
    },
    {
     "data": {
      "application/vnd.jupyter.widget-view+json": {
       "model_id": "8510a1b750a4486abf472e4d3396db2b",
       "version_major": 2,
       "version_minor": 0
      },
      "text/plain": [
       "HBox(children=(IntProgress(value=0, max=110713), HTML(value='')))"
      ]
     },
     "metadata": {},
     "output_type": "display_data"
    },
    {
     "name": "stdout",
     "output_type": "stream",
     "text": [
      "\n"
     ]
    },
    {
     "data": {
      "application/vnd.jupyter.widget-view+json": {
       "model_id": "8bb00052dbf74ff7b82dd04f3def6e1e",
       "version_major": 2,
       "version_minor": 0
      },
      "text/plain": [
       "HBox(children=(IntProgress(value=0, max=109960), HTML(value='')))"
      ]
     },
     "metadata": {},
     "output_type": "display_data"
    },
    {
     "name": "stdout",
     "output_type": "stream",
     "text": [
      "\n"
     ]
    }
   ],
   "source": [
    "kpis = test_data.groupby(test_data[\"KPI ID\"])\n",
    "results = []\n",
    "savedscore = []\n",
    "\n",
    "for name, kpi in kpis:\n",
    "    in_timestamp = kpi['timestamp'].tolist()\n",
    "    in_value = kpi['value'].tolist()\n",
    "    in_label = kpi['label'].tolist()\n",
    "    timestamp, label, pre, scores = predict(in_timestamp, in_value, in_label)\n",
    "    results.append([timestamp, label, pre, name])\n",
    "    savedscore.append([label, scores, name, timestamp])"
   ]
  },
  {
   "cell_type": "code",
   "execution_count": 139,
   "id": "387cfbfd",
   "metadata": {},
   "outputs": [],
   "source": [
    "def reconstruct_label(timestamp, label):\n",
    "    timestamp = np.asarray(timestamp, np.int64)\n",
    "    index = np.argsort(timestamp)\n",
    "\n",
    "    timestamp_sorted = np.asarray(timestamp[index])\n",
    "    interval = np.min(np.diff(timestamp_sorted))\n",
    "\n",
    "    label = np.asarray(label, np.int64)\n",
    "    label = np.asarray(label[index])\n",
    "\n",
    "    idx = (timestamp_sorted - timestamp_sorted[0]) // interval\n",
    "\n",
    "    new_label = np.zeros(shape=((timestamp_sorted[-1] - timestamp_sorted[0]) // interval + 1,), dtype=np.int64)\n",
    "    new_label[idx] = label\n",
    "\n",
    "    return new_label"
   ]
  },
  {
   "cell_type": "code",
   "execution_count": 140,
   "id": "60294702",
   "metadata": {},
   "outputs": [],
   "source": [
    "def get_range_proba(predict, label, delay=7):\n",
    "    predict = np.array(predict)\n",
    "    label = np.array(label)\n",
    "\n",
    "    splits = np.where(label[1:] != label[:-1])[0] + 1\n",
    "    is_anomaly = label[0] == 1\n",
    "    new_predict = np.array(predict)\n",
    "    pos = 0\n",
    "\n",
    "    for sp in splits:\n",
    "        if is_anomaly:\n",
    "            if 1 in predict[pos:min(pos + delay + 1, sp)]:\n",
    "                new_predict[pos: sp] = 1\n",
    "            else:\n",
    "                new_predict[pos: sp] = 0\n",
    "        is_anomaly = not is_anomaly\n",
    "        pos = sp\n",
    "    sp = len(label)\n",
    "\n",
    "    if is_anomaly:\n",
    "        if 1 in predict[pos: min(pos + delay + 1, sp)]:\n",
    "            new_predict[pos: sp] = 1\n",
    "        else:\n",
    "            new_predict[pos: sp] = 0\n",
    "\n",
    "    return new_predict"
   ]
  },
  {
   "cell_type": "code",
   "execution_count": 141,
   "id": "9e2eceac",
   "metadata": {},
   "outputs": [],
   "source": [
    "def reconstruct_series(timestamp, label, predict, delay=7):\n",
    "    label = reconstruct_label(timestamp, label)\n",
    "    predict = reconstruct_label(timestamp, predict)\n",
    "    predict = get_range_proba(predict, label, delay)\n",
    "    return label.tolist(), predict.tolist()"
   ]
  },
  {
   "cell_type": "code",
   "execution_count": 142,
   "id": "cc676a03",
   "metadata": {},
   "outputs": [],
   "source": [
    "labels, predicts = [], []\n",
    "delay=7\n",
    "for timestamp, label, predict, _ in results:\n",
    "    if timestamp == []:\n",
    "        continue\n",
    "    lbl, pdt = reconstruct_series(timestamp, label, predict, delay)\n",
    "    labels += lbl\n",
    "    predicts += pdt"
   ]
  },
  {
   "cell_type": "code",
   "execution_count": 143,
   "id": "0f799032",
   "metadata": {},
   "outputs": [
    {
     "name": "stdout",
     "output_type": "stream",
     "text": [
      "TP=17221 FP=5069 TN=3013927 FN=37339\n",
      "precision 0.7725886047554957\n",
      "recall 0.3156341642228739\n",
      "f1 0.4481717631750162\n"
     ]
    }
   ],
   "source": [
    "from sklearn.metrics import f1_score, precision_score, recall_score\n",
    "f1 = f1_score(labels, predicts)\n",
    "pre = precision_score(labels, predicts)\n",
    "rec = recall_score(labels, predicts)\n",
    "TP, FP, TN, FN = calc(predicts, labels)\n",
    "print('precision', pre)\n",
    "print('recall', rec)\n",
    "print('f1', f1)"
   ]
  },
  {
   "cell_type": "code",
   "execution_count": null,
   "id": "dfa86843",
   "metadata": {},
   "outputs": [],
   "source": []
  }
 ],
 "metadata": {
  "kernelspec": {
   "display_name": "Python 3 (ipykernel)",
   "language": "python",
   "name": "python3"
  },
  "language_info": {
   "codemirror_mode": {
    "name": "ipython",
    "version": 3
   },
   "file_extension": ".py",
   "mimetype": "text/x-python",
   "name": "python",
   "nbconvert_exporter": "python",
   "pygments_lexer": "ipython3",
   "version": "3.9.9"
  },
  "widgets": {
   "application/vnd.jupyter.widget-state+json": {
    "state": {
     "15ca097dc9c149f993bcd47436c9b1ac": {
      "model_module": "@jupyter-widgets/controls",
      "model_module_version": "1.5.0",
      "model_name": "ProgressStyleModel",
      "state": {
       "description_width": "initial"
      }
     },
     "18485d853bef4753958fc616299ec775": {
      "model_module": "@jupyter-widgets/controls",
      "model_module_version": "1.5.0",
      "model_name": "DescriptionStyleModel",
      "state": {
       "description_width": ""
      }
     },
     "260bf5c568154dc0b4e8c6db789f52a9": {
      "model_module": "@jupyter-widgets/base",
      "model_module_version": "1.2.0",
      "model_name": "LayoutModel",
      "state": {}
     },
     "2dba0cfe6274434db7b214919ab18a88": {
      "model_module": "@jupyter-widgets/base",
      "model_module_version": "1.2.0",
      "model_name": "LayoutModel",
      "state": {}
     },
     "3fd843d251754fa593b2d6ae8564dd6d": {
      "model_module": "@jupyter-widgets/controls",
      "model_module_version": "1.5.0",
      "model_name": "DescriptionStyleModel",
      "state": {
       "description_width": ""
      }
     },
     "4148d66363404d439e171c7418cdf152": {
      "model_module": "@jupyter-widgets/controls",
      "model_module_version": "1.5.0",
      "model_name": "IntProgressModel",
      "state": {
       "bar_style": "danger",
       "description": "Iteration:   0%",
       "layout": "IPY_MODEL_f8b8cfc9ceb843b188db4d63620c8f6b",
       "max": 23158,
       "style": "IPY_MODEL_dc4a6538d0d641aab6e6709fad41c6e7"
      }
     },
     "41539a7860ea4a29ac54bfd8416affd8": {
      "model_module": "@jupyter-widgets/controls",
      "model_module_version": "1.5.0",
      "model_name": "HTMLModel",
      "state": {
       "layout": "IPY_MODEL_9830f5ac0dab4ff3a7c9b71be5f53d78",
       "style": "IPY_MODEL_3fd843d251754fa593b2d6ae8564dd6d",
       "value": " 0/23158 [00:38&lt;?, ?it/s]"
      }
     },
     "4532bd20deca46139ff618389102b4ed": {
      "model_module": "@jupyter-widgets/controls",
      "model_module_version": "1.5.0",
      "model_name": "IntProgressModel",
      "state": {
       "bar_style": "danger",
       "description": "Iteration:   0%",
       "layout": "IPY_MODEL_fd0dce41e7ec46d68e8f1bd867df6e6a",
       "max": 23158,
       "style": "IPY_MODEL_15ca097dc9c149f993bcd47436c9b1ac"
      }
     },
     "5a958a522023431c99defb8722c10c2a": {
      "model_module": "@jupyter-widgets/base",
      "model_module_version": "1.2.0",
      "model_name": "LayoutModel",
      "state": {}
     },
     "5ab271503a3647cb8c6320f6b412c092": {
      "model_module": "@jupyter-widgets/base",
      "model_module_version": "1.2.0",
      "model_name": "LayoutModel",
      "state": {}
     },
     "5f02b9637cc84dc3858f662bcb7b93a7": {
      "model_module": "@jupyter-widgets/controls",
      "model_module_version": "1.5.0",
      "model_name": "HBoxModel",
      "state": {
       "children": [
        "IPY_MODEL_edc1452526fa43c19e3f12d625646f5d",
        "IPY_MODEL_d2bfa256ca1e4c53a0f2ea90cd8bf6ea"
       ],
       "layout": "IPY_MODEL_73515a24d01847c2acd67eb5454d6bb8"
      }
     },
     "73515a24d01847c2acd67eb5454d6bb8": {
      "model_module": "@jupyter-widgets/base",
      "model_module_version": "1.2.0",
      "model_name": "LayoutModel",
      "state": {}
     },
     "7d840950f0c74164b12b32f6307352f7": {
      "model_module": "@jupyter-widgets/controls",
      "model_module_version": "1.5.0",
      "model_name": "HBoxModel",
      "state": {
       "children": [
        "IPY_MODEL_4148d66363404d439e171c7418cdf152",
        "IPY_MODEL_41539a7860ea4a29ac54bfd8416affd8"
       ],
       "layout": "IPY_MODEL_e4683a00e93d4a4d90d5847c994e725f"
      }
     },
     "7e1dc7f7714a4a708356b9daa6aa02a3": {
      "model_module": "@jupyter-widgets/controls",
      "model_module_version": "1.5.0",
      "model_name": "HBoxModel",
      "state": {
       "children": [
        "IPY_MODEL_4532bd20deca46139ff618389102b4ed",
        "IPY_MODEL_a3a56ae2d34344a7a65a701ea777b735"
       ],
       "layout": "IPY_MODEL_2dba0cfe6274434db7b214919ab18a88"
      }
     },
     "9830f5ac0dab4ff3a7c9b71be5f53d78": {
      "model_module": "@jupyter-widgets/base",
      "model_module_version": "1.2.0",
      "model_name": "LayoutModel",
      "state": {}
     },
     "9cbbae96b9d643358a957a394b81ac67": {
      "model_module": "@jupyter-widgets/controls",
      "model_module_version": "1.5.0",
      "model_name": "ProgressStyleModel",
      "state": {
       "description_width": "initial"
      }
     },
     "a3a56ae2d34344a7a65a701ea777b735": {
      "model_module": "@jupyter-widgets/controls",
      "model_module_version": "1.5.0",
      "model_name": "HTMLModel",
      "state": {
       "layout": "IPY_MODEL_5ab271503a3647cb8c6320f6b412c092",
       "style": "IPY_MODEL_d2a3407985834577abc3ab491ec03523",
       "value": " 0/23158 [05:48&lt;?, ?it/s]"
      }
     },
     "d2a3407985834577abc3ab491ec03523": {
      "model_module": "@jupyter-widgets/controls",
      "model_module_version": "1.5.0",
      "model_name": "DescriptionStyleModel",
      "state": {
       "description_width": ""
      }
     },
     "d2bfa256ca1e4c53a0f2ea90cd8bf6ea": {
      "model_module": "@jupyter-widgets/controls",
      "model_module_version": "1.5.0",
      "model_name": "HTMLModel",
      "state": {
       "layout": "IPY_MODEL_5a958a522023431c99defb8722c10c2a",
       "style": "IPY_MODEL_18485d853bef4753958fc616299ec775",
       "value": " 0/23158 [05:18&lt;?, ?it/s]"
      }
     },
     "dc4a6538d0d641aab6e6709fad41c6e7": {
      "model_module": "@jupyter-widgets/controls",
      "model_module_version": "1.5.0",
      "model_name": "ProgressStyleModel",
      "state": {
       "description_width": "initial"
      }
     },
     "e4683a00e93d4a4d90d5847c994e725f": {
      "model_module": "@jupyter-widgets/base",
      "model_module_version": "1.2.0",
      "model_name": "LayoutModel",
      "state": {}
     },
     "edc1452526fa43c19e3f12d625646f5d": {
      "model_module": "@jupyter-widgets/controls",
      "model_module_version": "1.5.0",
      "model_name": "IntProgressModel",
      "state": {
       "bar_style": "danger",
       "description": "Iteration:   0%",
       "layout": "IPY_MODEL_260bf5c568154dc0b4e8c6db789f52a9",
       "max": 23158,
       "style": "IPY_MODEL_9cbbae96b9d643358a957a394b81ac67"
      }
     },
     "f8b8cfc9ceb843b188db4d63620c8f6b": {
      "model_module": "@jupyter-widgets/base",
      "model_module_version": "1.2.0",
      "model_name": "LayoutModel",
      "state": {}
     },
     "fd0dce41e7ec46d68e8f1bd867df6e6a": {
      "model_module": "@jupyter-widgets/base",
      "model_module_version": "1.2.0",
      "model_name": "LayoutModel",
      "state": {}
     }
    },
    "version_major": 2,
    "version_minor": 0
   }
  }
 },
 "nbformat": 4,
 "nbformat_minor": 5
}
